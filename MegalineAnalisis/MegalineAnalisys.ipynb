{
 "cells": [
  {
   "cell_type": "markdown",
   "metadata": {},
   "source": [
    "---"
   ]
  },
  {
   "cell_type": "markdown",
   "metadata": {
    "id": "3rYiDeEH0q0f"
   },
   "source": [
    "# ¿Cuál es la mejor tarifa?\n",
    "\n",
    "📊 Introducción\n",
    "\n",
    "Este proyecto se desarrolla en el contexto de Megaline, un operador de telecomunicaciones que ofrece dos planes de prepago: Surf y Ultimate. El objetivo principal es ayudar al departamento comercial a identificar cuál de estas dos tarifas genera mayores ingresos, con el fin de optimizar la asignación del presupuesto publicitario.\n",
    "\n",
    "Para ello, se llevará a cabo un análisis exploratorio de datos utilizando una muestra de 500 clientes, la cual incluye información demográfica (como ciudad de origen), el tipo de tarifa contratada, y su comportamiento durante el año 2018 en términos de llamadas realizadas y mensajes enviados.\n",
    "\n",
    "A través de este análisis se buscará:\n",
    "\n",
    "Comprender el uso del servicio por parte de los clientes según la tarifa.\n",
    "\n",
    "Calcular los ingresos generados por cada cliente.\n",
    "\n",
    "Evaluar cuál tarifa es más rentable para la empresa.\n",
    "\n",
    "Este estudio servirá como base para tomar decisiones estratégicas informadas sobre campañas de marketing, ajustes de tarifas y orientación comercial."
   ]
  },
  {
   "cell_type": "markdown",
   "metadata": {
    "id": "MQi4IPy70q0y"
   },
   "source": [
    "## Inicialización"
   ]
  },
  {
   "cell_type": "code",
   "execution_count": null,
   "metadata": {
    "id": "MtYIuBxu0q0z"
   },
   "outputs": [],
   "source": [
    "# Cargar todas las librerías\n",
    "import numpy as np\n",
    "from scipy import stats as st\n",
    "import pandas as pd\n",
    "import math\n",
    "from matplotlib import pyplot as plt"
   ]
  },
  {
   "cell_type": "markdown",
   "metadata": {
    "id": "4ysWWC5i0q00"
   },
   "source": [
    "## Cargar datos"
   ]
  },
  {
   "cell_type": "code",
   "execution_count": null,
   "metadata": {
    "id": "CCqPW7rS0q01"
   },
   "outputs": [],
   "source": [
    "# Carga los archivos de datos en diferentes DataFrames\n",
    "users_df = pd.read_csv(\"megaline_users.csv\")\n",
    "calls_df = pd.read_csv(\"megaline_calls.csv\")\n",
    "messages_df = pd.read_csv(\"megaline_messages.csv\")\n",
    "internet_df = pd.read_csv(\"megaline_internet.csv\")\n",
    "plans_df = pd.read_csv(\"megaline_plans.csv\")"
   ]
  },
  {
   "cell_type": "markdown",
   "metadata": {
    "id": "69qqoJ3r0q01"
   },
   "source": [
    "## Preparar los datos"
   ]
  },
  {
   "cell_type": "markdown",
   "metadata": {
    "id": "vUuZw80S0q01"
   },
   "source": [
    "En este bloque, vamos a revisar la informacion de manera general para cada tabla, asi como analizar si cuenta con errores, como valores austenes o duplicados. En caso de encontrar este tipo de detalles, estos se van a analizar, tratar de explicar que sucedio y corregirlos para que no afecten en la intepretacion de los resultados."
   ]
  },
  {
   "cell_type": "markdown",
   "metadata": {
    "id": "ohBhimvH0q01"
   },
   "source": [
    "## Tarifas"
   ]
  },
  {
   "cell_type": "code",
   "execution_count": null,
   "metadata": {
    "id": "GptqP3Q40q02"
   },
   "outputs": [
    {
     "name": "stdout",
     "output_type": "stream",
     "text": [
      "<class 'pandas.core.frame.DataFrame'>\n",
      "RangeIndex: 2 entries, 0 to 1\n",
      "Data columns (total 8 columns):\n",
      " #   Column                 Non-Null Count  Dtype  \n",
      "---  ------                 --------------  -----  \n",
      " 0   messages_included      2 non-null      int64  \n",
      " 1   mb_per_month_included  2 non-null      int64  \n",
      " 2   minutes_included       2 non-null      int64  \n",
      " 3   usd_monthly_pay        2 non-null      int64  \n",
      " 4   usd_per_gb             2 non-null      int64  \n",
      " 5   usd_per_message        2 non-null      float64\n",
      " 6   usd_per_minute         2 non-null      float64\n",
      " 7   plan_name              2 non-null      object \n",
      "dtypes: float64(2), int64(5), object(1)\n",
      "memory usage: 256.0+ bytes\n",
      "None\n",
      "\n",
      "Valores nulos:  messages_included        0\n",
      "mb_per_month_included    0\n",
      "minutes_included         0\n",
      "usd_monthly_pay          0\n",
      "usd_per_gb               0\n",
      "usd_per_message          0\n",
      "usd_per_minute           0\n",
      "plan_name                0\n",
      "dtype: int64\n",
      "\n",
      "Valores duplciados:  0\n"
     ]
    }
   ],
   "source": [
    "# Imprime la información general/resumida sobre el DataFrame de las tarifas\n",
    "\n",
    "print(plans_df.info())\n",
    "print()\n",
    "print(\"Valores nulos: \", plans_df.isnull().sum())\n",
    "print()\n",
    "print(\"Valores duplciados: \", plans_df.duplicated().sum())"
   ]
  },
  {
   "cell_type": "code",
   "execution_count": null,
   "metadata": {
    "id": "64xzjwL70q02"
   },
   "outputs": [
    {
     "data": {
      "text/html": [
       "<div>\n",
       "<style scoped>\n",
       "    .dataframe tbody tr th:only-of-type {\n",
       "        vertical-align: middle;\n",
       "    }\n",
       "\n",
       "    .dataframe tbody tr th {\n",
       "        vertical-align: top;\n",
       "    }\n",
       "\n",
       "    .dataframe thead th {\n",
       "        text-align: right;\n",
       "    }\n",
       "</style>\n",
       "<table border=\"1\" class=\"dataframe\">\n",
       "  <thead>\n",
       "    <tr style=\"text-align: right;\">\n",
       "      <th></th>\n",
       "      <th>messages_included</th>\n",
       "      <th>mb_per_month_included</th>\n",
       "      <th>minutes_included</th>\n",
       "      <th>usd_monthly_pay</th>\n",
       "      <th>usd_per_gb</th>\n",
       "      <th>usd_per_message</th>\n",
       "      <th>usd_per_minute</th>\n",
       "      <th>plan_name</th>\n",
       "    </tr>\n",
       "  </thead>\n",
       "  <tbody>\n",
       "    <tr>\n",
       "      <th>0</th>\n",
       "      <td>50</td>\n",
       "      <td>15360</td>\n",
       "      <td>500</td>\n",
       "      <td>20</td>\n",
       "      <td>10</td>\n",
       "      <td>0.03</td>\n",
       "      <td>0.03</td>\n",
       "      <td>surf</td>\n",
       "    </tr>\n",
       "    <tr>\n",
       "      <th>1</th>\n",
       "      <td>1000</td>\n",
       "      <td>30720</td>\n",
       "      <td>3000</td>\n",
       "      <td>70</td>\n",
       "      <td>7</td>\n",
       "      <td>0.01</td>\n",
       "      <td>0.01</td>\n",
       "      <td>ultimate</td>\n",
       "    </tr>\n",
       "  </tbody>\n",
       "</table>\n",
       "</div>"
      ],
      "text/plain": [
       "   messages_included  mb_per_month_included  minutes_included  \\\n",
       "0                 50                  15360               500   \n",
       "1               1000                  30720              3000   \n",
       "\n",
       "   usd_monthly_pay  usd_per_gb  usd_per_message  usd_per_minute plan_name  \n",
       "0               20          10             0.03            0.03      surf  \n",
       "1               70           7             0.01            0.01  ultimate  "
      ]
     },
     "metadata": {},
     "output_type": "display_data"
    }
   ],
   "source": [
    "# Imprime una muestra de los datos para las tarifas\n",
    "\n",
    "display(plans_df.head())\n",
    "\n"
   ]
  },
  {
   "cell_type": "markdown",
   "metadata": {
    "id": "mEc_3_hs0q02"
   },
   "source": [
    "Para analizar la tabla de los Planes [plans_df], se realizo un muestra de su informacion con el (metodo .info()). Esta tabla no muestra valores nulos (metodo .isnull().sum()), los datos se encuentran con los tipios de datos adecuados y no encontramos valores duplicados (metodo .duplicated().sum()).\n",
    "\n",
    "Los valores de la primera fila indica el plan \"Surf\" y la segunda \"Ultimate\". ambas tienen valores incorrectos en la columna de mg incluidos por mes, 15360 y 30720 respectivamente.\n",
    "\n",
    "Vamos a corregir estos datos directamente desde la columna en la celda a continuacion."
   ]
  },
  {
   "cell_type": "markdown",
   "metadata": {
    "id": "R3C05i1l0q03"
   },
   "source": [
    "## Corregir datos"
   ]
  },
  {
   "cell_type": "markdown",
   "metadata": {
    "id": "bIi8StZI0q03"
   },
   "source": [
    "Cambiamos el valor de los mb por mes de 15360 y 30750 a 15000 y 30000 correspondientemente y asi poder analizar la infomracion partiendo de los datos correctos.\n"
   ]
  },
  {
   "cell_type": "code",
   "execution_count": null,
   "metadata": {
    "id": "Y7SVmjGn0q03"
   },
   "outputs": [
    {
     "data": {
      "text/html": [
       "<div>\n",
       "<style scoped>\n",
       "    .dataframe tbody tr th:only-of-type {\n",
       "        vertical-align: middle;\n",
       "    }\n",
       "\n",
       "    .dataframe tbody tr th {\n",
       "        vertical-align: top;\n",
       "    }\n",
       "\n",
       "    .dataframe thead th {\n",
       "        text-align: right;\n",
       "    }\n",
       "</style>\n",
       "<table border=\"1\" class=\"dataframe\">\n",
       "  <thead>\n",
       "    <tr style=\"text-align: right;\">\n",
       "      <th></th>\n",
       "      <th>messages_included</th>\n",
       "      <th>mb_per_month_included</th>\n",
       "      <th>minutes_included</th>\n",
       "      <th>usd_monthly_pay</th>\n",
       "      <th>usd_per_gb</th>\n",
       "      <th>usd_per_message</th>\n",
       "      <th>usd_per_minute</th>\n",
       "      <th>plan_name</th>\n",
       "    </tr>\n",
       "  </thead>\n",
       "  <tbody>\n",
       "    <tr>\n",
       "      <th>0</th>\n",
       "      <td>50</td>\n",
       "      <td>15360</td>\n",
       "      <td>500</td>\n",
       "      <td>20</td>\n",
       "      <td>10</td>\n",
       "      <td>0.03</td>\n",
       "      <td>0.03</td>\n",
       "      <td>surf</td>\n",
       "    </tr>\n",
       "    <tr>\n",
       "      <th>1</th>\n",
       "      <td>1000</td>\n",
       "      <td>30720</td>\n",
       "      <td>3000</td>\n",
       "      <td>70</td>\n",
       "      <td>7</td>\n",
       "      <td>0.01</td>\n",
       "      <td>0.01</td>\n",
       "      <td>ultimate</td>\n",
       "    </tr>\n",
       "  </tbody>\n",
       "</table>\n",
       "</div>"
      ],
      "text/plain": [
       "   messages_included  mb_per_month_included  minutes_included  \\\n",
       "0                 50                  15360               500   \n",
       "1               1000                  30720              3000   \n",
       "\n",
       "   usd_monthly_pay  usd_per_gb  usd_per_message  usd_per_minute plan_name  \n",
       "0               20          10             0.03            0.03      surf  \n",
       "1               70           7             0.01            0.01  ultimate  "
      ]
     },
     "metadata": {},
     "output_type": "display_data"
    }
   ],
   "source": [
    "display(plans_df.head())"
   ]
  },
  {
   "cell_type": "markdown",
   "metadata": {
    "id": "LJir7bml0q03"
   },
   "source": [
    "## Enriquecer los datos"
   ]
  },
  {
   "cell_type": "markdown",
   "metadata": {
    "id": "1n2X6WXf0q04"
   },
   "source": [
    "## Usuarios/as"
   ]
  },
  {
   "cell_type": "code",
   "execution_count": null,
   "metadata": {
    "id": "2NgjWFqx0q05"
   },
   "outputs": [
    {
     "name": "stdout",
     "output_type": "stream",
     "text": [
      "<class 'pandas.core.frame.DataFrame'>\n",
      "RangeIndex: 500 entries, 0 to 499\n",
      "Data columns (total 8 columns):\n",
      " #   Column      Non-Null Count  Dtype \n",
      "---  ------      --------------  ----- \n",
      " 0   user_id     500 non-null    int64 \n",
      " 1   first_name  500 non-null    object\n",
      " 2   last_name   500 non-null    object\n",
      " 3   age         500 non-null    int64 \n",
      " 4   city        500 non-null    object\n",
      " 5   reg_date    500 non-null    object\n",
      " 6   plan        500 non-null    object\n",
      " 7   churn_date  34 non-null     object\n",
      "dtypes: int64(2), object(6)\n",
      "memory usage: 31.4+ KB\n",
      "None\n",
      "\n",
      "Valores nulos:  user_id         0\n",
      "first_name      0\n",
      "last_name       0\n",
      "age             0\n",
      "city            0\n",
      "reg_date        0\n",
      "plan            0\n",
      "churn_date    466\n",
      "dtype: int64\n",
      "\n",
      "Valores duplciados:  0\n"
     ]
    }
   ],
   "source": [
    "# Imprime la información general/resumida sobre el DataFrame de usuarios\n",
    "print(users_df.info())\n",
    "print()\n",
    "print(\"Valores nulos: \", users_df.isnull().sum())\n",
    "print()\n",
    "print(\"Valores duplciados: \", users_df.duplicated().sum())\n"
   ]
  },
  {
   "cell_type": "code",
   "execution_count": null,
   "metadata": {
    "id": "1IN1L9uh0q05"
   },
   "outputs": [
    {
     "data": {
      "text/html": [
       "<div>\n",
       "<style scoped>\n",
       "    .dataframe tbody tr th:only-of-type {\n",
       "        vertical-align: middle;\n",
       "    }\n",
       "\n",
       "    .dataframe tbody tr th {\n",
       "        vertical-align: top;\n",
       "    }\n",
       "\n",
       "    .dataframe thead th {\n",
       "        text-align: right;\n",
       "    }\n",
       "</style>\n",
       "<table border=\"1\" class=\"dataframe\">\n",
       "  <thead>\n",
       "    <tr style=\"text-align: right;\">\n",
       "      <th></th>\n",
       "      <th>user_id</th>\n",
       "      <th>first_name</th>\n",
       "      <th>last_name</th>\n",
       "      <th>age</th>\n",
       "      <th>city</th>\n",
       "      <th>reg_date</th>\n",
       "      <th>plan</th>\n",
       "      <th>churn_date</th>\n",
       "    </tr>\n",
       "  </thead>\n",
       "  <tbody>\n",
       "    <tr>\n",
       "      <th>0</th>\n",
       "      <td>1000</td>\n",
       "      <td>Anamaria</td>\n",
       "      <td>Bauer</td>\n",
       "      <td>45</td>\n",
       "      <td>Atlanta-Sandy Springs-Roswell, GA MSA</td>\n",
       "      <td>2018-12-24</td>\n",
       "      <td>ultimate</td>\n",
       "      <td>NaN</td>\n",
       "    </tr>\n",
       "    <tr>\n",
       "      <th>1</th>\n",
       "      <td>1001</td>\n",
       "      <td>Mickey</td>\n",
       "      <td>Wilkerson</td>\n",
       "      <td>28</td>\n",
       "      <td>Seattle-Tacoma-Bellevue, WA MSA</td>\n",
       "      <td>2018-08-13</td>\n",
       "      <td>surf</td>\n",
       "      <td>NaN</td>\n",
       "    </tr>\n",
       "    <tr>\n",
       "      <th>2</th>\n",
       "      <td>1002</td>\n",
       "      <td>Carlee</td>\n",
       "      <td>Hoffman</td>\n",
       "      <td>36</td>\n",
       "      <td>Las Vegas-Henderson-Paradise, NV MSA</td>\n",
       "      <td>2018-10-21</td>\n",
       "      <td>surf</td>\n",
       "      <td>NaN</td>\n",
       "    </tr>\n",
       "    <tr>\n",
       "      <th>3</th>\n",
       "      <td>1003</td>\n",
       "      <td>Reynaldo</td>\n",
       "      <td>Jenkins</td>\n",
       "      <td>52</td>\n",
       "      <td>Tulsa, OK MSA</td>\n",
       "      <td>2018-01-28</td>\n",
       "      <td>surf</td>\n",
       "      <td>NaN</td>\n",
       "    </tr>\n",
       "    <tr>\n",
       "      <th>4</th>\n",
       "      <td>1004</td>\n",
       "      <td>Leonila</td>\n",
       "      <td>Thompson</td>\n",
       "      <td>40</td>\n",
       "      <td>Seattle-Tacoma-Bellevue, WA MSA</td>\n",
       "      <td>2018-05-23</td>\n",
       "      <td>surf</td>\n",
       "      <td>NaN</td>\n",
       "    </tr>\n",
       "  </tbody>\n",
       "</table>\n",
       "</div>"
      ],
      "text/plain": [
       "   user_id first_name  last_name  age                                   city  \\\n",
       "0     1000   Anamaria      Bauer   45  Atlanta-Sandy Springs-Roswell, GA MSA   \n",
       "1     1001     Mickey  Wilkerson   28        Seattle-Tacoma-Bellevue, WA MSA   \n",
       "2     1002     Carlee    Hoffman   36   Las Vegas-Henderson-Paradise, NV MSA   \n",
       "3     1003   Reynaldo    Jenkins   52                          Tulsa, OK MSA   \n",
       "4     1004    Leonila   Thompson   40        Seattle-Tacoma-Bellevue, WA MSA   \n",
       "\n",
       "     reg_date      plan churn_date  \n",
       "0  2018-12-24  ultimate        NaN  \n",
       "1  2018-08-13      surf        NaN  \n",
       "2  2018-10-21      surf        NaN  \n",
       "3  2018-01-28      surf        NaN  \n",
       "4  2018-05-23      surf        NaN  "
      ]
     },
     "metadata": {},
     "output_type": "display_data"
    }
   ],
   "source": [
    "# Imprime una muestra de datos para usuarios\n",
    "display(users_df.head())"
   ]
  },
  {
   "cell_type": "markdown",
   "metadata": {
    "id": "dCZoUq4f0q06"
   },
   "source": [
    "\n",
    "El datafranme de usuarios no cuenta con valores duplicados, sin embargo, si tiene valores ausentes que se presentan en la columna \"churn_date\", pero esto no es un problema ya que, aunque tenga valores ausentes, los usuarios no han cancelado su servicio.\n",
    "Lo que si podemos arreglar, son las columnas que nos muestran fechas, ya que ambas tienen un tipo de datos \"object\" y la cambiaremos a datetime para que sea coherente.\n"
   ]
  },
  {
   "cell_type": "markdown",
   "metadata": {
    "id": "BX5FQh_I0q06"
   },
   "source": [
    "### Corregir los datos"
   ]
  },
  {
   "cell_type": "markdown",
   "metadata": {
    "id": "8OdKMwJv0q06"
   },
   "source": [
    "Vamos a cambiar el tipo de dato \"object\" de [reg_date, churn_date] a \"dateime\" para ser coherentes con la informacion."
   ]
  },
  {
   "cell_type": "code",
   "execution_count": null,
   "metadata": {
    "id": "yUqX-K0C0q07"
   },
   "outputs": [
    {
     "name": "stdout",
     "output_type": "stream",
     "text": [
      "user_id                int64\n",
      "first_name            object\n",
      "last_name             object\n",
      "age                    int64\n",
      "city                  object\n",
      "reg_date      datetime64[ns]\n",
      "plan                  object\n",
      "churn_date    datetime64[ns]\n",
      "dtype: object\n"
     ]
    }
   ],
   "source": [
    "users_df[\"reg_date\"] = pd.to_datetime(users_df[\"reg_date\"], format = '%Y-%m-%d')\n",
    "users_df[\"churn_date\"] = pd.to_datetime(users_df[\"churn_date\"], format = '%Y-%m-%d')\n",
    "\n",
    "print(users_df.dtypes)"
   ]
  },
  {
   "cell_type": "markdown",
   "metadata": {
    "id": "ycwuARJp0q07"
   },
   "source": [
    "### Enriquecer los datos"
   ]
  },
  {
   "cell_type": "markdown",
   "metadata": {
    "id": "96NIh4CJ0q08"
   },
   "source": [
    "Aunque existan valores ausentes en la columna \"churn_date\", no es un porblema ya que estos usuarios siguen activos.\n",
    "\n",
    "Validamos el formato de las fechas:"
   ]
  },
  {
   "cell_type": "code",
   "execution_count": null,
   "metadata": {
    "id": "iq0AaBS90q08"
   },
   "outputs": [
    {
     "data": {
      "text/plain": [
       "0   2018-12-24\n",
       "1   2018-08-13\n",
       "2   2018-10-21\n",
       "3   2018-01-28\n",
       "4   2018-05-23\n",
       "Name: reg_date, dtype: datetime64[ns]"
      ]
     },
     "metadata": {},
     "output_type": "display_data"
    },
    {
     "data": {
      "text/plain": [
       "0   NaT\n",
       "1   NaT\n",
       "2   NaT\n",
       "3   NaT\n",
       "4   NaT\n",
       "Name: churn_date, dtype: datetime64[ns]"
      ]
     },
     "metadata": {},
     "output_type": "display_data"
    }
   ],
   "source": [
    "display(users_df[\"reg_date\"].head())\n",
    "display(users_df[\"churn_date\"].head())"
   ]
  },
  {
   "cell_type": "markdown",
   "metadata": {
    "id": "o7MeKCid0q08"
   },
   "source": [
    "## Llamadas"
   ]
  },
  {
   "cell_type": "code",
   "execution_count": null,
   "metadata": {
    "id": "6dDlnoDm0q08"
   },
   "outputs": [
    {
     "name": "stdout",
     "output_type": "stream",
     "text": [
      "<class 'pandas.core.frame.DataFrame'>\n",
      "RangeIndex: 137735 entries, 0 to 137734\n",
      "Data columns (total 4 columns):\n",
      " #   Column     Non-Null Count   Dtype  \n",
      "---  ------     --------------   -----  \n",
      " 0   id         137735 non-null  object \n",
      " 1   user_id    137735 non-null  int64  \n",
      " 2   call_date  137735 non-null  object \n",
      " 3   duration   137735 non-null  float64\n",
      "dtypes: float64(1), int64(1), object(2)\n",
      "memory usage: 4.2+ MB\n",
      "None\n",
      "\n",
      "Valores nulos:  id           0\n",
      "user_id      0\n",
      "call_date    0\n",
      "duration     0\n",
      "dtype: int64\n",
      "\n",
      "Valores duplciados:  0\n"
     ]
    }
   ],
   "source": [
    "# Imprime la información general/resumida sobre el DataFrame de las llamadas\n",
    "\n",
    "print(calls_df.info())\n",
    "print()\n",
    "print(\"Valores nulos: \", calls_df.isnull().sum())\n",
    "print()\n",
    "print(\"Valores duplciados: \", calls_df.duplicated().sum())"
   ]
  },
  {
   "cell_type": "code",
   "execution_count": null,
   "metadata": {
    "id": "kuh1vlNB0q09"
   },
   "outputs": [
    {
     "data": {
      "text/html": [
       "<div>\n",
       "<style scoped>\n",
       "    .dataframe tbody tr th:only-of-type {\n",
       "        vertical-align: middle;\n",
       "    }\n",
       "\n",
       "    .dataframe tbody tr th {\n",
       "        vertical-align: top;\n",
       "    }\n",
       "\n",
       "    .dataframe thead th {\n",
       "        text-align: right;\n",
       "    }\n",
       "</style>\n",
       "<table border=\"1\" class=\"dataframe\">\n",
       "  <thead>\n",
       "    <tr style=\"text-align: right;\">\n",
       "      <th></th>\n",
       "      <th>id</th>\n",
       "      <th>user_id</th>\n",
       "      <th>call_date</th>\n",
       "      <th>duration</th>\n",
       "    </tr>\n",
       "  </thead>\n",
       "  <tbody>\n",
       "    <tr>\n",
       "      <th>0</th>\n",
       "      <td>1000_93</td>\n",
       "      <td>1000</td>\n",
       "      <td>2018-12-27</td>\n",
       "      <td>8.52</td>\n",
       "    </tr>\n",
       "    <tr>\n",
       "      <th>1</th>\n",
       "      <td>1000_145</td>\n",
       "      <td>1000</td>\n",
       "      <td>2018-12-27</td>\n",
       "      <td>13.66</td>\n",
       "    </tr>\n",
       "    <tr>\n",
       "      <th>2</th>\n",
       "      <td>1000_247</td>\n",
       "      <td>1000</td>\n",
       "      <td>2018-12-27</td>\n",
       "      <td>14.48</td>\n",
       "    </tr>\n",
       "    <tr>\n",
       "      <th>3</th>\n",
       "      <td>1000_309</td>\n",
       "      <td>1000</td>\n",
       "      <td>2018-12-28</td>\n",
       "      <td>5.76</td>\n",
       "    </tr>\n",
       "    <tr>\n",
       "      <th>4</th>\n",
       "      <td>1000_380</td>\n",
       "      <td>1000</td>\n",
       "      <td>2018-12-30</td>\n",
       "      <td>4.22</td>\n",
       "    </tr>\n",
       "  </tbody>\n",
       "</table>\n",
       "</div>"
      ],
      "text/plain": [
       "         id  user_id   call_date  duration\n",
       "0   1000_93     1000  2018-12-27      8.52\n",
       "1  1000_145     1000  2018-12-27     13.66\n",
       "2  1000_247     1000  2018-12-27     14.48\n",
       "3  1000_309     1000  2018-12-28      5.76\n",
       "4  1000_380     1000  2018-12-30      4.22"
      ]
     },
     "metadata": {},
     "output_type": "display_data"
    }
   ],
   "source": [
    "# Imprime una muestra de datos para las llamadas\n",
    "display(calls_df.head())\n"
   ]
  },
  {
   "cell_type": "markdown",
   "metadata": {
    "id": "DOAxYJSx0q09"
   },
   "source": [
    "El dataframe de Llamadas [calls_df] no cuenta con valores nulos y tampoco con duplicados. \n",
    "Sin embargo, podemos hacer un cambio en el tipo de dato para la columna \"call_date\", de \"object\" a \"datetime\".\n",
    "Y tambien redondearemos la duracion de las llamadas con el metodo math.ceil, para que el valor se redondee siempre hacia arriba, segun indicaciones del caso."
   ]
  },
  {
   "cell_type": "markdown",
   "metadata": {
    "id": "S7hzxmbX0q0-"
   },
   "source": [
    "### Corregir los datos"
   ]
  },
  {
   "cell_type": "markdown",
   "metadata": {
    "id": "YxWyAjD20q0-"
   },
   "source": [
    "En este espacio cambiamos el tipo de dato de la columna [call_date] de \"object\" a \"datetime\".\n",
    "\n",
    "Cambiamos el tipo de dato de la duracion a entero y a su vez tambien hicimos que se redondeara hacia arriba, segun las politicas de la empresa."
   ]
  },
  {
   "cell_type": "code",
   "execution_count": null,
   "metadata": {
    "id": "S2r8xA4f0q0-"
   },
   "outputs": [
    {
     "name": "stdout",
     "output_type": "stream",
     "text": [
      "Nuevo tipo de datos para la columna [call_date]: datetime64[ns]\n",
      "\n",
      "id                   object\n",
      "user_id               int64\n",
      "call_date    datetime64[ns]\n",
      "duration              int64\n",
      "dtype: object\n"
     ]
    },
    {
     "data": {
      "text/html": [
       "<div>\n",
       "<style scoped>\n",
       "    .dataframe tbody tr th:only-of-type {\n",
       "        vertical-align: middle;\n",
       "    }\n",
       "\n",
       "    .dataframe tbody tr th {\n",
       "        vertical-align: top;\n",
       "    }\n",
       "\n",
       "    .dataframe thead th {\n",
       "        text-align: right;\n",
       "    }\n",
       "</style>\n",
       "<table border=\"1\" class=\"dataframe\">\n",
       "  <thead>\n",
       "    <tr style=\"text-align: right;\">\n",
       "      <th></th>\n",
       "      <th>id</th>\n",
       "      <th>user_id</th>\n",
       "      <th>call_date</th>\n",
       "      <th>duration</th>\n",
       "    </tr>\n",
       "  </thead>\n",
       "  <tbody>\n",
       "    <tr>\n",
       "      <th>0</th>\n",
       "      <td>1000_93</td>\n",
       "      <td>1000</td>\n",
       "      <td>2018-12-27</td>\n",
       "      <td>9</td>\n",
       "    </tr>\n",
       "    <tr>\n",
       "      <th>1</th>\n",
       "      <td>1000_145</td>\n",
       "      <td>1000</td>\n",
       "      <td>2018-12-27</td>\n",
       "      <td>14</td>\n",
       "    </tr>\n",
       "    <tr>\n",
       "      <th>2</th>\n",
       "      <td>1000_247</td>\n",
       "      <td>1000</td>\n",
       "      <td>2018-12-27</td>\n",
       "      <td>15</td>\n",
       "    </tr>\n",
       "    <tr>\n",
       "      <th>3</th>\n",
       "      <td>1000_309</td>\n",
       "      <td>1000</td>\n",
       "      <td>2018-12-28</td>\n",
       "      <td>6</td>\n",
       "    </tr>\n",
       "    <tr>\n",
       "      <th>4</th>\n",
       "      <td>1000_380</td>\n",
       "      <td>1000</td>\n",
       "      <td>2018-12-30</td>\n",
       "      <td>5</td>\n",
       "    </tr>\n",
       "  </tbody>\n",
       "</table>\n",
       "</div>"
      ],
      "text/plain": [
       "         id  user_id  call_date  duration\n",
       "0   1000_93     1000 2018-12-27         9\n",
       "1  1000_145     1000 2018-12-27        14\n",
       "2  1000_247     1000 2018-12-27        15\n",
       "3  1000_309     1000 2018-12-28         6\n",
       "4  1000_380     1000 2018-12-30         5"
      ]
     },
     "metadata": {},
     "output_type": "display_data"
    }
   ],
   "source": [
    "calls_df[\"call_date\"] = pd.to_datetime(calls_df[\"call_date\"], format = '%Y-%m-%d')\n",
    "\n",
    "print(\"Nuevo tipo de datos para la columna [call_date]:\",calls_df[\"call_date\"].dtypes)\n",
    "print()\n",
    "calls_df[\"duration\"] = np.ceil(calls_df[\"duration\"]).astype(int)\n",
    "print(calls_df.dtypes)\n",
    "display(calls_df.head())"
   ]
  },
  {
   "cell_type": "markdown",
   "metadata": {
    "id": "mOUZSi180q0_"
   },
   "source": [
    "## Mensajes"
   ]
  },
  {
   "cell_type": "code",
   "execution_count": null,
   "metadata": {
    "id": "R-bYJpdV0q1A"
   },
   "outputs": [
    {
     "name": "stdout",
     "output_type": "stream",
     "text": [
      "<class 'pandas.core.frame.DataFrame'>\n",
      "RangeIndex: 76051 entries, 0 to 76050\n",
      "Data columns (total 3 columns):\n",
      " #   Column        Non-Null Count  Dtype \n",
      "---  ------        --------------  ----- \n",
      " 0   id            76051 non-null  object\n",
      " 1   user_id       76051 non-null  int64 \n",
      " 2   message_date  76051 non-null  object\n",
      "dtypes: int64(1), object(2)\n",
      "memory usage: 1.7+ MB\n",
      "None\n",
      "\n",
      "Valores nulos:  id              0\n",
      "user_id         0\n",
      "message_date    0\n",
      "dtype: int64\n",
      "\n",
      "Valores duplciados:  0\n"
     ]
    }
   ],
   "source": [
    "# Imprime la información general/resumida sobre el DataFrame de los mensajes\n",
    "\n",
    "print(messages_df.info())\n",
    "print()\n",
    "print(\"Valores nulos: \", messages_df.isnull().sum())\n",
    "print()\n",
    "print(\"Valores duplciados: \", messages_df.duplicated().sum())"
   ]
  },
  {
   "cell_type": "code",
   "execution_count": null,
   "metadata": {
    "id": "mCEl2iGE0q1A"
   },
   "outputs": [
    {
     "data": {
      "text/html": [
       "<div>\n",
       "<style scoped>\n",
       "    .dataframe tbody tr th:only-of-type {\n",
       "        vertical-align: middle;\n",
       "    }\n",
       "\n",
       "    .dataframe tbody tr th {\n",
       "        vertical-align: top;\n",
       "    }\n",
       "\n",
       "    .dataframe thead th {\n",
       "        text-align: right;\n",
       "    }\n",
       "</style>\n",
       "<table border=\"1\" class=\"dataframe\">\n",
       "  <thead>\n",
       "    <tr style=\"text-align: right;\">\n",
       "      <th></th>\n",
       "      <th>id</th>\n",
       "      <th>user_id</th>\n",
       "      <th>message_date</th>\n",
       "    </tr>\n",
       "  </thead>\n",
       "  <tbody>\n",
       "    <tr>\n",
       "      <th>0</th>\n",
       "      <td>1000_125</td>\n",
       "      <td>1000</td>\n",
       "      <td>2018-12-27</td>\n",
       "    </tr>\n",
       "    <tr>\n",
       "      <th>1</th>\n",
       "      <td>1000_160</td>\n",
       "      <td>1000</td>\n",
       "      <td>2018-12-31</td>\n",
       "    </tr>\n",
       "    <tr>\n",
       "      <th>2</th>\n",
       "      <td>1000_223</td>\n",
       "      <td>1000</td>\n",
       "      <td>2018-12-31</td>\n",
       "    </tr>\n",
       "    <tr>\n",
       "      <th>3</th>\n",
       "      <td>1000_251</td>\n",
       "      <td>1000</td>\n",
       "      <td>2018-12-27</td>\n",
       "    </tr>\n",
       "    <tr>\n",
       "      <th>4</th>\n",
       "      <td>1000_255</td>\n",
       "      <td>1000</td>\n",
       "      <td>2018-12-26</td>\n",
       "    </tr>\n",
       "  </tbody>\n",
       "</table>\n",
       "</div>"
      ],
      "text/plain": [
       "         id  user_id message_date\n",
       "0  1000_125     1000   2018-12-27\n",
       "1  1000_160     1000   2018-12-31\n",
       "2  1000_223     1000   2018-12-31\n",
       "3  1000_251     1000   2018-12-27\n",
       "4  1000_255     1000   2018-12-26"
      ]
     },
     "metadata": {},
     "output_type": "display_data"
    }
   ],
   "source": [
    "# Imprime una muestra de datos para los mensajes\n",
    "display(messages_df.head())\n"
   ]
  },
  {
   "cell_type": "markdown",
   "metadata": {
    "id": "04xDj7KH0q1A"
   },
   "source": [
    "El dataframe de Mensajes [messages_df] no cuenta con valores nulos ni duplicados.\n",
    "\n",
    "La fecha tiene el tipo de dato \"object\" y se cambiara a un tipo de dato \"datetime\"."
   ]
  },
  {
   "cell_type": "markdown",
   "metadata": {
    "id": "Sprfak900q1B"
   },
   "source": [
    "### Corregir los datos"
   ]
  },
  {
   "cell_type": "markdown",
   "metadata": {
    "id": "eGw7d9j10q1B"
   },
   "source": [
    "Cambiamos el tipo de dato de la fecha a \"datetime\" con pd.tp_datetime() especificando la columna."
   ]
  },
  {
   "cell_type": "code",
   "execution_count": null,
   "metadata": {
    "id": "vsllvkoa0q1B"
   },
   "outputs": [
    {
     "name": "stdout",
     "output_type": "stream",
     "text": [
      "id                      object\n",
      "user_id                  int64\n",
      "message_date    datetime64[ns]\n",
      "dtype: object\n"
     ]
    }
   ],
   "source": [
    "messages_df[\"message_date\"] = pd.to_datetime(messages_df[\"message_date\"], format = '%Y-%m-%d')\n",
    "\n",
    "print(messages_df.dtypes)"
   ]
  },
  {
   "cell_type": "markdown",
   "metadata": {
    "id": "bStkaxn40q1C"
   },
   "source": [
    "## Internet"
   ]
  },
  {
   "cell_type": "code",
   "execution_count": null,
   "metadata": {
    "id": "e-Uz5qyn0q1C"
   },
   "outputs": [
    {
     "name": "stdout",
     "output_type": "stream",
     "text": [
      "<class 'pandas.core.frame.DataFrame'>\n",
      "RangeIndex: 104825 entries, 0 to 104824\n",
      "Data columns (total 4 columns):\n",
      " #   Column        Non-Null Count   Dtype  \n",
      "---  ------        --------------   -----  \n",
      " 0   id            104825 non-null  object \n",
      " 1   user_id       104825 non-null  int64  \n",
      " 2   session_date  104825 non-null  object \n",
      " 3   mb_used       104825 non-null  float64\n",
      "dtypes: float64(1), int64(1), object(2)\n",
      "memory usage: 3.2+ MB\n",
      "None\n",
      "\n",
      "Valores nulos:  id              0\n",
      "user_id         0\n",
      "session_date    0\n",
      "mb_used         0\n",
      "dtype: int64\n",
      "\n",
      "Valores duplciados:  0\n"
     ]
    }
   ],
   "source": [
    "# Imprime la información general/resumida sobre el DataFrame de internet\n",
    "\n",
    "print(internet_df.info())\n",
    "print()\n",
    "print(\"Valores nulos: \", internet_df.isnull().sum())\n",
    "print()\n",
    "print(\"Valores duplciados: \", internet_df.duplicated().sum())"
   ]
  },
  {
   "cell_type": "code",
   "execution_count": null,
   "metadata": {
    "id": "9r3x_XLw0q1C"
   },
   "outputs": [
    {
     "data": {
      "text/html": [
       "<div>\n",
       "<style scoped>\n",
       "    .dataframe tbody tr th:only-of-type {\n",
       "        vertical-align: middle;\n",
       "    }\n",
       "\n",
       "    .dataframe tbody tr th {\n",
       "        vertical-align: top;\n",
       "    }\n",
       "\n",
       "    .dataframe thead th {\n",
       "        text-align: right;\n",
       "    }\n",
       "</style>\n",
       "<table border=\"1\" class=\"dataframe\">\n",
       "  <thead>\n",
       "    <tr style=\"text-align: right;\">\n",
       "      <th></th>\n",
       "      <th>id</th>\n",
       "      <th>user_id</th>\n",
       "      <th>session_date</th>\n",
       "      <th>mb_used</th>\n",
       "    </tr>\n",
       "  </thead>\n",
       "  <tbody>\n",
       "    <tr>\n",
       "      <th>0</th>\n",
       "      <td>1000_13</td>\n",
       "      <td>1000</td>\n",
       "      <td>2018-12-29</td>\n",
       "      <td>89.86</td>\n",
       "    </tr>\n",
       "    <tr>\n",
       "      <th>1</th>\n",
       "      <td>1000_204</td>\n",
       "      <td>1000</td>\n",
       "      <td>2018-12-31</td>\n",
       "      <td>0.00</td>\n",
       "    </tr>\n",
       "    <tr>\n",
       "      <th>2</th>\n",
       "      <td>1000_379</td>\n",
       "      <td>1000</td>\n",
       "      <td>2018-12-28</td>\n",
       "      <td>660.40</td>\n",
       "    </tr>\n",
       "    <tr>\n",
       "      <th>3</th>\n",
       "      <td>1000_413</td>\n",
       "      <td>1000</td>\n",
       "      <td>2018-12-26</td>\n",
       "      <td>270.99</td>\n",
       "    </tr>\n",
       "    <tr>\n",
       "      <th>4</th>\n",
       "      <td>1000_442</td>\n",
       "      <td>1000</td>\n",
       "      <td>2018-12-27</td>\n",
       "      <td>880.22</td>\n",
       "    </tr>\n",
       "  </tbody>\n",
       "</table>\n",
       "</div>"
      ],
      "text/plain": [
       "         id  user_id session_date  mb_used\n",
       "0   1000_13     1000   2018-12-29    89.86\n",
       "1  1000_204     1000   2018-12-31     0.00\n",
       "2  1000_379     1000   2018-12-28   660.40\n",
       "3  1000_413     1000   2018-12-26   270.99\n",
       "4  1000_442     1000   2018-12-27   880.22"
      ]
     },
     "metadata": {},
     "output_type": "display_data"
    }
   ],
   "source": [
    "# Imprime una muestra de datos para el tráfico de internet\n",
    "\n",
    "display(internet_df.head())"
   ]
  },
  {
   "cell_type": "markdown",
   "metadata": {
    "id": "EzOG5ik30q1D"
   },
   "source": [
    "El dataframe de Internet [internet_df] no cuenta con valores nulos ni duplicados.\n",
    "\n",
    "La fecha tiene el tipo de dato \"object\" y se cambiara a un tipo de dato \"datetime\".\n",
    "\n",
    "Tambien tiene el uso de megabites como \"float\"."
   ]
  },
  {
   "cell_type": "markdown",
   "metadata": {
    "id": "yA0tkPFg0q1D"
   },
   "source": [
    "### Corregir los datos"
   ]
  },
  {
   "cell_type": "markdown",
   "metadata": {
    "id": "zlZMuIEK0q1D"
   },
   "source": [
    "Vamos a corregir el tipo de dato de la fecha y el tipo de dato del consumo de megas. Se van a cambiar a \"datetime\" y \"int\" conrrespondientemente. Y por otro lado, tambien vamos a redondear los valores de los megas consumidos, segun las politicas de la empresa."
   ]
  },
  {
   "cell_type": "code",
   "execution_count": null,
   "metadata": {
    "id": "zVeanzdd0q1E"
   },
   "outputs": [
    {
     "name": "stdout",
     "output_type": "stream",
     "text": [
      "id                      object\n",
      "user_id                  int64\n",
      "session_date    datetime64[ns]\n",
      "mb_used                float64\n",
      "dtype: object\n"
     ]
    },
    {
     "data": {
      "text/html": [
       "<div>\n",
       "<style scoped>\n",
       "    .dataframe tbody tr th:only-of-type {\n",
       "        vertical-align: middle;\n",
       "    }\n",
       "\n",
       "    .dataframe tbody tr th {\n",
       "        vertical-align: top;\n",
       "    }\n",
       "\n",
       "    .dataframe thead th {\n",
       "        text-align: right;\n",
       "    }\n",
       "</style>\n",
       "<table border=\"1\" class=\"dataframe\">\n",
       "  <thead>\n",
       "    <tr style=\"text-align: right;\">\n",
       "      <th></th>\n",
       "      <th>id</th>\n",
       "      <th>user_id</th>\n",
       "      <th>session_date</th>\n",
       "      <th>mb_used</th>\n",
       "    </tr>\n",
       "  </thead>\n",
       "  <tbody>\n",
       "    <tr>\n",
       "      <th>0</th>\n",
       "      <td>1000_13</td>\n",
       "      <td>1000</td>\n",
       "      <td>2018-12-29</td>\n",
       "      <td>89.86</td>\n",
       "    </tr>\n",
       "    <tr>\n",
       "      <th>1</th>\n",
       "      <td>1000_204</td>\n",
       "      <td>1000</td>\n",
       "      <td>2018-12-31</td>\n",
       "      <td>0.00</td>\n",
       "    </tr>\n",
       "    <tr>\n",
       "      <th>2</th>\n",
       "      <td>1000_379</td>\n",
       "      <td>1000</td>\n",
       "      <td>2018-12-28</td>\n",
       "      <td>660.40</td>\n",
       "    </tr>\n",
       "    <tr>\n",
       "      <th>3</th>\n",
       "      <td>1000_413</td>\n",
       "      <td>1000</td>\n",
       "      <td>2018-12-26</td>\n",
       "      <td>270.99</td>\n",
       "    </tr>\n",
       "    <tr>\n",
       "      <th>4</th>\n",
       "      <td>1000_442</td>\n",
       "      <td>1000</td>\n",
       "      <td>2018-12-27</td>\n",
       "      <td>880.22</td>\n",
       "    </tr>\n",
       "  </tbody>\n",
       "</table>\n",
       "</div>"
      ],
      "text/plain": [
       "         id  user_id session_date  mb_used\n",
       "0   1000_13     1000   2018-12-29    89.86\n",
       "1  1000_204     1000   2018-12-31     0.00\n",
       "2  1000_379     1000   2018-12-28   660.40\n",
       "3  1000_413     1000   2018-12-26   270.99\n",
       "4  1000_442     1000   2018-12-27   880.22"
      ]
     },
     "metadata": {},
     "output_type": "display_data"
    }
   ],
   "source": [
    "internet_df[\"session_date\"] = pd.to_datetime(internet_df[\"session_date\"], format = '%Y-%m-%d')\n",
    "#internet_df[\"mb_used\"] = np.ceil(internet_df[\"mb_used\"]).astype(int)\n",
    "\n",
    "print(internet_df.dtypes)\n",
    "display(internet_df.head())"
   ]
  },
  {
   "cell_type": "markdown",
   "metadata": {
    "id": "3UA2cqIW0q1E"
   },
   "source": [
    "## Estudiar las condiciones de las tarifas"
   ]
  },
  {
   "cell_type": "markdown",
   "metadata": {
    "id": "T86Sqltq0q1F"
   },
   "source": [
    "Es sumamente importante entender cómo funcionan las tarifas, cómo se les cobra a los usuarios en función de su plan de suscripción."
   ]
  },
  {
   "cell_type": "code",
   "execution_count": null,
   "metadata": {
    "id": "i409op8p0q1F"
   },
   "outputs": [
    {
     "data": {
      "text/html": [
       "<div>\n",
       "<style scoped>\n",
       "    .dataframe tbody tr th:only-of-type {\n",
       "        vertical-align: middle;\n",
       "    }\n",
       "\n",
       "    .dataframe tbody tr th {\n",
       "        vertical-align: top;\n",
       "    }\n",
       "\n",
       "    .dataframe thead th {\n",
       "        text-align: right;\n",
       "    }\n",
       "</style>\n",
       "<table border=\"1\" class=\"dataframe\">\n",
       "  <thead>\n",
       "    <tr style=\"text-align: right;\">\n",
       "      <th></th>\n",
       "      <th>messages_included</th>\n",
       "      <th>mb_per_month_included</th>\n",
       "      <th>minutes_included</th>\n",
       "      <th>usd_monthly_pay</th>\n",
       "      <th>usd_per_gb</th>\n",
       "      <th>usd_per_message</th>\n",
       "      <th>usd_per_minute</th>\n",
       "      <th>plan_name</th>\n",
       "    </tr>\n",
       "  </thead>\n",
       "  <tbody>\n",
       "    <tr>\n",
       "      <th>0</th>\n",
       "      <td>50</td>\n",
       "      <td>15360</td>\n",
       "      <td>500</td>\n",
       "      <td>20</td>\n",
       "      <td>10</td>\n",
       "      <td>0.03</td>\n",
       "      <td>0.03</td>\n",
       "      <td>surf</td>\n",
       "    </tr>\n",
       "    <tr>\n",
       "      <th>1</th>\n",
       "      <td>1000</td>\n",
       "      <td>30720</td>\n",
       "      <td>3000</td>\n",
       "      <td>70</td>\n",
       "      <td>7</td>\n",
       "      <td>0.01</td>\n",
       "      <td>0.01</td>\n",
       "      <td>ultimate</td>\n",
       "    </tr>\n",
       "  </tbody>\n",
       "</table>\n",
       "</div>"
      ],
      "text/plain": [
       "   messages_included  mb_per_month_included  minutes_included  \\\n",
       "0                 50                  15360               500   \n",
       "1               1000                  30720              3000   \n",
       "\n",
       "   usd_monthly_pay  usd_per_gb  usd_per_message  usd_per_minute plan_name  \n",
       "0               20          10             0.03            0.03      surf  \n",
       "1               70           7             0.01            0.01  ultimate  "
      ]
     },
     "metadata": {},
     "output_type": "display_data"
    }
   ],
   "source": [
    "# Imprime las condiciones de la tarifa y asegúrate de que te quedan claras\n",
    "display(plans_df)\n",
    "\n",
    "#Plan \"Surf\" al mes:\n",
    "# Mensajes incluidos: 50\n",
    "# MG incluidos: 15000\n",
    "# Minutos incluidos: 500\n",
    "# Precio en dolares (usd): $20\n",
    "# USD extra por minutos: $0.3\n",
    "# USD extra por mensaje: $.03\n",
    "# USD extra por GB: $10\n",
    "\n",
    "#Plan \"Ultimate\" al mes:\n",
    "# Mensajes incluidos: 1000\n",
    "# MG incluidos: 30000\n",
    "# Minutos incluidos: 3000\n",
    "# Precio en dolares (usd): $70\n",
    "# USD extra por minutos: $0.1\n",
    "# USD extra por mensaje: $.01\n",
    "# USD extra por GB: $7"
   ]
  },
  {
   "cell_type": "markdown",
   "metadata": {
    "id": "hMR1tP5d0q1F"
   },
   "source": [
    "## Agregar datos por usuario\n",
    "\n",
    "Ahora que los datos están limpios, agregamos los datos por usuario y por periodo para que solo haya un registro por usuario y por periodo. Esto facilitará mucho el análisis posterior."
   ]
  },
  {
   "cell_type": "code",
   "execution_count": null,
   "metadata": {
    "id": "A332cedB0q1G"
   },
   "outputs": [
    {
     "data": {
      "text/html": [
       "<div>\n",
       "<style scoped>\n",
       "    .dataframe tbody tr th:only-of-type {\n",
       "        vertical-align: middle;\n",
       "    }\n",
       "\n",
       "    .dataframe tbody tr th {\n",
       "        vertical-align: top;\n",
       "    }\n",
       "\n",
       "    .dataframe thead th {\n",
       "        text-align: right;\n",
       "    }\n",
       "</style>\n",
       "<table border=\"1\" class=\"dataframe\">\n",
       "  <thead>\n",
       "    <tr style=\"text-align: right;\">\n",
       "      <th></th>\n",
       "      <th>user_id</th>\n",
       "      <th>month</th>\n",
       "      <th>llamadas</th>\n",
       "    </tr>\n",
       "  </thead>\n",
       "  <tbody>\n",
       "    <tr>\n",
       "      <th>0</th>\n",
       "      <td>1000</td>\n",
       "      <td>2018-12</td>\n",
       "      <td>16</td>\n",
       "    </tr>\n",
       "    <tr>\n",
       "      <th>1</th>\n",
       "      <td>1001</td>\n",
       "      <td>2018-08</td>\n",
       "      <td>27</td>\n",
       "    </tr>\n",
       "    <tr>\n",
       "      <th>2</th>\n",
       "      <td>1001</td>\n",
       "      <td>2018-09</td>\n",
       "      <td>49</td>\n",
       "    </tr>\n",
       "    <tr>\n",
       "      <th>3</th>\n",
       "      <td>1001</td>\n",
       "      <td>2018-10</td>\n",
       "      <td>65</td>\n",
       "    </tr>\n",
       "    <tr>\n",
       "      <th>4</th>\n",
       "      <td>1001</td>\n",
       "      <td>2018-11</td>\n",
       "      <td>64</td>\n",
       "    </tr>\n",
       "    <tr>\n",
       "      <th>5</th>\n",
       "      <td>1001</td>\n",
       "      <td>2018-12</td>\n",
       "      <td>56</td>\n",
       "    </tr>\n",
       "    <tr>\n",
       "      <th>6</th>\n",
       "      <td>1002</td>\n",
       "      <td>2018-10</td>\n",
       "      <td>11</td>\n",
       "    </tr>\n",
       "    <tr>\n",
       "      <th>7</th>\n",
       "      <td>1002</td>\n",
       "      <td>2018-11</td>\n",
       "      <td>55</td>\n",
       "    </tr>\n",
       "    <tr>\n",
       "      <th>8</th>\n",
       "      <td>1002</td>\n",
       "      <td>2018-12</td>\n",
       "      <td>47</td>\n",
       "    </tr>\n",
       "    <tr>\n",
       "      <th>9</th>\n",
       "      <td>1003</td>\n",
       "      <td>2018-12</td>\n",
       "      <td>149</td>\n",
       "    </tr>\n",
       "    <tr>\n",
       "      <th>10</th>\n",
       "      <td>1004</td>\n",
       "      <td>2018-05</td>\n",
       "      <td>21</td>\n",
       "    </tr>\n",
       "    <tr>\n",
       "      <th>11</th>\n",
       "      <td>1004</td>\n",
       "      <td>2018-06</td>\n",
       "      <td>44</td>\n",
       "    </tr>\n",
       "    <tr>\n",
       "      <th>12</th>\n",
       "      <td>1004</td>\n",
       "      <td>2018-07</td>\n",
       "      <td>49</td>\n",
       "    </tr>\n",
       "    <tr>\n",
       "      <th>13</th>\n",
       "      <td>1004</td>\n",
       "      <td>2018-08</td>\n",
       "      <td>49</td>\n",
       "    </tr>\n",
       "    <tr>\n",
       "      <th>14</th>\n",
       "      <td>1004</td>\n",
       "      <td>2018-09</td>\n",
       "      <td>42</td>\n",
       "    </tr>\n",
       "    <tr>\n",
       "      <th>15</th>\n",
       "      <td>1004</td>\n",
       "      <td>2018-10</td>\n",
       "      <td>61</td>\n",
       "    </tr>\n",
       "    <tr>\n",
       "      <th>16</th>\n",
       "      <td>1004</td>\n",
       "      <td>2018-11</td>\n",
       "      <td>54</td>\n",
       "    </tr>\n",
       "    <tr>\n",
       "      <th>17</th>\n",
       "      <td>1004</td>\n",
       "      <td>2018-12</td>\n",
       "      <td>50</td>\n",
       "    </tr>\n",
       "    <tr>\n",
       "      <th>18</th>\n",
       "      <td>1005</td>\n",
       "      <td>2018-12</td>\n",
       "      <td>59</td>\n",
       "    </tr>\n",
       "    <tr>\n",
       "      <th>19</th>\n",
       "      <td>1006</td>\n",
       "      <td>2018-11</td>\n",
       "      <td>2</td>\n",
       "    </tr>\n",
       "  </tbody>\n",
       "</table>\n",
       "</div>"
      ],
      "text/plain": [
       "    user_id    month  llamadas\n",
       "0      1000  2018-12        16\n",
       "1      1001  2018-08        27\n",
       "2      1001  2018-09        49\n",
       "3      1001  2018-10        65\n",
       "4      1001  2018-11        64\n",
       "5      1001  2018-12        56\n",
       "6      1002  2018-10        11\n",
       "7      1002  2018-11        55\n",
       "8      1002  2018-12        47\n",
       "9      1003  2018-12       149\n",
       "10     1004  2018-05        21\n",
       "11     1004  2018-06        44\n",
       "12     1004  2018-07        49\n",
       "13     1004  2018-08        49\n",
       "14     1004  2018-09        42\n",
       "15     1004  2018-10        61\n",
       "16     1004  2018-11        54\n",
       "17     1004  2018-12        50\n",
       "18     1005  2018-12        59\n",
       "19     1006  2018-11         2"
      ]
     },
     "metadata": {},
     "output_type": "display_data"
    }
   ],
   "source": [
    "# Calcula el número de llamadas hechas por cada usuario al mes. \n",
    "calls_df[\"month\"] = calls_df[\"call_date\"].dt.to_period(\"M\")\n",
    "llamadas_mensuales = calls_df.groupby([\"user_id\",\"month\"]).agg(llamadas=(\"id\",\"count\")).reset_index()\n",
    "display(llamadas_mensuales.head(20))\n",
    "\n"
   ]
  },
  {
   "cell_type": "code",
   "execution_count": null,
   "metadata": {
    "id": "aw2cmuql0q1G"
   },
   "outputs": [
    {
     "data": {
      "text/html": [
       "<div>\n",
       "<style scoped>\n",
       "    .dataframe tbody tr th:only-of-type {\n",
       "        vertical-align: middle;\n",
       "    }\n",
       "\n",
       "    .dataframe tbody tr th {\n",
       "        vertical-align: top;\n",
       "    }\n",
       "\n",
       "    .dataframe thead th {\n",
       "        text-align: right;\n",
       "    }\n",
       "</style>\n",
       "<table border=\"1\" class=\"dataframe\">\n",
       "  <thead>\n",
       "    <tr style=\"text-align: right;\">\n",
       "      <th></th>\n",
       "      <th>user_id</th>\n",
       "      <th>month</th>\n",
       "      <th>minutos</th>\n",
       "    </tr>\n",
       "  </thead>\n",
       "  <tbody>\n",
       "    <tr>\n",
       "      <th>0</th>\n",
       "      <td>1000</td>\n",
       "      <td>2018-12</td>\n",
       "      <td>124</td>\n",
       "    </tr>\n",
       "    <tr>\n",
       "      <th>1</th>\n",
       "      <td>1001</td>\n",
       "      <td>2018-08</td>\n",
       "      <td>182</td>\n",
       "    </tr>\n",
       "    <tr>\n",
       "      <th>2</th>\n",
       "      <td>1001</td>\n",
       "      <td>2018-09</td>\n",
       "      <td>315</td>\n",
       "    </tr>\n",
       "    <tr>\n",
       "      <th>3</th>\n",
       "      <td>1001</td>\n",
       "      <td>2018-10</td>\n",
       "      <td>393</td>\n",
       "    </tr>\n",
       "    <tr>\n",
       "      <th>4</th>\n",
       "      <td>1001</td>\n",
       "      <td>2018-11</td>\n",
       "      <td>426</td>\n",
       "    </tr>\n",
       "    <tr>\n",
       "      <th>5</th>\n",
       "      <td>1001</td>\n",
       "      <td>2018-12</td>\n",
       "      <td>412</td>\n",
       "    </tr>\n",
       "    <tr>\n",
       "      <th>6</th>\n",
       "      <td>1002</td>\n",
       "      <td>2018-10</td>\n",
       "      <td>59</td>\n",
       "    </tr>\n",
       "    <tr>\n",
       "      <th>7</th>\n",
       "      <td>1002</td>\n",
       "      <td>2018-11</td>\n",
       "      <td>386</td>\n",
       "    </tr>\n",
       "    <tr>\n",
       "      <th>8</th>\n",
       "      <td>1002</td>\n",
       "      <td>2018-12</td>\n",
       "      <td>384</td>\n",
       "    </tr>\n",
       "    <tr>\n",
       "      <th>9</th>\n",
       "      <td>1003</td>\n",
       "      <td>2018-12</td>\n",
       "      <td>1104</td>\n",
       "    </tr>\n",
       "    <tr>\n",
       "      <th>10</th>\n",
       "      <td>1004</td>\n",
       "      <td>2018-05</td>\n",
       "      <td>193</td>\n",
       "    </tr>\n",
       "    <tr>\n",
       "      <th>11</th>\n",
       "      <td>1004</td>\n",
       "      <td>2018-06</td>\n",
       "      <td>275</td>\n",
       "    </tr>\n",
       "    <tr>\n",
       "      <th>12</th>\n",
       "      <td>1004</td>\n",
       "      <td>2018-07</td>\n",
       "      <td>381</td>\n",
       "    </tr>\n",
       "    <tr>\n",
       "      <th>13</th>\n",
       "      <td>1004</td>\n",
       "      <td>2018-08</td>\n",
       "      <td>354</td>\n",
       "    </tr>\n",
       "    <tr>\n",
       "      <th>14</th>\n",
       "      <td>1004</td>\n",
       "      <td>2018-09</td>\n",
       "      <td>301</td>\n",
       "    </tr>\n",
       "    <tr>\n",
       "      <th>15</th>\n",
       "      <td>1004</td>\n",
       "      <td>2018-10</td>\n",
       "      <td>365</td>\n",
       "    </tr>\n",
       "    <tr>\n",
       "      <th>16</th>\n",
       "      <td>1004</td>\n",
       "      <td>2018-11</td>\n",
       "      <td>476</td>\n",
       "    </tr>\n",
       "    <tr>\n",
       "      <th>17</th>\n",
       "      <td>1004</td>\n",
       "      <td>2018-12</td>\n",
       "      <td>427</td>\n",
       "    </tr>\n",
       "    <tr>\n",
       "      <th>18</th>\n",
       "      <td>1005</td>\n",
       "      <td>2018-12</td>\n",
       "      <td>496</td>\n",
       "    </tr>\n",
       "    <tr>\n",
       "      <th>19</th>\n",
       "      <td>1006</td>\n",
       "      <td>2018-11</td>\n",
       "      <td>10</td>\n",
       "    </tr>\n",
       "  </tbody>\n",
       "</table>\n",
       "</div>"
      ],
      "text/plain": [
       "    user_id    month  minutos\n",
       "0      1000  2018-12      124\n",
       "1      1001  2018-08      182\n",
       "2      1001  2018-09      315\n",
       "3      1001  2018-10      393\n",
       "4      1001  2018-11      426\n",
       "5      1001  2018-12      412\n",
       "6      1002  2018-10       59\n",
       "7      1002  2018-11      386\n",
       "8      1002  2018-12      384\n",
       "9      1003  2018-12     1104\n",
       "10     1004  2018-05      193\n",
       "11     1004  2018-06      275\n",
       "12     1004  2018-07      381\n",
       "13     1004  2018-08      354\n",
       "14     1004  2018-09      301\n",
       "15     1004  2018-10      365\n",
       "16     1004  2018-11      476\n",
       "17     1004  2018-12      427\n",
       "18     1005  2018-12      496\n",
       "19     1006  2018-11       10"
      ]
     },
     "metadata": {},
     "output_type": "display_data"
    }
   ],
   "source": [
    "# Calcula la cantidad de minutos usados por cada usuario al mes. \n",
    "minutos_mensuales = calls_df.groupby([\"user_id\", \"month\"]).agg(minutos=(\"duration\",\"sum\")).reset_index()\n",
    "display(minutos_mensuales.head(20))"
   ]
  },
  {
   "cell_type": "code",
   "execution_count": null,
   "metadata": {
    "id": "CcQvNHn60q1G"
   },
   "outputs": [
    {
     "data": {
      "text/html": [
       "<div>\n",
       "<style scoped>\n",
       "    .dataframe tbody tr th:only-of-type {\n",
       "        vertical-align: middle;\n",
       "    }\n",
       "\n",
       "    .dataframe tbody tr th {\n",
       "        vertical-align: top;\n",
       "    }\n",
       "\n",
       "    .dataframe thead th {\n",
       "        text-align: right;\n",
       "    }\n",
       "</style>\n",
       "<table border=\"1\" class=\"dataframe\">\n",
       "  <thead>\n",
       "    <tr style=\"text-align: right;\">\n",
       "      <th></th>\n",
       "      <th>user_id</th>\n",
       "      <th>month</th>\n",
       "      <th>mensajes</th>\n",
       "    </tr>\n",
       "  </thead>\n",
       "  <tbody>\n",
       "    <tr>\n",
       "      <th>0</th>\n",
       "      <td>1000</td>\n",
       "      <td>2018-12</td>\n",
       "      <td>11</td>\n",
       "    </tr>\n",
       "    <tr>\n",
       "      <th>1</th>\n",
       "      <td>1001</td>\n",
       "      <td>2018-08</td>\n",
       "      <td>30</td>\n",
       "    </tr>\n",
       "    <tr>\n",
       "      <th>2</th>\n",
       "      <td>1001</td>\n",
       "      <td>2018-09</td>\n",
       "      <td>44</td>\n",
       "    </tr>\n",
       "    <tr>\n",
       "      <th>3</th>\n",
       "      <td>1001</td>\n",
       "      <td>2018-10</td>\n",
       "      <td>53</td>\n",
       "    </tr>\n",
       "    <tr>\n",
       "      <th>4</th>\n",
       "      <td>1001</td>\n",
       "      <td>2018-11</td>\n",
       "      <td>36</td>\n",
       "    </tr>\n",
       "    <tr>\n",
       "      <th>5</th>\n",
       "      <td>1001</td>\n",
       "      <td>2018-12</td>\n",
       "      <td>44</td>\n",
       "    </tr>\n",
       "    <tr>\n",
       "      <th>6</th>\n",
       "      <td>1002</td>\n",
       "      <td>2018-10</td>\n",
       "      <td>15</td>\n",
       "    </tr>\n",
       "    <tr>\n",
       "      <th>7</th>\n",
       "      <td>1002</td>\n",
       "      <td>2018-11</td>\n",
       "      <td>32</td>\n",
       "    </tr>\n",
       "    <tr>\n",
       "      <th>8</th>\n",
       "      <td>1002</td>\n",
       "      <td>2018-12</td>\n",
       "      <td>41</td>\n",
       "    </tr>\n",
       "    <tr>\n",
       "      <th>9</th>\n",
       "      <td>1003</td>\n",
       "      <td>2018-12</td>\n",
       "      <td>50</td>\n",
       "    </tr>\n",
       "    <tr>\n",
       "      <th>10</th>\n",
       "      <td>1004</td>\n",
       "      <td>2018-05</td>\n",
       "      <td>7</td>\n",
       "    </tr>\n",
       "    <tr>\n",
       "      <th>11</th>\n",
       "      <td>1004</td>\n",
       "      <td>2018-06</td>\n",
       "      <td>18</td>\n",
       "    </tr>\n",
       "    <tr>\n",
       "      <th>12</th>\n",
       "      <td>1004</td>\n",
       "      <td>2018-07</td>\n",
       "      <td>26</td>\n",
       "    </tr>\n",
       "    <tr>\n",
       "      <th>13</th>\n",
       "      <td>1004</td>\n",
       "      <td>2018-08</td>\n",
       "      <td>25</td>\n",
       "    </tr>\n",
       "    <tr>\n",
       "      <th>14</th>\n",
       "      <td>1004</td>\n",
       "      <td>2018-09</td>\n",
       "      <td>21</td>\n",
       "    </tr>\n",
       "    <tr>\n",
       "      <th>15</th>\n",
       "      <td>1004</td>\n",
       "      <td>2018-10</td>\n",
       "      <td>24</td>\n",
       "    </tr>\n",
       "    <tr>\n",
       "      <th>16</th>\n",
       "      <td>1004</td>\n",
       "      <td>2018-11</td>\n",
       "      <td>25</td>\n",
       "    </tr>\n",
       "    <tr>\n",
       "      <th>17</th>\n",
       "      <td>1004</td>\n",
       "      <td>2018-12</td>\n",
       "      <td>31</td>\n",
       "    </tr>\n",
       "    <tr>\n",
       "      <th>18</th>\n",
       "      <td>1005</td>\n",
       "      <td>2018-12</td>\n",
       "      <td>11</td>\n",
       "    </tr>\n",
       "    <tr>\n",
       "      <th>19</th>\n",
       "      <td>1006</td>\n",
       "      <td>2018-11</td>\n",
       "      <td>15</td>\n",
       "    </tr>\n",
       "  </tbody>\n",
       "</table>\n",
       "</div>"
      ],
      "text/plain": [
       "    user_id    month  mensajes\n",
       "0      1000  2018-12        11\n",
       "1      1001  2018-08        30\n",
       "2      1001  2018-09        44\n",
       "3      1001  2018-10        53\n",
       "4      1001  2018-11        36\n",
       "5      1001  2018-12        44\n",
       "6      1002  2018-10        15\n",
       "7      1002  2018-11        32\n",
       "8      1002  2018-12        41\n",
       "9      1003  2018-12        50\n",
       "10     1004  2018-05         7\n",
       "11     1004  2018-06        18\n",
       "12     1004  2018-07        26\n",
       "13     1004  2018-08        25\n",
       "14     1004  2018-09        21\n",
       "15     1004  2018-10        24\n",
       "16     1004  2018-11        25\n",
       "17     1004  2018-12        31\n",
       "18     1005  2018-12        11\n",
       "19     1006  2018-11        15"
      ]
     },
     "metadata": {},
     "output_type": "display_data"
    }
   ],
   "source": [
    "# Calcula el número de mensajes enviados por cada usuario al mes. \n",
    "messages_df[\"month\"] = messages_df[\"message_date\"].dt.to_period(\"M\")\n",
    "mensajes_mensuales = messages_df.groupby([\"user_id\", \"month\"]).agg(mensajes =(\"id\", \"count\")).reset_index()\n",
    "display(mensajes_mensuales.head(20))\n"
   ]
  },
  {
   "cell_type": "code",
   "execution_count": null,
   "metadata": {
    "id": "H1AqN2eG0q1H"
   },
   "outputs": [
    {
     "data": {
      "text/html": [
       "<div>\n",
       "<style scoped>\n",
       "    .dataframe tbody tr th:only-of-type {\n",
       "        vertical-align: middle;\n",
       "    }\n",
       "\n",
       "    .dataframe tbody tr th {\n",
       "        vertical-align: top;\n",
       "    }\n",
       "\n",
       "    .dataframe thead th {\n",
       "        text-align: right;\n",
       "    }\n",
       "</style>\n",
       "<table border=\"1\" class=\"dataframe\">\n",
       "  <thead>\n",
       "    <tr style=\"text-align: right;\">\n",
       "      <th></th>\n",
       "      <th>user_id</th>\n",
       "      <th>month</th>\n",
       "      <th>trafico_mb</th>\n",
       "    </tr>\n",
       "  </thead>\n",
       "  <tbody>\n",
       "    <tr>\n",
       "      <th>0</th>\n",
       "      <td>1000</td>\n",
       "      <td>2018-12</td>\n",
       "      <td>1901.47</td>\n",
       "    </tr>\n",
       "    <tr>\n",
       "      <th>1</th>\n",
       "      <td>1001</td>\n",
       "      <td>2018-08</td>\n",
       "      <td>6919.15</td>\n",
       "    </tr>\n",
       "    <tr>\n",
       "      <th>2</th>\n",
       "      <td>1001</td>\n",
       "      <td>2018-09</td>\n",
       "      <td>13314.82</td>\n",
       "    </tr>\n",
       "    <tr>\n",
       "      <th>3</th>\n",
       "      <td>1001</td>\n",
       "      <td>2018-10</td>\n",
       "      <td>22330.49</td>\n",
       "    </tr>\n",
       "    <tr>\n",
       "      <th>4</th>\n",
       "      <td>1001</td>\n",
       "      <td>2018-11</td>\n",
       "      <td>18504.30</td>\n",
       "    </tr>\n",
       "    <tr>\n",
       "      <th>5</th>\n",
       "      <td>1001</td>\n",
       "      <td>2018-12</td>\n",
       "      <td>19369.18</td>\n",
       "    </tr>\n",
       "    <tr>\n",
       "      <th>6</th>\n",
       "      <td>1002</td>\n",
       "      <td>2018-10</td>\n",
       "      <td>6552.01</td>\n",
       "    </tr>\n",
       "    <tr>\n",
       "      <th>7</th>\n",
       "      <td>1002</td>\n",
       "      <td>2018-11</td>\n",
       "      <td>19345.08</td>\n",
       "    </tr>\n",
       "    <tr>\n",
       "      <th>8</th>\n",
       "      <td>1002</td>\n",
       "      <td>2018-12</td>\n",
       "      <td>14396.24</td>\n",
       "    </tr>\n",
       "    <tr>\n",
       "      <th>9</th>\n",
       "      <td>1003</td>\n",
       "      <td>2018-12</td>\n",
       "      <td>27044.14</td>\n",
       "    </tr>\n",
       "    <tr>\n",
       "      <th>10</th>\n",
       "      <td>1004</td>\n",
       "      <td>2018-05</td>\n",
       "      <td>6547.21</td>\n",
       "    </tr>\n",
       "    <tr>\n",
       "      <th>11</th>\n",
       "      <td>1004</td>\n",
       "      <td>2018-06</td>\n",
       "      <td>20672.82</td>\n",
       "    </tr>\n",
       "    <tr>\n",
       "      <th>12</th>\n",
       "      <td>1004</td>\n",
       "      <td>2018-07</td>\n",
       "      <td>24516.62</td>\n",
       "    </tr>\n",
       "    <tr>\n",
       "      <th>13</th>\n",
       "      <td>1004</td>\n",
       "      <td>2018-08</td>\n",
       "      <td>27981.74</td>\n",
       "    </tr>\n",
       "    <tr>\n",
       "      <th>14</th>\n",
       "      <td>1004</td>\n",
       "      <td>2018-09</td>\n",
       "      <td>18852.72</td>\n",
       "    </tr>\n",
       "    <tr>\n",
       "      <th>15</th>\n",
       "      <td>1004</td>\n",
       "      <td>2018-10</td>\n",
       "      <td>14541.63</td>\n",
       "    </tr>\n",
       "    <tr>\n",
       "      <th>16</th>\n",
       "      <td>1004</td>\n",
       "      <td>2018-11</td>\n",
       "      <td>21850.78</td>\n",
       "    </tr>\n",
       "    <tr>\n",
       "      <th>17</th>\n",
       "      <td>1004</td>\n",
       "      <td>2018-12</td>\n",
       "      <td>21389.29</td>\n",
       "    </tr>\n",
       "    <tr>\n",
       "      <th>18</th>\n",
       "      <td>1005</td>\n",
       "      <td>2018-12</td>\n",
       "      <td>17140.17</td>\n",
       "    </tr>\n",
       "    <tr>\n",
       "      <th>19</th>\n",
       "      <td>1006</td>\n",
       "      <td>2018-11</td>\n",
       "      <td>2068.37</td>\n",
       "    </tr>\n",
       "  </tbody>\n",
       "</table>\n",
       "</div>"
      ],
      "text/plain": [
       "    user_id    month  trafico_mb\n",
       "0      1000  2018-12     1901.47\n",
       "1      1001  2018-08     6919.15\n",
       "2      1001  2018-09    13314.82\n",
       "3      1001  2018-10    22330.49\n",
       "4      1001  2018-11    18504.30\n",
       "5      1001  2018-12    19369.18\n",
       "6      1002  2018-10     6552.01\n",
       "7      1002  2018-11    19345.08\n",
       "8      1002  2018-12    14396.24\n",
       "9      1003  2018-12    27044.14\n",
       "10     1004  2018-05     6547.21\n",
       "11     1004  2018-06    20672.82\n",
       "12     1004  2018-07    24516.62\n",
       "13     1004  2018-08    27981.74\n",
       "14     1004  2018-09    18852.72\n",
       "15     1004  2018-10    14541.63\n",
       "16     1004  2018-11    21850.78\n",
       "17     1004  2018-12    21389.29\n",
       "18     1005  2018-12    17140.17\n",
       "19     1006  2018-11     2068.37"
      ]
     },
     "metadata": {},
     "output_type": "display_data"
    }
   ],
   "source": [
    "# Calcula el volumen del tráfico de Internet usado por cada usuario al mes. \n",
    "internet_df[\"month\"] = internet_df[\"session_date\"].dt.to_period(\"M\")\n",
    "trafico_mensual = internet_df.groupby([\"user_id\", \"month\"]).agg(trafico_mb = (\"mb_used\", \"sum\")).reset_index()\n",
    "\n",
    "display(trafico_mensual.head(20))"
   ]
  },
  {
   "cell_type": "markdown",
   "metadata": {
    "id": "VDfYXnj80q1H"
   },
   "source": [
    "Se junto los datos agregados en un DataFrame para que haya un registro que represente lo que consumió un usuario único en un mes determinado."
   ]
  },
  {
   "cell_type": "code",
   "execution_count": null,
   "metadata": {
    "id": "FW99ykyf0q1H"
   },
   "outputs": [
    {
     "data": {
      "text/html": [
       "<div>\n",
       "<style scoped>\n",
       "    .dataframe tbody tr th:only-of-type {\n",
       "        vertical-align: middle;\n",
       "    }\n",
       "\n",
       "    .dataframe tbody tr th {\n",
       "        vertical-align: top;\n",
       "    }\n",
       "\n",
       "    .dataframe thead th {\n",
       "        text-align: right;\n",
       "    }\n",
       "</style>\n",
       "<table border=\"1\" class=\"dataframe\">\n",
       "  <thead>\n",
       "    <tr style=\"text-align: right;\">\n",
       "      <th></th>\n",
       "      <th>user_id</th>\n",
       "      <th>month</th>\n",
       "      <th>llamadas</th>\n",
       "      <th>minutos</th>\n",
       "      <th>mensajes</th>\n",
       "      <th>trafico_mb</th>\n",
       "    </tr>\n",
       "  </thead>\n",
       "  <tbody>\n",
       "    <tr>\n",
       "      <th>0</th>\n",
       "      <td>1000</td>\n",
       "      <td>2018-12</td>\n",
       "      <td>16.0</td>\n",
       "      <td>124.0</td>\n",
       "      <td>11.0</td>\n",
       "      <td>1901.47</td>\n",
       "    </tr>\n",
       "    <tr>\n",
       "      <th>1</th>\n",
       "      <td>1001</td>\n",
       "      <td>2018-08</td>\n",
       "      <td>27.0</td>\n",
       "      <td>182.0</td>\n",
       "      <td>30.0</td>\n",
       "      <td>6919.15</td>\n",
       "    </tr>\n",
       "    <tr>\n",
       "      <th>2</th>\n",
       "      <td>1001</td>\n",
       "      <td>2018-09</td>\n",
       "      <td>49.0</td>\n",
       "      <td>315.0</td>\n",
       "      <td>44.0</td>\n",
       "      <td>13314.82</td>\n",
       "    </tr>\n",
       "    <tr>\n",
       "      <th>3</th>\n",
       "      <td>1001</td>\n",
       "      <td>2018-10</td>\n",
       "      <td>65.0</td>\n",
       "      <td>393.0</td>\n",
       "      <td>53.0</td>\n",
       "      <td>22330.49</td>\n",
       "    </tr>\n",
       "    <tr>\n",
       "      <th>4</th>\n",
       "      <td>1001</td>\n",
       "      <td>2018-11</td>\n",
       "      <td>64.0</td>\n",
       "      <td>426.0</td>\n",
       "      <td>36.0</td>\n",
       "      <td>18504.30</td>\n",
       "    </tr>\n",
       "    <tr>\n",
       "      <th>5</th>\n",
       "      <td>1001</td>\n",
       "      <td>2018-12</td>\n",
       "      <td>56.0</td>\n",
       "      <td>412.0</td>\n",
       "      <td>44.0</td>\n",
       "      <td>19369.18</td>\n",
       "    </tr>\n",
       "    <tr>\n",
       "      <th>6</th>\n",
       "      <td>1002</td>\n",
       "      <td>2018-10</td>\n",
       "      <td>11.0</td>\n",
       "      <td>59.0</td>\n",
       "      <td>15.0</td>\n",
       "      <td>6552.01</td>\n",
       "    </tr>\n",
       "    <tr>\n",
       "      <th>7</th>\n",
       "      <td>1002</td>\n",
       "      <td>2018-11</td>\n",
       "      <td>55.0</td>\n",
       "      <td>386.0</td>\n",
       "      <td>32.0</td>\n",
       "      <td>19345.08</td>\n",
       "    </tr>\n",
       "    <tr>\n",
       "      <th>8</th>\n",
       "      <td>1002</td>\n",
       "      <td>2018-12</td>\n",
       "      <td>47.0</td>\n",
       "      <td>384.0</td>\n",
       "      <td>41.0</td>\n",
       "      <td>14396.24</td>\n",
       "    </tr>\n",
       "    <tr>\n",
       "      <th>9</th>\n",
       "      <td>1003</td>\n",
       "      <td>2018-12</td>\n",
       "      <td>149.0</td>\n",
       "      <td>1104.0</td>\n",
       "      <td>50.0</td>\n",
       "      <td>27044.14</td>\n",
       "    </tr>\n",
       "    <tr>\n",
       "      <th>10</th>\n",
       "      <td>1004</td>\n",
       "      <td>2018-05</td>\n",
       "      <td>21.0</td>\n",
       "      <td>193.0</td>\n",
       "      <td>7.0</td>\n",
       "      <td>6547.21</td>\n",
       "    </tr>\n",
       "    <tr>\n",
       "      <th>11</th>\n",
       "      <td>1004</td>\n",
       "      <td>2018-06</td>\n",
       "      <td>44.0</td>\n",
       "      <td>275.0</td>\n",
       "      <td>18.0</td>\n",
       "      <td>20672.82</td>\n",
       "    </tr>\n",
       "    <tr>\n",
       "      <th>12</th>\n",
       "      <td>1004</td>\n",
       "      <td>2018-07</td>\n",
       "      <td>49.0</td>\n",
       "      <td>381.0</td>\n",
       "      <td>26.0</td>\n",
       "      <td>24516.62</td>\n",
       "    </tr>\n",
       "    <tr>\n",
       "      <th>13</th>\n",
       "      <td>1004</td>\n",
       "      <td>2018-08</td>\n",
       "      <td>49.0</td>\n",
       "      <td>354.0</td>\n",
       "      <td>25.0</td>\n",
       "      <td>27981.74</td>\n",
       "    </tr>\n",
       "    <tr>\n",
       "      <th>14</th>\n",
       "      <td>1004</td>\n",
       "      <td>2018-09</td>\n",
       "      <td>42.0</td>\n",
       "      <td>301.0</td>\n",
       "      <td>21.0</td>\n",
       "      <td>18852.72</td>\n",
       "    </tr>\n",
       "    <tr>\n",
       "      <th>15</th>\n",
       "      <td>1004</td>\n",
       "      <td>2018-10</td>\n",
       "      <td>61.0</td>\n",
       "      <td>365.0</td>\n",
       "      <td>24.0</td>\n",
       "      <td>14541.63</td>\n",
       "    </tr>\n",
       "    <tr>\n",
       "      <th>16</th>\n",
       "      <td>1004</td>\n",
       "      <td>2018-11</td>\n",
       "      <td>54.0</td>\n",
       "      <td>476.0</td>\n",
       "      <td>25.0</td>\n",
       "      <td>21850.78</td>\n",
       "    </tr>\n",
       "    <tr>\n",
       "      <th>17</th>\n",
       "      <td>1004</td>\n",
       "      <td>2018-12</td>\n",
       "      <td>50.0</td>\n",
       "      <td>427.0</td>\n",
       "      <td>31.0</td>\n",
       "      <td>21389.29</td>\n",
       "    </tr>\n",
       "    <tr>\n",
       "      <th>18</th>\n",
       "      <td>1005</td>\n",
       "      <td>2018-12</td>\n",
       "      <td>59.0</td>\n",
       "      <td>496.0</td>\n",
       "      <td>11.0</td>\n",
       "      <td>17140.17</td>\n",
       "    </tr>\n",
       "    <tr>\n",
       "      <th>19</th>\n",
       "      <td>1006</td>\n",
       "      <td>2018-11</td>\n",
       "      <td>2.0</td>\n",
       "      <td>10.0</td>\n",
       "      <td>15.0</td>\n",
       "      <td>2068.37</td>\n",
       "    </tr>\n",
       "  </tbody>\n",
       "</table>\n",
       "</div>"
      ],
      "text/plain": [
       "    user_id    month  llamadas  minutos  mensajes  trafico_mb\n",
       "0      1000  2018-12      16.0    124.0      11.0     1901.47\n",
       "1      1001  2018-08      27.0    182.0      30.0     6919.15\n",
       "2      1001  2018-09      49.0    315.0      44.0    13314.82\n",
       "3      1001  2018-10      65.0    393.0      53.0    22330.49\n",
       "4      1001  2018-11      64.0    426.0      36.0    18504.30\n",
       "5      1001  2018-12      56.0    412.0      44.0    19369.18\n",
       "6      1002  2018-10      11.0     59.0      15.0     6552.01\n",
       "7      1002  2018-11      55.0    386.0      32.0    19345.08\n",
       "8      1002  2018-12      47.0    384.0      41.0    14396.24\n",
       "9      1003  2018-12     149.0   1104.0      50.0    27044.14\n",
       "10     1004  2018-05      21.0    193.0       7.0     6547.21\n",
       "11     1004  2018-06      44.0    275.0      18.0    20672.82\n",
       "12     1004  2018-07      49.0    381.0      26.0    24516.62\n",
       "13     1004  2018-08      49.0    354.0      25.0    27981.74\n",
       "14     1004  2018-09      42.0    301.0      21.0    18852.72\n",
       "15     1004  2018-10      61.0    365.0      24.0    14541.63\n",
       "16     1004  2018-11      54.0    476.0      25.0    21850.78\n",
       "17     1004  2018-12      50.0    427.0      31.0    21389.29\n",
       "18     1005  2018-12      59.0    496.0      11.0    17140.17\n",
       "19     1006  2018-11       2.0     10.0      15.0     2068.37"
      ]
     },
     "metadata": {},
     "output_type": "display_data"
    },
    {
     "name": "stdout",
     "output_type": "stream",
     "text": [
      "\n",
      "user_id         0\n",
      "month           0\n",
      "llamadas       35\n",
      "minutos        35\n",
      "mensajes      487\n",
      "trafico_mb     16\n",
      "dtype: int64\n",
      "\n",
      "user_id       0\n",
      "month         0\n",
      "llamadas      0\n",
      "minutos       0\n",
      "mensajes      0\n",
      "trafico_mb    0\n",
      "dtype: int64\n",
      "\n"
     ]
    }
   ],
   "source": [
    "# Fusiona los datos de llamadas, minutos, mensajes e Internet con base en user_id y month\n",
    "\n",
    "consumo_mensual = pd.merge(llamadas_mensuales, minutos_mensuales, on = [\"user_id\",\"month\"], how = \"outer\")\n",
    "consumo_mensual = pd.merge(consumo_mensual, mensajes_mensuales, on = [\"user_id\", \"month\"], how = \"outer\")\n",
    "consumo_mensual = pd.merge(consumo_mensual, trafico_mensual, on = [\"user_id\", \"month\"], how = \"outer\")\n",
    "\n",
    "display(consumo_mensual.head(20))\n",
    "print()\n",
    "print(consumo_mensual.isnull().sum())\n",
    "consumo_mensual.fillna(0, inplace = True)\n",
    "print()\n",
    "print(consumo_mensual.isnull().sum())\n",
    "print()\n",
    "consumo_mensual[\"llamadas\"] = consumo_mensual[\"llamadas\"].astype(int)\n",
    "consumo_mensual[\"minutos\"] = consumo_mensual[\"minutos\"].astype(int)\n",
    "consumo_mensual[\"mensajes\"] = consumo_mensual[\"mensajes\"].astype(int)\n",
    "consumo_mensual[\"trafico_mb\"] = consumo_mensual[\"trafico_mb\"].astype(int)\n"
   ]
  },
  {
   "cell_type": "markdown",
   "metadata": {},
   "source": [
    "\n",
    "Se usa el merge de tipo outer para evitar perder datos de usuarios."
   ]
  },
  {
   "cell_type": "code",
   "execution_count": null,
   "metadata": {
    "id": "0dNOXHag0q1H"
   },
   "outputs": [],
   "source": [
    "# Añade la información de la tarifa\n",
    "consumo_mensual = pd.merge(consumo_mensual, users_df[[\"user_id\",\"plan\",\"city\"]], on = \"user_id\", how = \"left\")\n"
   ]
  },
  {
   "cell_type": "markdown",
   "metadata": {},
   "source": [
    "\n",
    "\n",
    "Se usó \"left\" ya que la data de consumo de usuarios ya esta comnpleta.\n"
   ]
  },
  {
   "cell_type": "code",
   "execution_count": null,
   "metadata": {},
   "outputs": [
    {
     "data": {
      "text/html": [
       "<div>\n",
       "<style scoped>\n",
       "    .dataframe tbody tr th:only-of-type {\n",
       "        vertical-align: middle;\n",
       "    }\n",
       "\n",
       "    .dataframe tbody tr th {\n",
       "        vertical-align: top;\n",
       "    }\n",
       "\n",
       "    .dataframe thead th {\n",
       "        text-align: right;\n",
       "    }\n",
       "</style>\n",
       "<table border=\"1\" class=\"dataframe\">\n",
       "  <thead>\n",
       "    <tr style=\"text-align: right;\">\n",
       "      <th></th>\n",
       "      <th>user_id</th>\n",
       "      <th>month</th>\n",
       "      <th>llamadas</th>\n",
       "      <th>minutos</th>\n",
       "      <th>mensajes</th>\n",
       "      <th>trafico_mb</th>\n",
       "      <th>plan</th>\n",
       "      <th>city</th>\n",
       "    </tr>\n",
       "  </thead>\n",
       "  <tbody>\n",
       "    <tr>\n",
       "      <th>0</th>\n",
       "      <td>1000</td>\n",
       "      <td>2018-12</td>\n",
       "      <td>16</td>\n",
       "      <td>124</td>\n",
       "      <td>11</td>\n",
       "      <td>1901</td>\n",
       "      <td>ultimate</td>\n",
       "      <td>Atlanta-Sandy Springs-Roswell, GA MSA</td>\n",
       "    </tr>\n",
       "    <tr>\n",
       "      <th>1</th>\n",
       "      <td>1001</td>\n",
       "      <td>2018-08</td>\n",
       "      <td>27</td>\n",
       "      <td>182</td>\n",
       "      <td>30</td>\n",
       "      <td>6919</td>\n",
       "      <td>surf</td>\n",
       "      <td>Seattle-Tacoma-Bellevue, WA MSA</td>\n",
       "    </tr>\n",
       "    <tr>\n",
       "      <th>2</th>\n",
       "      <td>1001</td>\n",
       "      <td>2018-09</td>\n",
       "      <td>49</td>\n",
       "      <td>315</td>\n",
       "      <td>44</td>\n",
       "      <td>13314</td>\n",
       "      <td>surf</td>\n",
       "      <td>Seattle-Tacoma-Bellevue, WA MSA</td>\n",
       "    </tr>\n",
       "    <tr>\n",
       "      <th>3</th>\n",
       "      <td>1001</td>\n",
       "      <td>2018-10</td>\n",
       "      <td>65</td>\n",
       "      <td>393</td>\n",
       "      <td>53</td>\n",
       "      <td>22330</td>\n",
       "      <td>surf</td>\n",
       "      <td>Seattle-Tacoma-Bellevue, WA MSA</td>\n",
       "    </tr>\n",
       "    <tr>\n",
       "      <th>4</th>\n",
       "      <td>1001</td>\n",
       "      <td>2018-11</td>\n",
       "      <td>64</td>\n",
       "      <td>426</td>\n",
       "      <td>36</td>\n",
       "      <td>18504</td>\n",
       "      <td>surf</td>\n",
       "      <td>Seattle-Tacoma-Bellevue, WA MSA</td>\n",
       "    </tr>\n",
       "    <tr>\n",
       "      <th>5</th>\n",
       "      <td>1001</td>\n",
       "      <td>2018-12</td>\n",
       "      <td>56</td>\n",
       "      <td>412</td>\n",
       "      <td>44</td>\n",
       "      <td>19369</td>\n",
       "      <td>surf</td>\n",
       "      <td>Seattle-Tacoma-Bellevue, WA MSA</td>\n",
       "    </tr>\n",
       "    <tr>\n",
       "      <th>6</th>\n",
       "      <td>1002</td>\n",
       "      <td>2018-10</td>\n",
       "      <td>11</td>\n",
       "      <td>59</td>\n",
       "      <td>15</td>\n",
       "      <td>6552</td>\n",
       "      <td>surf</td>\n",
       "      <td>Las Vegas-Henderson-Paradise, NV MSA</td>\n",
       "    </tr>\n",
       "    <tr>\n",
       "      <th>7</th>\n",
       "      <td>1002</td>\n",
       "      <td>2018-11</td>\n",
       "      <td>55</td>\n",
       "      <td>386</td>\n",
       "      <td>32</td>\n",
       "      <td>19345</td>\n",
       "      <td>surf</td>\n",
       "      <td>Las Vegas-Henderson-Paradise, NV MSA</td>\n",
       "    </tr>\n",
       "    <tr>\n",
       "      <th>8</th>\n",
       "      <td>1002</td>\n",
       "      <td>2018-12</td>\n",
       "      <td>47</td>\n",
       "      <td>384</td>\n",
       "      <td>41</td>\n",
       "      <td>14396</td>\n",
       "      <td>surf</td>\n",
       "      <td>Las Vegas-Henderson-Paradise, NV MSA</td>\n",
       "    </tr>\n",
       "    <tr>\n",
       "      <th>9</th>\n",
       "      <td>1003</td>\n",
       "      <td>2018-12</td>\n",
       "      <td>149</td>\n",
       "      <td>1104</td>\n",
       "      <td>50</td>\n",
       "      <td>27044</td>\n",
       "      <td>surf</td>\n",
       "      <td>Tulsa, OK MSA</td>\n",
       "    </tr>\n",
       "    <tr>\n",
       "      <th>10</th>\n",
       "      <td>1004</td>\n",
       "      <td>2018-05</td>\n",
       "      <td>21</td>\n",
       "      <td>193</td>\n",
       "      <td>7</td>\n",
       "      <td>6547</td>\n",
       "      <td>surf</td>\n",
       "      <td>Seattle-Tacoma-Bellevue, WA MSA</td>\n",
       "    </tr>\n",
       "    <tr>\n",
       "      <th>11</th>\n",
       "      <td>1004</td>\n",
       "      <td>2018-06</td>\n",
       "      <td>44</td>\n",
       "      <td>275</td>\n",
       "      <td>18</td>\n",
       "      <td>20672</td>\n",
       "      <td>surf</td>\n",
       "      <td>Seattle-Tacoma-Bellevue, WA MSA</td>\n",
       "    </tr>\n",
       "    <tr>\n",
       "      <th>12</th>\n",
       "      <td>1004</td>\n",
       "      <td>2018-07</td>\n",
       "      <td>49</td>\n",
       "      <td>381</td>\n",
       "      <td>26</td>\n",
       "      <td>24516</td>\n",
       "      <td>surf</td>\n",
       "      <td>Seattle-Tacoma-Bellevue, WA MSA</td>\n",
       "    </tr>\n",
       "    <tr>\n",
       "      <th>13</th>\n",
       "      <td>1004</td>\n",
       "      <td>2018-08</td>\n",
       "      <td>49</td>\n",
       "      <td>354</td>\n",
       "      <td>25</td>\n",
       "      <td>27981</td>\n",
       "      <td>surf</td>\n",
       "      <td>Seattle-Tacoma-Bellevue, WA MSA</td>\n",
       "    </tr>\n",
       "    <tr>\n",
       "      <th>14</th>\n",
       "      <td>1004</td>\n",
       "      <td>2018-09</td>\n",
       "      <td>42</td>\n",
       "      <td>301</td>\n",
       "      <td>21</td>\n",
       "      <td>18852</td>\n",
       "      <td>surf</td>\n",
       "      <td>Seattle-Tacoma-Bellevue, WA MSA</td>\n",
       "    </tr>\n",
       "    <tr>\n",
       "      <th>15</th>\n",
       "      <td>1004</td>\n",
       "      <td>2018-10</td>\n",
       "      <td>61</td>\n",
       "      <td>365</td>\n",
       "      <td>24</td>\n",
       "      <td>14541</td>\n",
       "      <td>surf</td>\n",
       "      <td>Seattle-Tacoma-Bellevue, WA MSA</td>\n",
       "    </tr>\n",
       "    <tr>\n",
       "      <th>16</th>\n",
       "      <td>1004</td>\n",
       "      <td>2018-11</td>\n",
       "      <td>54</td>\n",
       "      <td>476</td>\n",
       "      <td>25</td>\n",
       "      <td>21850</td>\n",
       "      <td>surf</td>\n",
       "      <td>Seattle-Tacoma-Bellevue, WA MSA</td>\n",
       "    </tr>\n",
       "    <tr>\n",
       "      <th>17</th>\n",
       "      <td>1004</td>\n",
       "      <td>2018-12</td>\n",
       "      <td>50</td>\n",
       "      <td>427</td>\n",
       "      <td>31</td>\n",
       "      <td>21389</td>\n",
       "      <td>surf</td>\n",
       "      <td>Seattle-Tacoma-Bellevue, WA MSA</td>\n",
       "    </tr>\n",
       "    <tr>\n",
       "      <th>18</th>\n",
       "      <td>1005</td>\n",
       "      <td>2018-12</td>\n",
       "      <td>59</td>\n",
       "      <td>496</td>\n",
       "      <td>11</td>\n",
       "      <td>17140</td>\n",
       "      <td>surf</td>\n",
       "      <td>Dallas-Fort Worth-Arlington, TX MSA</td>\n",
       "    </tr>\n",
       "    <tr>\n",
       "      <th>19</th>\n",
       "      <td>1006</td>\n",
       "      <td>2018-11</td>\n",
       "      <td>2</td>\n",
       "      <td>10</td>\n",
       "      <td>15</td>\n",
       "      <td>2068</td>\n",
       "      <td>ultimate</td>\n",
       "      <td>San Francisco-Oakland-Berkeley, CA MSA</td>\n",
       "    </tr>\n",
       "  </tbody>\n",
       "</table>\n",
       "</div>"
      ],
      "text/plain": [
       "    user_id    month  llamadas  minutos  mensajes  trafico_mb      plan  \\\n",
       "0      1000  2018-12        16      124        11        1901  ultimate   \n",
       "1      1001  2018-08        27      182        30        6919      surf   \n",
       "2      1001  2018-09        49      315        44       13314      surf   \n",
       "3      1001  2018-10        65      393        53       22330      surf   \n",
       "4      1001  2018-11        64      426        36       18504      surf   \n",
       "5      1001  2018-12        56      412        44       19369      surf   \n",
       "6      1002  2018-10        11       59        15        6552      surf   \n",
       "7      1002  2018-11        55      386        32       19345      surf   \n",
       "8      1002  2018-12        47      384        41       14396      surf   \n",
       "9      1003  2018-12       149     1104        50       27044      surf   \n",
       "10     1004  2018-05        21      193         7        6547      surf   \n",
       "11     1004  2018-06        44      275        18       20672      surf   \n",
       "12     1004  2018-07        49      381        26       24516      surf   \n",
       "13     1004  2018-08        49      354        25       27981      surf   \n",
       "14     1004  2018-09        42      301        21       18852      surf   \n",
       "15     1004  2018-10        61      365        24       14541      surf   \n",
       "16     1004  2018-11        54      476        25       21850      surf   \n",
       "17     1004  2018-12        50      427        31       21389      surf   \n",
       "18     1005  2018-12        59      496        11       17140      surf   \n",
       "19     1006  2018-11         2       10        15        2068  ultimate   \n",
       "\n",
       "                                      city  \n",
       "0    Atlanta-Sandy Springs-Roswell, GA MSA  \n",
       "1          Seattle-Tacoma-Bellevue, WA MSA  \n",
       "2          Seattle-Tacoma-Bellevue, WA MSA  \n",
       "3          Seattle-Tacoma-Bellevue, WA MSA  \n",
       "4          Seattle-Tacoma-Bellevue, WA MSA  \n",
       "5          Seattle-Tacoma-Bellevue, WA MSA  \n",
       "6     Las Vegas-Henderson-Paradise, NV MSA  \n",
       "7     Las Vegas-Henderson-Paradise, NV MSA  \n",
       "8     Las Vegas-Henderson-Paradise, NV MSA  \n",
       "9                            Tulsa, OK MSA  \n",
       "10         Seattle-Tacoma-Bellevue, WA MSA  \n",
       "11         Seattle-Tacoma-Bellevue, WA MSA  \n",
       "12         Seattle-Tacoma-Bellevue, WA MSA  \n",
       "13         Seattle-Tacoma-Bellevue, WA MSA  \n",
       "14         Seattle-Tacoma-Bellevue, WA MSA  \n",
       "15         Seattle-Tacoma-Bellevue, WA MSA  \n",
       "16         Seattle-Tacoma-Bellevue, WA MSA  \n",
       "17         Seattle-Tacoma-Bellevue, WA MSA  \n",
       "18     Dallas-Fort Worth-Arlington, TX MSA  \n",
       "19  San Francisco-Oakland-Berkeley, CA MSA  "
      ]
     },
     "metadata": {},
     "output_type": "display_data"
    },
    {
     "name": "stdout",
     "output_type": "stream",
     "text": [
      "<class 'pandas.core.frame.DataFrame'>\n",
      "Int64Index: 2293 entries, 0 to 2292\n",
      "Data columns (total 8 columns):\n",
      " #   Column      Non-Null Count  Dtype    \n",
      "---  ------      --------------  -----    \n",
      " 0   user_id     2293 non-null   int64    \n",
      " 1   month       2293 non-null   period[M]\n",
      " 2   llamadas    2293 non-null   int64    \n",
      " 3   minutos     2293 non-null   int64    \n",
      " 4   mensajes    2293 non-null   int64    \n",
      " 5   trafico_mb  2293 non-null   int64    \n",
      " 6   plan        2293 non-null   object   \n",
      " 7   city        2293 non-null   object   \n",
      "dtypes: int64(5), object(2), period[M](1)\n",
      "memory usage: 161.2+ KB\n"
     ]
    }
   ],
   "source": [
    "\n",
    "display(consumo_mensual.head(20))\n",
    "consumo_mensual.info()"
   ]
  },
  {
   "cell_type": "markdown",
   "metadata": {
    "id": "1IwGo4wg0q1I"
   },
   "source": [
    "Se calcula los ingresos mensuales por usuario (restando el límite del paquete gratuito del número total de llamadas, mensajes de texto y datos; multiplica el resultado por el valor del plan de llamadas; añade la tarifa mensual en función del plan de llamadas)."
   ]
  },
  {
   "cell_type": "code",
   "execution_count": null,
   "metadata": {
    "id": "5FGCf_c60q1I"
   },
   "outputs": [],
   "source": [
    "# Calcula el ingreso mensual para cada usuario\n",
    "#\n",
    "ingreso_mensual = consumo_mensual.merge(plans_df, left_on = \"plan\", right_on = \"plan_name\", how = \"left\")\n"
   ]
  },
  {
   "cell_type": "code",
   "execution_count": null,
   "metadata": {},
   "outputs": [
    {
     "data": {
      "text/html": [
       "<div>\n",
       "<style scoped>\n",
       "    .dataframe tbody tr th:only-of-type {\n",
       "        vertical-align: middle;\n",
       "    }\n",
       "\n",
       "    .dataframe tbody tr th {\n",
       "        vertical-align: top;\n",
       "    }\n",
       "\n",
       "    .dataframe thead th {\n",
       "        text-align: right;\n",
       "    }\n",
       "</style>\n",
       "<table border=\"1\" class=\"dataframe\">\n",
       "  <thead>\n",
       "    <tr style=\"text-align: right;\">\n",
       "      <th></th>\n",
       "      <th>user_id</th>\n",
       "      <th>month</th>\n",
       "      <th>llamadas</th>\n",
       "      <th>minutos</th>\n",
       "      <th>mensajes</th>\n",
       "      <th>trafico_mb</th>\n",
       "      <th>plan</th>\n",
       "      <th>city</th>\n",
       "      <th>messages_included</th>\n",
       "      <th>mb_per_month_included</th>\n",
       "      <th>...</th>\n",
       "      <th>usd_per_message</th>\n",
       "      <th>usd_per_minute</th>\n",
       "      <th>plan_name</th>\n",
       "      <th>extra_minutos</th>\n",
       "      <th>extra_mensajes</th>\n",
       "      <th>extra_mb</th>\n",
       "      <th>costo_extra_minutos</th>\n",
       "      <th>costo_extra_mensajes</th>\n",
       "      <th>costo_extra_mb</th>\n",
       "      <th>ingreso_mensual</th>\n",
       "    </tr>\n",
       "  </thead>\n",
       "  <tbody>\n",
       "    <tr>\n",
       "      <th>0</th>\n",
       "      <td>1000</td>\n",
       "      <td>2018-12</td>\n",
       "      <td>16</td>\n",
       "      <td>124</td>\n",
       "      <td>11</td>\n",
       "      <td>1901</td>\n",
       "      <td>ultimate</td>\n",
       "      <td>Atlanta-Sandy Springs-Roswell, GA MSA</td>\n",
       "      <td>1000</td>\n",
       "      <td>30720</td>\n",
       "      <td>...</td>\n",
       "      <td>0.01</td>\n",
       "      <td>0.01</td>\n",
       "      <td>ultimate</td>\n",
       "      <td>0</td>\n",
       "      <td>0</td>\n",
       "      <td>0</td>\n",
       "      <td>0.00</td>\n",
       "      <td>0.00</td>\n",
       "      <td>0.0</td>\n",
       "      <td>70.00</td>\n",
       "    </tr>\n",
       "    <tr>\n",
       "      <th>1</th>\n",
       "      <td>1001</td>\n",
       "      <td>2018-08</td>\n",
       "      <td>27</td>\n",
       "      <td>182</td>\n",
       "      <td>30</td>\n",
       "      <td>6919</td>\n",
       "      <td>surf</td>\n",
       "      <td>Seattle-Tacoma-Bellevue, WA MSA</td>\n",
       "      <td>50</td>\n",
       "      <td>15360</td>\n",
       "      <td>...</td>\n",
       "      <td>0.03</td>\n",
       "      <td>0.03</td>\n",
       "      <td>surf</td>\n",
       "      <td>0</td>\n",
       "      <td>0</td>\n",
       "      <td>0</td>\n",
       "      <td>0.00</td>\n",
       "      <td>0.00</td>\n",
       "      <td>0.0</td>\n",
       "      <td>20.00</td>\n",
       "    </tr>\n",
       "    <tr>\n",
       "      <th>2</th>\n",
       "      <td>1001</td>\n",
       "      <td>2018-09</td>\n",
       "      <td>49</td>\n",
       "      <td>315</td>\n",
       "      <td>44</td>\n",
       "      <td>13314</td>\n",
       "      <td>surf</td>\n",
       "      <td>Seattle-Tacoma-Bellevue, WA MSA</td>\n",
       "      <td>50</td>\n",
       "      <td>15360</td>\n",
       "      <td>...</td>\n",
       "      <td>0.03</td>\n",
       "      <td>0.03</td>\n",
       "      <td>surf</td>\n",
       "      <td>0</td>\n",
       "      <td>0</td>\n",
       "      <td>0</td>\n",
       "      <td>0.00</td>\n",
       "      <td>0.00</td>\n",
       "      <td>0.0</td>\n",
       "      <td>20.00</td>\n",
       "    </tr>\n",
       "    <tr>\n",
       "      <th>3</th>\n",
       "      <td>1001</td>\n",
       "      <td>2018-10</td>\n",
       "      <td>65</td>\n",
       "      <td>393</td>\n",
       "      <td>53</td>\n",
       "      <td>22330</td>\n",
       "      <td>surf</td>\n",
       "      <td>Seattle-Tacoma-Bellevue, WA MSA</td>\n",
       "      <td>50</td>\n",
       "      <td>15360</td>\n",
       "      <td>...</td>\n",
       "      <td>0.03</td>\n",
       "      <td>0.03</td>\n",
       "      <td>surf</td>\n",
       "      <td>0</td>\n",
       "      <td>3</td>\n",
       "      <td>6970</td>\n",
       "      <td>0.00</td>\n",
       "      <td>0.09</td>\n",
       "      <td>70.0</td>\n",
       "      <td>90.09</td>\n",
       "    </tr>\n",
       "    <tr>\n",
       "      <th>4</th>\n",
       "      <td>1001</td>\n",
       "      <td>2018-11</td>\n",
       "      <td>64</td>\n",
       "      <td>426</td>\n",
       "      <td>36</td>\n",
       "      <td>18504</td>\n",
       "      <td>surf</td>\n",
       "      <td>Seattle-Tacoma-Bellevue, WA MSA</td>\n",
       "      <td>50</td>\n",
       "      <td>15360</td>\n",
       "      <td>...</td>\n",
       "      <td>0.03</td>\n",
       "      <td>0.03</td>\n",
       "      <td>surf</td>\n",
       "      <td>0</td>\n",
       "      <td>0</td>\n",
       "      <td>3144</td>\n",
       "      <td>0.00</td>\n",
       "      <td>0.00</td>\n",
       "      <td>40.0</td>\n",
       "      <td>60.00</td>\n",
       "    </tr>\n",
       "    <tr>\n",
       "      <th>5</th>\n",
       "      <td>1001</td>\n",
       "      <td>2018-12</td>\n",
       "      <td>56</td>\n",
       "      <td>412</td>\n",
       "      <td>44</td>\n",
       "      <td>19369</td>\n",
       "      <td>surf</td>\n",
       "      <td>Seattle-Tacoma-Bellevue, WA MSA</td>\n",
       "      <td>50</td>\n",
       "      <td>15360</td>\n",
       "      <td>...</td>\n",
       "      <td>0.03</td>\n",
       "      <td>0.03</td>\n",
       "      <td>surf</td>\n",
       "      <td>0</td>\n",
       "      <td>0</td>\n",
       "      <td>4009</td>\n",
       "      <td>0.00</td>\n",
       "      <td>0.00</td>\n",
       "      <td>40.0</td>\n",
       "      <td>60.00</td>\n",
       "    </tr>\n",
       "    <tr>\n",
       "      <th>6</th>\n",
       "      <td>1002</td>\n",
       "      <td>2018-10</td>\n",
       "      <td>11</td>\n",
       "      <td>59</td>\n",
       "      <td>15</td>\n",
       "      <td>6552</td>\n",
       "      <td>surf</td>\n",
       "      <td>Las Vegas-Henderson-Paradise, NV MSA</td>\n",
       "      <td>50</td>\n",
       "      <td>15360</td>\n",
       "      <td>...</td>\n",
       "      <td>0.03</td>\n",
       "      <td>0.03</td>\n",
       "      <td>surf</td>\n",
       "      <td>0</td>\n",
       "      <td>0</td>\n",
       "      <td>0</td>\n",
       "      <td>0.00</td>\n",
       "      <td>0.00</td>\n",
       "      <td>0.0</td>\n",
       "      <td>20.00</td>\n",
       "    </tr>\n",
       "    <tr>\n",
       "      <th>7</th>\n",
       "      <td>1002</td>\n",
       "      <td>2018-11</td>\n",
       "      <td>55</td>\n",
       "      <td>386</td>\n",
       "      <td>32</td>\n",
       "      <td>19345</td>\n",
       "      <td>surf</td>\n",
       "      <td>Las Vegas-Henderson-Paradise, NV MSA</td>\n",
       "      <td>50</td>\n",
       "      <td>15360</td>\n",
       "      <td>...</td>\n",
       "      <td>0.03</td>\n",
       "      <td>0.03</td>\n",
       "      <td>surf</td>\n",
       "      <td>0</td>\n",
       "      <td>0</td>\n",
       "      <td>3985</td>\n",
       "      <td>0.00</td>\n",
       "      <td>0.00</td>\n",
       "      <td>40.0</td>\n",
       "      <td>60.00</td>\n",
       "    </tr>\n",
       "    <tr>\n",
       "      <th>8</th>\n",
       "      <td>1002</td>\n",
       "      <td>2018-12</td>\n",
       "      <td>47</td>\n",
       "      <td>384</td>\n",
       "      <td>41</td>\n",
       "      <td>14396</td>\n",
       "      <td>surf</td>\n",
       "      <td>Las Vegas-Henderson-Paradise, NV MSA</td>\n",
       "      <td>50</td>\n",
       "      <td>15360</td>\n",
       "      <td>...</td>\n",
       "      <td>0.03</td>\n",
       "      <td>0.03</td>\n",
       "      <td>surf</td>\n",
       "      <td>0</td>\n",
       "      <td>0</td>\n",
       "      <td>0</td>\n",
       "      <td>0.00</td>\n",
       "      <td>0.00</td>\n",
       "      <td>0.0</td>\n",
       "      <td>20.00</td>\n",
       "    </tr>\n",
       "    <tr>\n",
       "      <th>9</th>\n",
       "      <td>1003</td>\n",
       "      <td>2018-12</td>\n",
       "      <td>149</td>\n",
       "      <td>1104</td>\n",
       "      <td>50</td>\n",
       "      <td>27044</td>\n",
       "      <td>surf</td>\n",
       "      <td>Tulsa, OK MSA</td>\n",
       "      <td>50</td>\n",
       "      <td>15360</td>\n",
       "      <td>...</td>\n",
       "      <td>0.03</td>\n",
       "      <td>0.03</td>\n",
       "      <td>surf</td>\n",
       "      <td>604</td>\n",
       "      <td>0</td>\n",
       "      <td>11684</td>\n",
       "      <td>18.12</td>\n",
       "      <td>0.00</td>\n",
       "      <td>120.0</td>\n",
       "      <td>158.12</td>\n",
       "    </tr>\n",
       "    <tr>\n",
       "      <th>10</th>\n",
       "      <td>1004</td>\n",
       "      <td>2018-05</td>\n",
       "      <td>21</td>\n",
       "      <td>193</td>\n",
       "      <td>7</td>\n",
       "      <td>6547</td>\n",
       "      <td>surf</td>\n",
       "      <td>Seattle-Tacoma-Bellevue, WA MSA</td>\n",
       "      <td>50</td>\n",
       "      <td>15360</td>\n",
       "      <td>...</td>\n",
       "      <td>0.03</td>\n",
       "      <td>0.03</td>\n",
       "      <td>surf</td>\n",
       "      <td>0</td>\n",
       "      <td>0</td>\n",
       "      <td>0</td>\n",
       "      <td>0.00</td>\n",
       "      <td>0.00</td>\n",
       "      <td>0.0</td>\n",
       "      <td>20.00</td>\n",
       "    </tr>\n",
       "    <tr>\n",
       "      <th>11</th>\n",
       "      <td>1004</td>\n",
       "      <td>2018-06</td>\n",
       "      <td>44</td>\n",
       "      <td>275</td>\n",
       "      <td>18</td>\n",
       "      <td>20672</td>\n",
       "      <td>surf</td>\n",
       "      <td>Seattle-Tacoma-Bellevue, WA MSA</td>\n",
       "      <td>50</td>\n",
       "      <td>15360</td>\n",
       "      <td>...</td>\n",
       "      <td>0.03</td>\n",
       "      <td>0.03</td>\n",
       "      <td>surf</td>\n",
       "      <td>0</td>\n",
       "      <td>0</td>\n",
       "      <td>5312</td>\n",
       "      <td>0.00</td>\n",
       "      <td>0.00</td>\n",
       "      <td>60.0</td>\n",
       "      <td>80.00</td>\n",
       "    </tr>\n",
       "    <tr>\n",
       "      <th>12</th>\n",
       "      <td>1004</td>\n",
       "      <td>2018-07</td>\n",
       "      <td>49</td>\n",
       "      <td>381</td>\n",
       "      <td>26</td>\n",
       "      <td>24516</td>\n",
       "      <td>surf</td>\n",
       "      <td>Seattle-Tacoma-Bellevue, WA MSA</td>\n",
       "      <td>50</td>\n",
       "      <td>15360</td>\n",
       "      <td>...</td>\n",
       "      <td>0.03</td>\n",
       "      <td>0.03</td>\n",
       "      <td>surf</td>\n",
       "      <td>0</td>\n",
       "      <td>0</td>\n",
       "      <td>9156</td>\n",
       "      <td>0.00</td>\n",
       "      <td>0.00</td>\n",
       "      <td>90.0</td>\n",
       "      <td>110.00</td>\n",
       "    </tr>\n",
       "    <tr>\n",
       "      <th>13</th>\n",
       "      <td>1004</td>\n",
       "      <td>2018-08</td>\n",
       "      <td>49</td>\n",
       "      <td>354</td>\n",
       "      <td>25</td>\n",
       "      <td>27981</td>\n",
       "      <td>surf</td>\n",
       "      <td>Seattle-Tacoma-Bellevue, WA MSA</td>\n",
       "      <td>50</td>\n",
       "      <td>15360</td>\n",
       "      <td>...</td>\n",
       "      <td>0.03</td>\n",
       "      <td>0.03</td>\n",
       "      <td>surf</td>\n",
       "      <td>0</td>\n",
       "      <td>0</td>\n",
       "      <td>12621</td>\n",
       "      <td>0.00</td>\n",
       "      <td>0.00</td>\n",
       "      <td>130.0</td>\n",
       "      <td>150.00</td>\n",
       "    </tr>\n",
       "    <tr>\n",
       "      <th>14</th>\n",
       "      <td>1004</td>\n",
       "      <td>2018-09</td>\n",
       "      <td>42</td>\n",
       "      <td>301</td>\n",
       "      <td>21</td>\n",
       "      <td>18852</td>\n",
       "      <td>surf</td>\n",
       "      <td>Seattle-Tacoma-Bellevue, WA MSA</td>\n",
       "      <td>50</td>\n",
       "      <td>15360</td>\n",
       "      <td>...</td>\n",
       "      <td>0.03</td>\n",
       "      <td>0.03</td>\n",
       "      <td>surf</td>\n",
       "      <td>0</td>\n",
       "      <td>0</td>\n",
       "      <td>3492</td>\n",
       "      <td>0.00</td>\n",
       "      <td>0.00</td>\n",
       "      <td>40.0</td>\n",
       "      <td>60.00</td>\n",
       "    </tr>\n",
       "    <tr>\n",
       "      <th>15</th>\n",
       "      <td>1004</td>\n",
       "      <td>2018-10</td>\n",
       "      <td>61</td>\n",
       "      <td>365</td>\n",
       "      <td>24</td>\n",
       "      <td>14541</td>\n",
       "      <td>surf</td>\n",
       "      <td>Seattle-Tacoma-Bellevue, WA MSA</td>\n",
       "      <td>50</td>\n",
       "      <td>15360</td>\n",
       "      <td>...</td>\n",
       "      <td>0.03</td>\n",
       "      <td>0.03</td>\n",
       "      <td>surf</td>\n",
       "      <td>0</td>\n",
       "      <td>0</td>\n",
       "      <td>0</td>\n",
       "      <td>0.00</td>\n",
       "      <td>0.00</td>\n",
       "      <td>0.0</td>\n",
       "      <td>20.00</td>\n",
       "    </tr>\n",
       "    <tr>\n",
       "      <th>16</th>\n",
       "      <td>1004</td>\n",
       "      <td>2018-11</td>\n",
       "      <td>54</td>\n",
       "      <td>476</td>\n",
       "      <td>25</td>\n",
       "      <td>21850</td>\n",
       "      <td>surf</td>\n",
       "      <td>Seattle-Tacoma-Bellevue, WA MSA</td>\n",
       "      <td>50</td>\n",
       "      <td>15360</td>\n",
       "      <td>...</td>\n",
       "      <td>0.03</td>\n",
       "      <td>0.03</td>\n",
       "      <td>surf</td>\n",
       "      <td>0</td>\n",
       "      <td>0</td>\n",
       "      <td>6490</td>\n",
       "      <td>0.00</td>\n",
       "      <td>0.00</td>\n",
       "      <td>70.0</td>\n",
       "      <td>90.00</td>\n",
       "    </tr>\n",
       "    <tr>\n",
       "      <th>17</th>\n",
       "      <td>1004</td>\n",
       "      <td>2018-12</td>\n",
       "      <td>50</td>\n",
       "      <td>427</td>\n",
       "      <td>31</td>\n",
       "      <td>21389</td>\n",
       "      <td>surf</td>\n",
       "      <td>Seattle-Tacoma-Bellevue, WA MSA</td>\n",
       "      <td>50</td>\n",
       "      <td>15360</td>\n",
       "      <td>...</td>\n",
       "      <td>0.03</td>\n",
       "      <td>0.03</td>\n",
       "      <td>surf</td>\n",
       "      <td>0</td>\n",
       "      <td>0</td>\n",
       "      <td>6029</td>\n",
       "      <td>0.00</td>\n",
       "      <td>0.00</td>\n",
       "      <td>60.0</td>\n",
       "      <td>80.00</td>\n",
       "    </tr>\n",
       "    <tr>\n",
       "      <th>18</th>\n",
       "      <td>1005</td>\n",
       "      <td>2018-12</td>\n",
       "      <td>59</td>\n",
       "      <td>496</td>\n",
       "      <td>11</td>\n",
       "      <td>17140</td>\n",
       "      <td>surf</td>\n",
       "      <td>Dallas-Fort Worth-Arlington, TX MSA</td>\n",
       "      <td>50</td>\n",
       "      <td>15360</td>\n",
       "      <td>...</td>\n",
       "      <td>0.03</td>\n",
       "      <td>0.03</td>\n",
       "      <td>surf</td>\n",
       "      <td>0</td>\n",
       "      <td>0</td>\n",
       "      <td>1780</td>\n",
       "      <td>0.00</td>\n",
       "      <td>0.00</td>\n",
       "      <td>20.0</td>\n",
       "      <td>40.00</td>\n",
       "    </tr>\n",
       "    <tr>\n",
       "      <th>19</th>\n",
       "      <td>1006</td>\n",
       "      <td>2018-11</td>\n",
       "      <td>2</td>\n",
       "      <td>10</td>\n",
       "      <td>15</td>\n",
       "      <td>2068</td>\n",
       "      <td>ultimate</td>\n",
       "      <td>San Francisco-Oakland-Berkeley, CA MSA</td>\n",
       "      <td>1000</td>\n",
       "      <td>30720</td>\n",
       "      <td>...</td>\n",
       "      <td>0.01</td>\n",
       "      <td>0.01</td>\n",
       "      <td>ultimate</td>\n",
       "      <td>0</td>\n",
       "      <td>0</td>\n",
       "      <td>0</td>\n",
       "      <td>0.00</td>\n",
       "      <td>0.00</td>\n",
       "      <td>0.0</td>\n",
       "      <td>70.00</td>\n",
       "    </tr>\n",
       "  </tbody>\n",
       "</table>\n",
       "<p>20 rows × 23 columns</p>\n",
       "</div>"
      ],
      "text/plain": [
       "    user_id    month  llamadas  minutos  mensajes  trafico_mb      plan  \\\n",
       "0      1000  2018-12        16      124        11        1901  ultimate   \n",
       "1      1001  2018-08        27      182        30        6919      surf   \n",
       "2      1001  2018-09        49      315        44       13314      surf   \n",
       "3      1001  2018-10        65      393        53       22330      surf   \n",
       "4      1001  2018-11        64      426        36       18504      surf   \n",
       "5      1001  2018-12        56      412        44       19369      surf   \n",
       "6      1002  2018-10        11       59        15        6552      surf   \n",
       "7      1002  2018-11        55      386        32       19345      surf   \n",
       "8      1002  2018-12        47      384        41       14396      surf   \n",
       "9      1003  2018-12       149     1104        50       27044      surf   \n",
       "10     1004  2018-05        21      193         7        6547      surf   \n",
       "11     1004  2018-06        44      275        18       20672      surf   \n",
       "12     1004  2018-07        49      381        26       24516      surf   \n",
       "13     1004  2018-08        49      354        25       27981      surf   \n",
       "14     1004  2018-09        42      301        21       18852      surf   \n",
       "15     1004  2018-10        61      365        24       14541      surf   \n",
       "16     1004  2018-11        54      476        25       21850      surf   \n",
       "17     1004  2018-12        50      427        31       21389      surf   \n",
       "18     1005  2018-12        59      496        11       17140      surf   \n",
       "19     1006  2018-11         2       10        15        2068  ultimate   \n",
       "\n",
       "                                      city  messages_included  \\\n",
       "0    Atlanta-Sandy Springs-Roswell, GA MSA               1000   \n",
       "1          Seattle-Tacoma-Bellevue, WA MSA                 50   \n",
       "2          Seattle-Tacoma-Bellevue, WA MSA                 50   \n",
       "3          Seattle-Tacoma-Bellevue, WA MSA                 50   \n",
       "4          Seattle-Tacoma-Bellevue, WA MSA                 50   \n",
       "5          Seattle-Tacoma-Bellevue, WA MSA                 50   \n",
       "6     Las Vegas-Henderson-Paradise, NV MSA                 50   \n",
       "7     Las Vegas-Henderson-Paradise, NV MSA                 50   \n",
       "8     Las Vegas-Henderson-Paradise, NV MSA                 50   \n",
       "9                            Tulsa, OK MSA                 50   \n",
       "10         Seattle-Tacoma-Bellevue, WA MSA                 50   \n",
       "11         Seattle-Tacoma-Bellevue, WA MSA                 50   \n",
       "12         Seattle-Tacoma-Bellevue, WA MSA                 50   \n",
       "13         Seattle-Tacoma-Bellevue, WA MSA                 50   \n",
       "14         Seattle-Tacoma-Bellevue, WA MSA                 50   \n",
       "15         Seattle-Tacoma-Bellevue, WA MSA                 50   \n",
       "16         Seattle-Tacoma-Bellevue, WA MSA                 50   \n",
       "17         Seattle-Tacoma-Bellevue, WA MSA                 50   \n",
       "18     Dallas-Fort Worth-Arlington, TX MSA                 50   \n",
       "19  San Francisco-Oakland-Berkeley, CA MSA               1000   \n",
       "\n",
       "    mb_per_month_included  ...  usd_per_message  usd_per_minute  plan_name  \\\n",
       "0                   30720  ...             0.01            0.01   ultimate   \n",
       "1                   15360  ...             0.03            0.03       surf   \n",
       "2                   15360  ...             0.03            0.03       surf   \n",
       "3                   15360  ...             0.03            0.03       surf   \n",
       "4                   15360  ...             0.03            0.03       surf   \n",
       "5                   15360  ...             0.03            0.03       surf   \n",
       "6                   15360  ...             0.03            0.03       surf   \n",
       "7                   15360  ...             0.03            0.03       surf   \n",
       "8                   15360  ...             0.03            0.03       surf   \n",
       "9                   15360  ...             0.03            0.03       surf   \n",
       "10                  15360  ...             0.03            0.03       surf   \n",
       "11                  15360  ...             0.03            0.03       surf   \n",
       "12                  15360  ...             0.03            0.03       surf   \n",
       "13                  15360  ...             0.03            0.03       surf   \n",
       "14                  15360  ...             0.03            0.03       surf   \n",
       "15                  15360  ...             0.03            0.03       surf   \n",
       "16                  15360  ...             0.03            0.03       surf   \n",
       "17                  15360  ...             0.03            0.03       surf   \n",
       "18                  15360  ...             0.03            0.03       surf   \n",
       "19                  30720  ...             0.01            0.01   ultimate   \n",
       "\n",
       "    extra_minutos  extra_mensajes extra_mb  costo_extra_minutos  \\\n",
       "0               0               0        0                 0.00   \n",
       "1               0               0        0                 0.00   \n",
       "2               0               0        0                 0.00   \n",
       "3               0               3     6970                 0.00   \n",
       "4               0               0     3144                 0.00   \n",
       "5               0               0     4009                 0.00   \n",
       "6               0               0        0                 0.00   \n",
       "7               0               0     3985                 0.00   \n",
       "8               0               0        0                 0.00   \n",
       "9             604               0    11684                18.12   \n",
       "10              0               0        0                 0.00   \n",
       "11              0               0     5312                 0.00   \n",
       "12              0               0     9156                 0.00   \n",
       "13              0               0    12621                 0.00   \n",
       "14              0               0     3492                 0.00   \n",
       "15              0               0        0                 0.00   \n",
       "16              0               0     6490                 0.00   \n",
       "17              0               0     6029                 0.00   \n",
       "18              0               0     1780                 0.00   \n",
       "19              0               0        0                 0.00   \n",
       "\n",
       "    costo_extra_mensajes  costo_extra_mb  ingreso_mensual  \n",
       "0                   0.00             0.0            70.00  \n",
       "1                   0.00             0.0            20.00  \n",
       "2                   0.00             0.0            20.00  \n",
       "3                   0.09            70.0            90.09  \n",
       "4                   0.00            40.0            60.00  \n",
       "5                   0.00            40.0            60.00  \n",
       "6                   0.00             0.0            20.00  \n",
       "7                   0.00            40.0            60.00  \n",
       "8                   0.00             0.0            20.00  \n",
       "9                   0.00           120.0           158.12  \n",
       "10                  0.00             0.0            20.00  \n",
       "11                  0.00            60.0            80.00  \n",
       "12                  0.00            90.0           110.00  \n",
       "13                  0.00           130.0           150.00  \n",
       "14                  0.00            40.0            60.00  \n",
       "15                  0.00             0.0            20.00  \n",
       "16                  0.00            70.0            90.00  \n",
       "17                  0.00            60.0            80.00  \n",
       "18                  0.00            20.0            40.00  \n",
       "19                  0.00             0.0            70.00  \n",
       "\n",
       "[20 rows x 23 columns]"
      ]
     },
     "metadata": {},
     "output_type": "display_data"
    }
   ],
   "source": [
    "ingreso_mensual[\"extra_minutos\"] = (ingreso_mensual[\"minutos\"] - ingreso_mensual[\"minutes_included\"]).clip(lower = 0)\n",
    "ingreso_mensual[\"extra_mensajes\"] = (ingreso_mensual[\"mensajes\"] - ingreso_mensual[\"messages_included\"]).clip(lower = 0)\n",
    "ingreso_mensual[\"extra_mb\"] = (ingreso_mensual[\"trafico_mb\"] - ingreso_mensual[\"mb_per_month_included\"]).clip(lower = 0)\n",
    "\n",
    "ingreso_mensual[\"costo_extra_minutos\"] = ingreso_mensual[\"extra_minutos\"] * ingreso_mensual[\"usd_per_minute\"]\n",
    "ingreso_mensual[\"costo_extra_mensajes\"] = ingreso_mensual[\"extra_mensajes\"] * ingreso_mensual[\"usd_per_message\"]\n",
    "ingreso_mensual[\"costo_extra_mb\"] = (ingreso_mensual[\"extra_mb\"]/1024).apply(np.ceil) * ingreso_mensual[\"usd_per_gb\"]\n",
    "\n",
    "ingreso_mensual[\"ingreso_mensual\"] = ingreso_mensual[\"usd_monthly_pay\"] + ingreso_mensual[\"costo_extra_minutos\"] + ingreso_mensual[\"costo_extra_mensajes\"] + ingreso_mensual[\"costo_extra_mb\"]\n",
    "\n",
    "display(ingreso_mensual.head(20))"
   ]
  },
  {
   "cell_type": "markdown",
   "metadata": {
    "id": "-jtyHzJb0q1I"
   },
   "source": [
    "## Estudia el comportamiento de usuario"
   ]
  },
  {
   "cell_type": "markdown",
   "metadata": {
    "id": "AxU3Y0N70q1J"
   },
   "source": [
    "Se calculan algunas estadísticas descriptivas para los datos agregados y fusionados que nos sean útiles y que muestren un panorama general captado por los datos. Y presentan gráficos útiles para facilitar la comprensión. Dado que que el objetivo principal es comparar las tarifas y decidir cuál es más rentable, las estadísticas y gráficas se calculan por tarifa."
   ]
  },
  {
   "cell_type": "markdown",
   "metadata": {
    "id": "vtW4CJEe0q1J"
   },
   "source": [
    "### Llamadas"
   ]
  },
  {
   "cell_type": "code",
   "execution_count": null,
   "metadata": {
    "id": "Jf5v5--k0q1J"
   },
   "outputs": [
    {
     "data": {
      "image/png": "[encoded data removed]",
      "text/plain": [
       "<Figure size 600x400 with 1 Axes>"
      ]
     },
     "metadata": {},
     "output_type": "display_data"
    }
   ],
   "source": [
    "# Compara la duración promedio de llamadas por cada plan y por cada mes. Traza un gráfico de barras para visualizarla.\n",
    "consumo_mensual[\"mins_promedio_llamada\"] = consumo_mensual[\"minutos\"]/consumo_mensual[\"llamadas\"]\n",
    "tiempo_prom_llamadas = consumo_mensual.groupby([\"month\",\"plan\"])[\"mins_promedio_llamada\"].mean().unstack()\n",
    "tiempo_prom_llamadas.plot(kind = \"bar\",\n",
    "                          xlabel = \"Mes\",\n",
    "                          ylabel = \"Minutos promedio por llamada\",\n",
    "                          title = \"Duracion promedio de llamadas por mes\",\n",
    "                          figsize = [6,4],\n",
    "                          ylim = (0,11)\n",
    "                         )\n",
    "plt.show()\n"
   ]
  },
  {
   "cell_type": "markdown",
   "metadata": {},
   "source": [
    "Observamos que en los meses recientes el consumo promedio se iguala.\n"
   ]
  },
  {
   "cell_type": "code",
   "execution_count": null,
   "metadata": {
    "id": "QoLqW1S_0q1J"
   },
   "outputs": [
    {
     "data": {
      "image/png": "[encoded data removed]",
      "text/plain": [
       "<Figure size 640x480 with 1 Axes>"
      ]
     },
     "metadata": {},
     "output_type": "display_data"
    }
   ],
   "source": [
    "# Compara el número de minutos mensuales que necesitan los usuarios de cada plan. Traza un histograma.\n",
    "\n",
    "surf = consumo_mensual[consumo_mensual[\"plan\"] == \"surf\"]\n",
    "ultimate = consumo_mensual[consumo_mensual[\"plan\"] == \"ultimate\"]\n",
    "\n",
    "surf[\"minutos\"].plot(kind = \"hist\",\n",
    "                     bins = 25,\n",
    "                     title = \"Minutos consumidos por plan del usuario\",\n",
    "                     legend = \"Surf\"\n",
    "                    )\n",
    "ultimate[\"minutos\"].plot(kind = \"hist\",\n",
    "                        bins = 25,\n",
    "                        color = \"yellow\",\n",
    "                        legend = \"Ultimate\"\n",
    "                        )\n",
    "plt.ylabel(\"Usuarios\")\n",
    "plt.xlabel(\"Minutos consumidos\")\n",
    "plt.legend([\"Surf\",\"Ultimate\"])\n",
    "plt.show()\n"
   ]
  },
  {
   "cell_type": "markdown",
   "metadata": {},
   "source": [
    "Las distribuciones son más o menos similares, pero surf está más concentrado"
   ]
  },
  {
   "cell_type": "markdown",
   "metadata": {
    "id": "bLS9T8OH0q1K"
   },
   "source": [
    "Se calcula el promedio/media y la variable de la duración de las llamadas para averiguar si los usuarios de los distintos planes se comportan de forma diferente al realizar sus llamadas."
   ]
  },
  {
   "cell_type": "code",
   "execution_count": null,
   "metadata": {
    "id": "oSndbAnt0q1K"
   },
   "outputs": [
    {
     "name": "stdout",
     "output_type": "stream",
     "text": [
      "La media de los minutos para el plan 'Surf' es de: 428.75\n",
      "La variacion de los minutos para el plan 'Surf' es de: 54933.33\n",
      "La desviacion estandar de los minutos del plan 'Surf' es de: 234.38\n",
      "\n",
      "La media de los minutos para el plan 'Ultimate' es de: 430.45\n",
      "La variacion de los minutos para el plan 'Ultimate' es de: 57764.13\n",
      "La desviacion estandar de los minutos del plan 'Ultimate' es de: 240.34\n"
     ]
    }
   ],
   "source": [
    "# Calcula la media y la varianza de la duración mensual de llamadas.\n",
    "media_minutos_surf = surf[\"minutos\"].mean()\n",
    "var_minutos_surf = np.var(surf[\"minutos\"])\n",
    "std_minutos_surf = np.sqrt(var_minutos_surf)\n",
    "\n",
    "media_minutos_ulti = ultimate[\"minutos\"].mean()\n",
    "var_minutos_ulti = np.var(ultimate[\"minutos\"])\n",
    "std_minutos_ulti = np.sqrt(var_minutos_ulti)\n",
    "\n",
    "print(f\"La media de los minutos para el plan 'Surf' es de: {media_minutos_surf.round(2)}\")\n",
    "print(f\"La variacion de los minutos para el plan 'Surf' es de: {var_minutos_surf.round(2)}\")\n",
    "print(f\"La desviacion estandar de los minutos del plan 'Surf' es de: {std_minutos_surf.round(2)}\")\n",
    "print()\n",
    "print(f\"La media de los minutos para el plan 'Ultimate' es de: {media_minutos_ulti.round(2)}\")\n",
    "print(f\"La variacion de los minutos para el plan 'Ultimate' es de: {var_minutos_ulti.round(2)}\")\n",
    "print(f\"La desviacion estandar de los minutos del plan 'Ultimate' es de: {std_minutos_ulti.round(2)}\")\n"
   ]
  },
  {
   "cell_type": "code",
   "execution_count": null,
   "metadata": {
    "id": "nZzoRUKc0q1K"
   },
   "outputs": [
    {
     "data": {
      "image/png": "[encoded data removed]",
      "text/plain": [
       "<Figure size 640x480 with 1 Axes>"
      ]
     },
     "metadata": {},
     "output_type": "display_data"
    },
    {
     "data": {
      "text/plain": [
       "<Figure size 800x500 with 0 Axes>"
      ]
     },
     "metadata": {},
     "output_type": "display_data"
    }
   ],
   "source": [
    "# Traza un diagrama de caja para visualizar la distribución de la duración mensual de llamadas\n",
    "plt.title(\"Duracion mensual por de llamadas por plan\")\n",
    "plt.boxplot([surf[\"minutos\"], ultimate[\"minutos\"]],\n",
    "           labels = [\"Surf\", \"Ultimate\"]            \n",
    "           )\n",
    "plt.ylabel(\"Minutos\")\n",
    "plt.grid(True)\n",
    "plt.figure(figsize = (8,5))\n",
    "\n",
    "\n",
    "plt.show()"
   ]
  },
  {
   "cell_type": "markdown",
   "metadata": {},
   "source": [
    "En realidad ambos planes son similares en consumo de llamadas."
   ]
  },
  {
   "cell_type": "code",
   "execution_count": null,
   "metadata": {},
   "outputs": [
    {
     "name": "stdout",
     "output_type": "stream",
     "text": [
      "Estadisticos del plan 'Surf':\n",
      " count    1573.00\n",
      "mean      428.75\n",
      "std       234.45\n",
      "min         0.00\n",
      "25%       272.00\n",
      "50%       425.00\n",
      "75%       576.00\n",
      "max      1510.00\n",
      "Name: minutos, dtype: float64\n",
      "\n",
      "Estadisticos del plan 'Ultimate':\n",
      " count     720.00\n",
      "mean      430.45\n",
      "std       240.51\n",
      "min         0.00\n",
      "25%       260.00\n",
      "50%       424.00\n",
      "75%       565.25\n",
      "max      1369.00\n",
      "Name: minutos, dtype: float64\n",
      "\n",
      "   messages_included  mb_per_month_included  minutes_included  \\\n",
      "0                 50                  15360               500   \n",
      "1               1000                  30720              3000   \n",
      "\n",
      "   usd_monthly_pay  usd_per_gb  usd_per_message  usd_per_minute plan_name  \n",
      "0               20          10             0.03            0.03      surf  \n",
      "1               70           7             0.01            0.01  ultimate  \n"
     ]
    }
   ],
   "source": [
    "print(\"Estadisticos del plan 'Surf':\\n\",surf[\"minutos\"].describe().round(2))\n",
    "print()\n",
    "print(\"Estadisticos del plan 'Ultimate':\\n\",ultimate[\"minutos\"].describe().round(2))\n",
    "print()\n",
    "print(plans_df.head())"
   ]
  },
  {
   "cell_type": "markdown",
   "metadata": {
    "id": "r627zBO50q1K"
   },
   "source": [
    "Conclusiones\n",
    "\n",
    "Podemos observar que del comportamiento de los usuarios, los usuarios del plan \"surf\" en promedio utilizan casi todo los minutos que incluye su paquete y casi el 50% de ellos superan el limite de minutos por mes. En cambio, los usuarios del paquete \"ultimate\", en promedio, utilizan la misma cantidad de minutos al mes, teniendo en cuenta que su limite es de 3000 minutos.\n",
    "\n",
    "Podemos observar que los usuarios del plan \"surf\" consumen mas minutos en sus llamadas que los usuarios del plan \"ultimate\""
   ]
  },
  {
   "cell_type": "markdown",
   "metadata": {
    "id": "8idKy8Wh0q1L"
   },
   "source": [
    "### Mensajes"
   ]
  },
  {
   "cell_type": "code",
   "execution_count": null,
   "metadata": {
    "id": "NXLxiTit0q1L"
   },
   "outputs": [
    {
     "data": {
      "image/png": "[encoded data removed]",
      "text/plain": [
       "<Figure size 640x480 with 1 Axes>"
      ]
     },
     "metadata": {},
     "output_type": "display_data"
    }
   ],
   "source": [
    "# Comprara el número de mensajes que tienden a enviar cada mes los usuarios de cada plan\n",
    "surf[\"mensajes\"].plot(kind= \"hist\",\n",
    "                     bins = 20)\n",
    "ultimate[\"mensajes\"].plot(kind = \"hist\",\n",
    "                         bins = 20,\n",
    "                         color = \"orange\")\n",
    "plt.xlabel(\"Mensajes\")\n",
    "plt.ylabel(\"Usuarios\")\n",
    "plt.title(\"Mensajes mensuales por usuario\")\n",
    "plt.legend([\"Surf\",\"Ultimate\"])\n",
    "plt.show()"
   ]
  },
  {
   "cell_type": "code",
   "execution_count": null,
   "metadata": {},
   "outputs": [
    {
     "data": {
      "image/png": "[encoded data removed]",
      "text/plain": [
       "<Figure size 640x480 with 1 Axes>"
      ]
     },
     "metadata": {},
     "output_type": "display_data"
    },
    {
     "data": {
      "text/plain": [
       "<Figure size 800x500 with 0 Axes>"
      ]
     },
     "metadata": {},
     "output_type": "display_data"
    }
   ],
   "source": [
    "plt.title(\"Cantidad de mensajes al mes por plan\")\n",
    "plt.boxplot([surf[\"mensajes\"], ultimate[\"mensajes\"]],\n",
    "           labels = [\"Surf\", \"Ultimate\"]            \n",
    "           )\n",
    "plt.ylabel(\"Mensajes\")\n",
    "plt.grid(True)\n",
    "plt.figure(figsize = (8,5))\n",
    "\n",
    "\n",
    "plt.show()"
   ]
  },
  {
   "cell_type": "code",
   "execution_count": null,
   "metadata": {},
   "outputs": [
    {
     "name": "stdout",
     "output_type": "stream",
     "text": [
      "count    1573.00\n",
      "mean       31.16\n",
      "std        33.57\n",
      "min         0.00\n",
      "25%         3.00\n",
      "50%        24.00\n",
      "75%        47.00\n",
      "max       266.00\n",
      "Name: mensajes, dtype: float64\n",
      "\n",
      "count    720.00\n",
      "mean      37.55\n",
      "std       34.77\n",
      "min        0.00\n",
      "25%        7.00\n",
      "50%       30.00\n",
      "75%       61.00\n",
      "max      166.00\n",
      "Name: mensajes, dtype: float64\n"
     ]
    }
   ],
   "source": [
    "# Imprimimos lo valores estadisticos sobre los mensajes de ambos planes.\n",
    "print(surf[\"mensajes\"].describe().round(2))\n",
    "print()\n",
    "print(ultimate[\"mensajes\"].describe().round(2))"
   ]
  },
  {
   "cell_type": "markdown",
   "metadata": {},
   "source": [
    "# Conclusiones\n",
    "\n",
    "El comportamiento de los datos de los mensjaes indica que los usuarios del plan \"Surf\" tienden a mandar mas mensajes que los del plan\n",
    "\n",
    "Envío promedio mayor en Ultimate:\n",
    "\n",
    "Los usuarios del plan Ultimate envían en promedio más mensajes por mes (37.55) que los del plan Surf (31.16), lo cual sugiere un uso más intensivo del servicio de mensajería.\n",
    "\n",
    "Distribución más alta en todos los percentiles en Ultimate:\n",
    "\n",
    "En todos los percentiles (25%, 50%, 75%), los usuarios de Ultimate superan a los de Surf.\n",
    "\n",
    "Por ejemplo, el 75% de los usuarios de Ultimate envían hasta 61 mensajes, mientras que el 75% de los de Surf solo envían hasta 47.\n",
    "\n",
    "Mayor variabilidad en ambos planes:\n",
    "\n",
    "La desviación estándar en ambos casos es alta , lo que indica una gran dispersión en el comportamiento de los usuarios respecto al envío de mensajes.\n",
    "\n",
    "Posible uso de mensajes en Surf:\n",
    "\n",
    "Dado que Surf tiene más usuarios, pero un promedio y mediana menores, es posible que una parte significativa de sus usuarios no aproveche intensamente el servicio de mensajería, en contraste con Ultimate, que podría atraer a usuarios más comunicativos."
   ]
  },
  {
   "cell_type": "code",
   "execution_count": null,
   "metadata": {
    "id": "GRI_R7xF0q1L"
   },
   "outputs": [
    {
     "name": "stdout",
     "output_type": "stream",
     "text": [
      "<class 'pandas.core.frame.DataFrame'>\n",
      "Int64Index: 1573 entries, 1 to 2289\n",
      "Data columns (total 9 columns):\n",
      " #   Column                 Non-Null Count  Dtype    \n",
      "---  ------                 --------------  -----    \n",
      " 0   user_id                1573 non-null   int64    \n",
      " 1   month                  1573 non-null   period[M]\n",
      " 2   llamadas               1573 non-null   int64    \n",
      " 3   minutos                1573 non-null   int64    \n",
      " 4   mensajes               1573 non-null   int64    \n",
      " 5   trafico_mb             1573 non-null   int64    \n",
      " 6   plan                   1573 non-null   object   \n",
      " 7   city                   1573 non-null   object   \n",
      " 8   mins_promedio_llamada  1545 non-null   float64  \n",
      "dtypes: float64(1), int64(5), object(2), period[M](1)\n",
      "memory usage: 122.9+ KB\n",
      "None\n"
     ]
    },
    {
     "data": {
      "image/png": "[encoded data removed]",
      "text/plain": [
       "<Figure size 640x480 with 1 Axes>"
      ]
     },
     "metadata": {},
     "output_type": "display_data"
    }
   ],
   "source": [
    "# Compara la cantidad de tráfico de Internet consumido por usuarios por plan\n",
    "print(surf.info())\n",
    "surf[\"trafico_mb\"].plot(kind = \"hist\",\n",
    "                       bins=20\n",
    "                       )\n",
    "ultimate[\"trafico_mb\"].plot(kind=\"hist\",\n",
    "                           bins= 20,\n",
    "                           color = \"orange\"\n",
    "                           )\n",
    "\n",
    "plt.ylabel(\"Usuarios\")\n",
    "plt.xlabel(\"Trafico en megabytes\")\n",
    "                       \n",
    "plt.show()"
   ]
  },
  {
   "cell_type": "code",
   "execution_count": null,
   "metadata": {
    "id": "dtFwCGAp0q1M"
   },
   "outputs": [
    {
     "data": {
      "image/png": "[encoded data removed]",
      "text/plain": [
       "<Figure size 640x480 with 1 Axes>"
      ]
     },
     "metadata": {},
     "output_type": "display_data"
    },
    {
     "data": {
      "text/plain": [
       "<Figure size 800x500 with 0 Axes>"
      ]
     },
     "metadata": {},
     "output_type": "display_data"
    }
   ],
   "source": [
    "plt.title(\"Cantidad de mensajes al mes por plan\")\n",
    "plt.boxplot([surf[\"trafico_mb\"], ultimate[\"trafico_mb\"]],\n",
    "           labels = [\"Surf\", \"Ultimate\"]            \n",
    "           )\n",
    "plt.ylabel(\"Mensajes\")\n",
    "plt.grid(True)\n",
    "plt.figure(figsize = (8,5))\n",
    "\n",
    "\n",
    "plt.show()"
   ]
  },
  {
   "cell_type": "markdown",
   "metadata": {
    "id": "42YSypXz0q1M"
   },
   "source": [
    "### Internet"
   ]
  },
  {
   "cell_type": "code",
   "execution_count": null,
   "metadata": {
    "id": "lSuKPtjh0q1M"
   },
   "outputs": [
    {
     "data": {
      "image/png": "[encoded data removed]",
      "text/plain": [
       "<Figure size 640x480 with 1 Axes>"
      ]
     },
     "metadata": {},
     "output_type": "display_data"
    }
   ],
   "source": [
    "surf[\"trafico_mb\"].plot(kind = \"hist\",\n",
    "                       bins = 20,\n",
    "                       xlabel=\"Trafico en megabytes\",\n",
    "                       ylabel= \"Usuarios\")\n",
    "ultimate[\"trafico_mb\"].plot(kind = \"hist\",\n",
    "                           bins = 20,\n",
    "                           color = \"orange\")\n",
    "\n",
    "plt.title(\"Trafico de megabytes por plan de usuarios\")\n",
    "plt.legend([\"Surf\",\"Ultimate\"])\n",
    "plt.xlabel(\"Trafico en megabytes\")\n",
    "plt.ylabel(\"Usuarios\")\n",
    "\n",
    "plt.show()"
   ]
  },
  {
   "cell_type": "code",
   "execution_count": null,
   "metadata": {
    "id": "wnh8jYXi0q1N"
   },
   "outputs": [
    {
     "data": {
      "image/png": "[encoded data removed]",
      "text/plain": [
       "<Figure size 640x480 with 1 Axes>"
      ]
     },
     "metadata": {},
     "output_type": "display_data"
    }
   ],
   "source": [
    "plt.title(\"Consumo de megabytes por plan\")\n",
    "plt.boxplot([surf[\"trafico_mb\"], ultimate[\"trafico_mb\"]],\n",
    "           labels=[\"Surf\", \"Ultimate\"])\n",
    "plt.grid(True)\n",
    "plt.show()"
   ]
  },
  {
   "cell_type": "code",
   "execution_count": null,
   "metadata": {
    "id": "5VlyJ9ry0q1N"
   },
   "outputs": [
    {
     "name": "stdout",
     "output_type": "stream",
     "text": [
      "count     1573.00\n",
      "mean     16557.79\n",
      "std       8013.49\n",
      "min          0.00\n",
      "25%      11986.00\n",
      "50%      16829.00\n",
      "75%      20999.00\n",
      "max      70931.00\n",
      "Name: trafico_mb, dtype: float64 \n",
      "\n",
      "count      720.00\n",
      "mean     17214.21\n",
      "std       7851.88\n",
      "min          0.00\n",
      "25%      12666.50\n",
      "50%      16858.00\n",
      "75%      21013.75\n",
      "max      46595.00\n",
      "Name: trafico_mb, dtype: float64\n"
     ]
    }
   ],
   "source": [
    "# Se muestran los datos estadisticos sobre el uso de megabytes de ambos planes.\n",
    "print(surf[\"trafico_mb\"].describe().round(2),\"\\n\")\n",
    "print(ultimate[\"trafico_mb\"].describe().round(2))"
   ]
  },
  {
   "cell_type": "markdown",
   "metadata": {
    "id": "UN9zwuMP0q1N"
   },
   "source": [
    "# Conclusiones\n",
    "\n",
    "Los usuarios de Ultimate consumen ligeramente más datos:\n",
    "\n",
    "Aunque la diferencia no es extrema, los usuarios del plan Ultimate presentan un promedio ligeramente superior de tráfico (17,214 MB) frente a Surf (16,557 MB).\n",
    "\n",
    "Distribución muy similar en ambos planes:\n",
    "\n",
    "Las medianas son casi iguales (~16,800 MB), lo que indica que la mayoría de los usuarios tienen comportamientos similares, independientemente del plan.\n",
    "\n",
    "Sin embargo, Ultimate tiene una distribución un poco más concentrada, como lo sugiere su desviación estándar ligeramente menor.\n",
    "\n",
    "El plan Surf tiene más usuarios extremos:\n",
    "\n",
    "El valor máximo en Surf (70,931 MB) es significativamente más alto que en Ultimate (46,595 MB).\n",
    "\n",
    "Esto puede indicar que hay algunos usuarios de Surf que sobrepasan el límite del plan y pagan cargos extra, lo que podría influir en la rentabilidad del plan.\n",
    "\n",
    "Posible sobreuso en Surf:\n",
    "\n",
    "Dado que Surf es el plan más limitado, es probable que los usuarios que consumen muchos datos generen ingresos adicionales por excedente, a diferencia de Ultimate donde los usuarios suelen estar dentro del límite del plan."
   ]
  },
  {
   "cell_type": "markdown",
   "metadata": {
    "id": "tCijq3260q1N"
   },
   "source": [
    "## Ingreso"
   ]
  },
  {
   "cell_type": "markdown",
   "metadata": {
    "id": "9nq5IAcy0q1O"
   },
   "source": [
    "[Del mismo modo que has estudiado el comportamiento de los usuarios, describe estadísticamente los ingresos de los planes.]"
   ]
  },
  {
   "cell_type": "code",
   "execution_count": null,
   "metadata": {
    "id": "tz-dq_V00q1O"
   },
   "outputs": [
    {
     "name": "stdout",
     "output_type": "stream",
     "text": [
      "count    1573.0\n",
      "mean       61.0\n",
      "std        55.0\n",
      "min        20.0\n",
      "25%        20.0\n",
      "50%        40.0\n",
      "75%        80.0\n",
      "max       590.0\n",
      "Name: ingreso_mensual, dtype: float64\n",
      "\n",
      "__________________________________________________________\n",
      "\n",
      "count    720.0\n",
      "mean      72.0\n",
      "std       11.0\n",
      "min       70.0\n",
      "25%       70.0\n",
      "50%       70.0\n",
      "75%       70.0\n",
      "max      182.0\n",
      "Name: ingreso_mensual, dtype: float64\n"
     ]
    }
   ],
   "source": [
    "ingreso_surf = ingreso_mensual[ingreso_mensual[\"plan\"] == \"surf\"]\n",
    "ingreso_ultimate = ingreso_mensual[ingreso_mensual[\"plan\"] == \"ultimate\"]\n",
    "\n",
    "print(ingreso_surf[\"ingreso_mensual\"].describe().round())\n",
    "print(\"\\n__________________________________________________________\\n\")\n",
    "print(ingreso_ultimate[\"ingreso_mensual\"].describe().round())"
   ]
  },
  {
   "cell_type": "code",
   "execution_count": null,
   "metadata": {
    "id": "0Y1v8ZUz0q1P"
   },
   "outputs": [
    {
     "data": {
      "image/png": "[encoded data removed]",
      "text/plain": [
       "<Figure size 640x480 with 1 Axes>"
      ]
     },
     "metadata": {},
     "output_type": "display_data"
    }
   ],
   "source": [
    "ingreso_mensual_surf_prom = 63\n",
    "ingreso_mensual_ulti_prom = 73\n",
    "\n",
    "plt.bar([\"Surf\",\"Ultimate\"], [ingreso_mensual_surf_prom, ingreso_mensual_ulti_prom], color = [\"orange\", \"skyblue\"])\n",
    "plt.title(\"Ingreso mensual promedio por plan\")\n",
    "plt.ylabel(\"Ingreso Mensual  (USD)\")\n",
    "plt.grid(axis = \"y\")\n",
    "plt.show()"
   ]
  },
  {
   "cell_type": "code",
   "execution_count": null,
   "metadata": {
    "id": "bYmwxyVh0q1P"
   },
   "outputs": [
    {
     "data": {
      "image/png": "[encoded data removed]",
      "text/plain": [
       "<Figure size 640x480 with 1 Axes>"
      ]
     },
     "metadata": {},
     "output_type": "display_data"
    }
   ],
   "source": [
    "plt.boxplot([ingreso_surf[\"ingreso_mensual\"], ingreso_ultimate[\"ingreso_mensual\"]],\n",
    "            labels=[\"Surf\", \"Ultimate\"])\n",
    "plt.show()"
   ]
  },
  {
   "cell_type": "markdown",
   "metadata": {
    "id": "KAFidcXZ0q1P"
   },
   "source": [
    "# SURF\n",
    "\n",
    "Este plan tiende a a consumir más por lo que aumenta considerablemente lo que tiene que pagar el cliente en relación a lo que cuesta su plan. Entre los ingresos que estos usuarios generan, tiene a variar en 56 (usd),  debido  a  que  su  pago  mensual  deberia  ser  de  20 (usd) y hay dato de un usuario que llego a pagar hasta 590. Y el 50% de sus clientes, pagan al rededor de 67 (usd) en su mensualidad.\n",
    "\n",
    "# ULTIMATE\n",
    "\n",
    "Lo clientes con este plan pagan en promedio 70 (usd) y el 50% de ellos pagan la misma cantidad, estos clientes tienen una variacion en su pago de 12 y un usuario con un pago maximo de 189 (usd). Parecen ser unos consumidores  moderados en relacion a su plan."
   ]
  },
  {
   "cell_type": "markdown",
   "metadata": {},
   "source": [
    "Vemos que los planes se diferencian en el ingreso, a pesar de que el consumo de sus usuarios es muy similar. Esto ocurre porque la estructura de costos de cada plan define intervalos de consumo diferentes, para surf los usuarios tienden a salirse de esos rangos pero los de ultimate no."
   ]
  },
  {
   "cell_type": "markdown",
   "metadata": {
    "id": "ajJ7VKeI0q1Q"
   },
   "source": [
    "## Prueba las hipótesis estadísticas"
   ]
  },
  {
   "cell_type": "markdown",
   "metadata": {
    "id": "AdXAZ-yL0q1Q"
   },
   "source": [
    "Prueba la hipótesis de que son diferentes los ingresos promedio procedentes de los usuarios de los planes de llamada Ultimate y Surf."
   ]
  },
  {
   "cell_type": "code",
   "execution_count": null,
   "metadata": {
    "id": "nFoPNlPq0q1R"
   },
   "outputs": [
    {
     "name": "stdout",
     "output_type": "stream",
     "text": [
      "Rechazamos H0: Hay una diferencia significativa en los ingresos promedio.\n"
     ]
    }
   ],
   "source": [
    "# Prueba las hipótesis\n",
    "# H0: No hay una diferencia significativa en los ingresos promedios por plan.\n",
    "#H1: Hay una diferencia significativa en los promedios dependiendo el plan.\n",
    "\n",
    "#ingreso_surf = ingreso_mensual[ingreso_mensual[\"plan\"] == \"surf\"][\"ingreso_mensual\"]\n",
    "#ingreso_ultimate = ingreso_mensual[ingreso_mensual[\"plan\"] == \"ultimate\"][\"ingreso_mensual\"]\n",
    "ingreso_user_surf = ingreso_surf[\"ingreso_mensual\"]\n",
    "ingreso_user_ultimate = ingreso_ultimate[\"ingreso_mensual\"]\n",
    "\n",
    "alpha = .05\n",
    "\n",
    "resultados = st.ttest_ind(ingreso_user_surf, ingreso_user_ultimate) \n",
    "\n",
    "if resultados.pvalue < alpha:\n",
    "    print(\"Rechazamos H0: Hay una diferencia significativa en los ingresos promedio.\")\n",
    "else:\n",
    "    print(\"No se rechaza H0: No hay evidencia de una diferencia significativa en los ingresos promedio.\")"
   ]
  },
  {
   "cell_type": "markdown",
   "metadata": {
    "id": "tCcAruM60q1R"
   },
   "source": [
    "Prueba la hipótesis de que el ingreso promedio de los usuarios del área NY-NJ es diferente al de los usuarios de otras regiones."
   ]
  },
  {
   "cell_type": "code",
   "execution_count": null,
   "metadata": {
    "id": "Cqcj7wrZ0q1S"
   },
   "outputs": [
    {
     "name": "stdout",
     "output_type": "stream",
     "text": [
      "Rechazamos H0: Hay una diferencia significativa en los ingresos promedio.\n",
      "\n",
      "El promedio de ingreo en la ciudad NY-NJ es de: 59.92\n",
      "El promedio de ingreo en otras regiones es de: 65.21\n",
      "\n",
      "Podemos observar que hay una diferencia significativa entre los ingresos de NY-NJ y el resto de las regiones.\n"
     ]
    }
   ],
   "source": [
    "# Prueba las hipótesis\n",
    "ingreso_NY_NJ = ingreso_mensual[ingreso_mensual[\"city\"].str.contains(\"NY-NJ\")][\"ingreso_mensual\"]\n",
    "ingreso_otras_regiones = ingreso_mensual[~ingreso_mensual[\"city\"].str.contains(\"NY-NJ\")][\"ingreso_mensual\"]\n",
    "\n",
    "alpha = .05\n",
    "\n",
    "resultados = st.ttest_ind(ingreso_NY_NJ, ingreso_otras_regiones) \n",
    "\n",
    "if resultados.pvalue < alpha:\n",
    "    print(\"Rechazamos H0: Hay una diferencia significativa en los ingresos promedio.\")\n",
    "else:\n",
    "    print(\"No se rechaza H0: No hay evidencia de una diferencia significativa en los ingresos promedio.\")\n",
    "    \n",
    "print()\n",
    "print(\"El promedio de ingreo en la ciudad NY-NJ es de:\", ingreso_NY_NJ.mean().round(2))\n",
    "print(\"El promedio de ingreo en otras regiones es de:\", ingreso_otras_regiones.mean().round(2))\n",
    "print()\n",
    "print(\"Podemos observar que hay una diferencia significativa entre los ingresos de NY-NJ y el resto de las regiones.\")"
   ]
  },
  {
   "cell_type": "markdown",
   "metadata": {
    "id": "bbTR8UQO0q1T"
   },
   "source": [
    "## Conclusión general"
   ]
  },
  {
   "cell_type": "markdown",
   "metadata": {},
   "source": [
    "Ingreso promedio por usuario: $63\n",
    "\n",
    "Significativamente mayor al costo base del plan.\n",
    "\n",
    "Minutos promedio: 428.75\n",
    "\n",
    "Mensajes promedio: 31.16\n",
    "\n",
    "Tráfico promedio: 16,577.76 MB\n",
    "\n",
    "Conclusión:\n",
    "Los usuarios del plan Surf tienden a exceder los límites incluidos, lo que genera ingresos adicionales para la compañía. Este plan puede parecer atractivo por su bajo costo, pero para muchos usuarios termina siendo más caro por los cargos extra."
   ]
  },
  {
   "cell_type": "markdown",
   "metadata": {},
   "source": [
    "Ingreso promedio por usuario: $70\n",
    "\n",
    "Prácticamente igual al costo base, sin generar cargos adicionales.\n",
    "\n",
    "Minutos promedio: 430.45\n",
    "\n",
    "Mensajes promedio: 37.55\n",
    "\n",
    "Tráfico promedio: 17,234.64 MB\n",
    "\n",
    "Conclusión:\n",
    "Los usuarios del plan Ultimate suelen estar bien cubiertos con los servicios incluidos, evitando cargos adicionales. Aunque el costo mensual es más alto, ofrece mayor previsibilidad y estabilidad en los pagos."
   ]
  },
  {
   "cell_type": "markdown",
   "metadata": {},
   "source": [
    "Ambos grupos de usuarios tienen consumos similares en minutos, mensajes y tráfico.\n",
    "\n",
    "La diferencia está en que los del plan Surf pagan más de lo esperado porque exceden los límites, mientras que los del plan Ultimate no exceden y pagan lo pactado.\n",
    "\n",
    "Desde una perspectiva del usuario, Ultimate puede ser más conveniente a largo plazo si el consumo mensual es constante o cercano al límite."
   ]
  }
 ],
 "metadata": {
  "ExecuteTimeLog": [
   {
    "duration": 828,
    "start_time": "2021-11-16T09:21:11.304Z"
   },
   {
    "duration": 893,
    "start_time": "2021-11-16T09:21:17.728Z"
   },
   {
    "duration": 1150,
    "start_time": "2021-11-16T09:21:29.568Z"
   },
   {
    "duration": 3,
    "start_time": "2021-11-16T09:24:14.495Z"
   },
   {
    "duration": 120,
    "start_time": "2021-11-16T09:24:46.630Z"
   },
   {
    "duration": 3,
    "start_time": "2021-11-16T09:28:27.882Z"
   },
   {
    "duration": 4,
    "start_time": "2021-11-16T09:29:54.281Z"
   },
   {
    "duration": 3,
    "start_time": "2021-11-16T09:30:45.936Z"
   },
   {
    "duration": 4,
    "start_time": "2021-11-16T09:31:06.300Z"
   },
   {
    "duration": 113,
    "start_time": "2021-11-16T09:31:37.208Z"
   },
   {
    "duration": 143,
    "start_time": "2021-11-16T09:31:48.656Z"
   },
   {
    "duration": 98,
    "start_time": "2021-11-16T09:31:55.678Z"
   },
   {
    "duration": 3,
    "start_time": "2021-11-16T09:32:08.535Z"
   },
   {
    "duration": 111,
    "start_time": "2021-11-16T09:32:10.120Z"
   },
   {
    "duration": 3,
    "start_time": "2021-11-16T09:32:15.732Z"
   },
   {
    "duration": 4,
    "start_time": "2021-11-16T09:32:29.423Z"
   },
   {
    "duration": 3,
    "start_time": "2021-11-16T10:03:03.074Z"
   },
   {
    "duration": 3,
    "start_time": "2021-11-16T10:10:01.288Z"
   },
   {
    "duration": 3,
    "start_time": "2021-11-16T10:10:46.923Z"
   },
   {
    "duration": 121,
    "start_time": "2021-11-16T10:37:46.494Z"
   },
   {
    "duration": 125,
    "start_time": "2021-11-16T10:38:20.632Z"
   },
   {
    "duration": 112,
    "start_time": "2021-11-16T10:46:53.001Z"
   },
   {
    "duration": 110,
    "start_time": "2021-11-16T10:48:25.775Z"
   },
   {
    "duration": 3,
    "start_time": "2021-11-16T10:50:18.720Z"
   },
   {
    "duration": 4,
    "start_time": "2021-11-16T10:50:37.649Z"
   },
   {
    "duration": 2,
    "start_time": "2021-11-16T10:50:51.884Z"
   },
   {
    "duration": 3,
    "start_time": "2021-11-16T10:51:56.237Z"
   },
   {
    "duration": 101,
    "start_time": "2021-11-16T10:53:13.791Z"
   },
   {
    "duration": 3,
    "start_time": "2021-11-16T10:55:59.186Z"
   },
   {
    "duration": 3,
    "start_time": "2021-11-16T10:56:10.751Z"
   },
   {
    "duration": 3,
    "start_time": "2021-11-16T10:56:49.038Z"
   },
   {
    "duration": 3,
    "start_time": "2021-11-16T10:56:49.174Z"
   },
   {
    "duration": 4,
    "start_time": "2021-11-16T10:56:49.414Z"
   },
   {
    "duration": 3,
    "start_time": "2021-11-16T10:56:49.680Z"
   },
   {
    "duration": 3,
    "start_time": "2021-11-16T10:56:50.370Z"
   },
   {
    "duration": 114,
    "start_time": "2021-11-16T10:59:34.518Z"
   },
   {
    "duration": 3,
    "start_time": "2021-11-16T11:01:41.201Z"
   },
   {
    "duration": 116,
    "start_time": "2021-11-16T11:01:48.754Z"
   },
   {
    "duration": 3,
    "start_time": "2021-11-16T11:02:16.685Z"
   },
   {
    "duration": 3,
    "start_time": "2021-11-16T11:02:19.479Z"
   },
   {
    "duration": 3,
    "start_time": "2021-11-16T11:02:47.067Z"
   },
   {
    "duration": 3,
    "start_time": "2021-11-16T11:02:49.353Z"
   },
   {
    "duration": 3,
    "start_time": "2021-11-16T11:03:07.835Z"
   },
   {
    "duration": 3,
    "start_time": "2021-11-16T11:03:07.953Z"
   },
   {
    "duration": 112,
    "start_time": "2021-11-16T11:07:52.072Z"
   },
   {
    "duration": 187,
    "start_time": "2021-11-16T11:09:23.468Z"
   },
   {
    "duration": 4,
    "start_time": "2021-11-16T11:10:01.455Z"
   },
   {
    "duration": 3,
    "start_time": "2021-11-16T11:10:05.069Z"
   },
   {
    "duration": 4,
    "start_time": "2021-11-16T11:10:13.376Z"
   },
   {
    "duration": 3,
    "start_time": "2021-11-16T11:10:14.434Z"
   },
   {
    "duration": 3,
    "start_time": "2021-11-16T11:10:22.853Z"
   },
   {
    "duration": 4,
    "start_time": "2021-11-16T11:27:29.279Z"
   },
   {
    "duration": 4,
    "start_time": "2021-11-16T11:29:08.919Z"
   },
   {
    "duration": 118,
    "start_time": "2021-11-16T11:29:46.703Z"
   },
   {
    "duration": 437,
    "start_time": "2021-11-16T11:36:02.181Z"
   },
   {
    "duration": 157,
    "start_time": "2021-11-16T11:36:14.388Z"
   },
   {
    "duration": 207,
    "start_time": "2021-11-16T11:47:15.898Z"
   },
   {
    "duration": 3,
    "start_time": "2021-11-16T11:53:52.092Z"
   },
   {
    "duration": 3,
    "start_time": "2021-11-16T11:53:52.236Z"
   },
   {
    "duration": 3,
    "start_time": "2021-11-16T11:59:12.005Z"
   },
   {
    "duration": 112,
    "start_time": "2021-11-16T12:00:33.446Z"
   },
   {
    "duration": 3,
    "start_time": "2021-11-16T12:02:14.453Z"
   },
   {
    "duration": 3,
    "start_time": "2021-11-16T12:02:39.512Z"
   },
   {
    "duration": 106,
    "start_time": "2021-11-16T12:03:03.460Z"
   },
   {
    "duration": 3,
    "start_time": "2021-11-17T20:37:21.139Z"
   },
   {
    "duration": 3,
    "start_time": "2021-11-17T20:37:22.229Z"
   },
   {
    "duration": 3,
    "start_time": "2021-11-17T20:38:38.806Z"
   },
   {
    "duration": 3,
    "start_time": "2021-11-17T20:38:41.958Z"
   },
   {
    "duration": 3,
    "start_time": "2021-11-17T20:43:46.551Z"
   },
   {
    "duration": 4,
    "start_time": "2021-11-17T20:58:21.835Z"
   },
   {
    "duration": 3,
    "start_time": "2021-11-17T20:59:21.872Z"
   },
   {
    "duration": 4,
    "start_time": "2021-11-17T20:59:45.352Z"
   },
   {
    "duration": 4,
    "start_time": "2021-11-17T20:59:49.646Z"
   },
   {
    "duration": 159,
    "start_time": "2021-11-17T21:02:26.949Z"
   },
   {
    "duration": 3,
    "start_time": "2021-11-17T21:03:53.461Z"
   },
   {
    "duration": 3,
    "start_time": "2021-11-17T21:03:53.694Z"
   },
   {
    "duration": 3,
    "start_time": "2021-11-17T21:05:28.145Z"
   },
   {
    "duration": 116,
    "start_time": "2021-11-17T21:05:57.787Z"
   },
   {
    "duration": 3,
    "start_time": "2021-11-17T21:06:37.993Z"
   },
   {
    "duration": 3,
    "start_time": "2021-11-17T21:06:38.261Z"
   },
   {
    "duration": 3,
    "start_time": "2021-11-17T21:11:54.358Z"
   },
   {
    "duration": 3,
    "start_time": "2021-11-17T21:12:43.846Z"
   },
   {
    "duration": 4,
    "start_time": "2021-11-17T21:13:08.773Z"
   },
   {
    "duration": 3,
    "start_time": "2021-11-17T21:14:44.441Z"
   },
   {
    "duration": 3,
    "start_time": "2021-11-17T21:15:42.059Z"
   },
   {
    "duration": 4,
    "start_time": "2021-11-17T21:15:51.995Z"
   },
   {
    "duration": 3,
    "start_time": "2021-11-17T21:15:53.923Z"
   },
   {
    "duration": 3,
    "start_time": "2021-11-17T21:15:55.282Z"
   },
   {
    "duration": 3,
    "start_time": "2021-11-17T21:16:28.492Z"
   },
   {
    "duration": 3,
    "start_time": "2021-11-17T21:16:32.603Z"
   },
   {
    "duration": 3,
    "start_time": "2021-11-17T21:17:06.941Z"
   },
   {
    "duration": 98,
    "start_time": "2021-11-17T21:18:05.733Z"
   },
   {
    "duration": 4,
    "start_time": "2021-11-17T21:21:35.255Z"
   },
   {
    "duration": 3,
    "start_time": "2021-11-17T21:21:37.804Z"
   },
   {
    "duration": 4,
    "start_time": "2021-11-17T21:23:06.071Z"
   },
   {
    "duration": 3,
    "start_time": "2021-11-17T21:23:24.799Z"
   },
   {
    "duration": 3,
    "start_time": "2021-11-17T21:23:32.591Z"
   },
   {
    "duration": 98,
    "start_time": "2021-11-17T21:28:31.559Z"
   },
   {
    "duration": 3,
    "start_time": "2021-11-17T21:28:45.448Z"
   },
   {
    "duration": 3,
    "start_time": "2021-11-17T21:29:17.303Z"
   },
   {
    "duration": 3,
    "start_time": "2021-11-17T21:29:29.617Z"
   },
   {
    "duration": 3,
    "start_time": "2021-11-17T21:29:32.681Z"
   },
   {
    "duration": 3,
    "start_time": "2021-11-17T21:36:11.474Z"
   },
   {
    "duration": 3,
    "start_time": "2021-11-17T21:36:14.791Z"
   },
   {
    "duration": 3,
    "start_time": "2021-11-17T21:36:53.943Z"
   },
   {
    "duration": 3,
    "start_time": "2021-11-17T21:36:56.165Z"
   },
   {
    "duration": 4,
    "start_time": "2021-11-17T21:37:16.590Z"
   },
   {
    "duration": 3,
    "start_time": "2021-11-17T21:37:22.702Z"
   },
   {
    "duration": 4,
    "start_time": "2021-11-17T21:38:03.479Z"
   },
   {
    "duration": 3,
    "start_time": "2021-11-17T21:38:08.601Z"
   },
   {
    "duration": 3,
    "start_time": "2021-11-17T21:38:12.928Z"
   },
   {
    "duration": 3,
    "start_time": "2021-11-17T21:38:48.896Z"
   },
   {
    "duration": 2,
    "start_time": "2021-11-17T21:38:49.171Z"
   },
   {
    "duration": 4,
    "start_time": "2021-11-17T21:39:57.889Z"
   },
   {
    "duration": 3,
    "start_time": "2021-11-17T21:39:58.057Z"
   },
   {
    "duration": 3,
    "start_time": "2021-11-17T21:41:20.108Z"
   },
   {
    "duration": 3,
    "start_time": "2021-11-17T21:41:20.629Z"
   },
   {
    "duration": 3,
    "start_time": "2021-11-17T21:42:49.136Z"
   },
   {
    "duration": 3,
    "start_time": "2021-11-17T21:43:15.137Z"
   },
   {
    "duration": 4,
    "start_time": "2021-11-17T21:43:16.766Z"
   },
   {
    "duration": 4,
    "start_time": "2021-11-17T21:43:31.711Z"
   },
   {
    "duration": 3,
    "start_time": "2021-11-17T21:43:36.312Z"
   },
   {
    "duration": 4,
    "start_time": "2021-11-17T21:45:08.825Z"
   },
   {
    "duration": 4,
    "start_time": "2021-11-17T21:45:10.119Z"
   },
   {
    "duration": 4,
    "start_time": "2021-11-17T21:45:13.748Z"
   },
   {
    "duration": 3,
    "start_time": "2021-11-17T21:45:22.219Z"
   },
   {
    "duration": 3,
    "start_time": "2021-11-17T21:45:33.412Z"
   },
   {
    "duration": 2,
    "start_time": "2021-11-17T21:46:01.885Z"
   },
   {
    "duration": 3,
    "start_time": "2021-11-17T21:46:03.628Z"
   },
   {
    "duration": 107,
    "start_time": "2021-11-17T21:47:32.512Z"
   },
   {
    "duration": 103,
    "start_time": "2021-11-17T21:50:36.243Z"
   },
   {
    "duration": 3,
    "start_time": "2021-11-18T06:28:31.440Z"
   },
   {
    "duration": 3,
    "start_time": "2021-11-18T06:29:00.168Z"
   },
   {
    "duration": 3,
    "start_time": "2021-11-18T06:31:27.008Z"
   },
   {
    "duration": 2,
    "start_time": "2021-11-18T06:35:34.288Z"
   },
   {
    "duration": 2,
    "start_time": "2021-11-18T06:38:04.527Z"
   },
   {
    "duration": 603,
    "start_time": "2025-04-09T17:21:54.770Z"
   },
   {
    "duration": 245,
    "start_time": "2025-04-09T17:26:15.897Z"
   },
   {
    "duration": 18,
    "start_time": "2025-04-09T17:29:00.932Z"
   },
   {
    "duration": 6,
    "start_time": "2025-04-09T17:32:08.017Z"
   },
   {
    "duration": 10,
    "start_time": "2025-04-09T17:33:02.357Z"
   },
   {
    "duration": 5,
    "start_time": "2025-04-09T17:33:28.451Z"
   },
   {
    "duration": 5,
    "start_time": "2025-04-09T17:35:23.767Z"
   },
   {
    "duration": 7,
    "start_time": "2025-04-09T17:35:27.387Z"
   },
   {
    "duration": 10,
    "start_time": "2025-04-09T17:36:08.782Z"
   },
   {
    "duration": 6,
    "start_time": "2025-04-09T17:36:23.152Z"
   },
   {
    "duration": 9,
    "start_time": "2025-04-09T17:37:37.707Z"
   },
   {
    "duration": 15,
    "start_time": "2025-04-09T17:40:11.731Z"
   },
   {
    "duration": 6,
    "start_time": "2025-04-09T17:40:29.108Z"
   },
   {
    "duration": 18,
    "start_time": "2025-04-09T17:40:45.799Z"
   },
   {
    "duration": 5,
    "start_time": "2025-04-09T17:41:06.702Z"
   },
   {
    "duration": 19,
    "start_time": "2025-04-09T17:41:18.171Z"
   },
   {
    "duration": 5,
    "start_time": "2025-04-09T17:41:26.722Z"
   },
   {
    "duration": 7,
    "start_time": "2025-04-09T17:41:53.708Z"
   },
   {
    "duration": 21,
    "start_time": "2025-04-09T17:58:20.288Z"
   },
   {
    "duration": 16,
    "start_time": "2025-04-09T17:58:31.176Z"
   },
   {
    "duration": 17,
    "start_time": "2025-04-09T17:59:09.002Z"
   },
   {
    "duration": 15,
    "start_time": "2025-04-09T17:59:38.365Z"
   },
   {
    "duration": 15,
    "start_time": "2025-04-09T17:59:44.779Z"
   },
   {
    "duration": 14,
    "start_time": "2025-04-09T17:59:59.943Z"
   },
   {
    "duration": 13,
    "start_time": "2025-04-09T18:00:43.425Z"
   },
   {
    "duration": 74,
    "start_time": "2025-04-09T18:01:39.991Z"
   },
   {
    "duration": 30,
    "start_time": "2025-04-09T18:01:48.450Z"
   },
   {
    "duration": 77,
    "start_time": "2025-04-09T18:01:56.463Z"
   },
   {
    "duration": 10,
    "start_time": "2025-04-09T18:50:54.480Z"
   },
   {
    "duration": 4,
    "start_time": "2025-04-09T18:51:40.544Z"
   },
   {
    "duration": 264,
    "start_time": "2025-04-09T18:54:12.078Z"
   },
   {
    "duration": 5,
    "start_time": "2025-04-09T18:54:27.645Z"
   },
   {
    "duration": 18,
    "start_time": "2025-04-09T19:39:53.446Z"
   },
   {
    "duration": 13,
    "start_time": "2025-04-09T19:39:57.560Z"
   },
   {
    "duration": 17,
    "start_time": "2025-04-09T19:40:53.719Z"
   },
   {
    "duration": 4,
    "start_time": "2025-04-09T19:41:07.398Z"
   },
   {
    "duration": 7,
    "start_time": "2025-04-09T19:41:12.802Z"
   },
   {
    "duration": 186,
    "start_time": "2025-04-09T22:28:05.469Z"
   },
   {
    "duration": 613,
    "start_time": "2025-04-09T22:28:16.800Z"
   },
   {
    "duration": 237,
    "start_time": "2025-04-09T22:28:17.415Z"
   },
   {
    "duration": 13,
    "start_time": "2025-04-09T22:28:17.654Z"
   },
   {
    "duration": 5,
    "start_time": "2025-04-09T22:28:17.669Z"
   },
   {
    "duration": 6,
    "start_time": "2025-04-09T22:28:17.677Z"
   },
   {
    "duration": 23,
    "start_time": "2025-04-09T22:28:17.685Z"
   },
   {
    "duration": 6,
    "start_time": "2025-04-09T22:28:17.710Z"
   },
   {
    "duration": 6,
    "start_time": "2025-04-09T22:28:17.718Z"
   },
   {
    "duration": 5,
    "start_time": "2025-04-09T22:28:17.726Z"
   },
   {
    "duration": 73,
    "start_time": "2025-04-09T22:28:17.732Z"
   },
   {
    "duration": 5,
    "start_time": "2025-04-09T22:28:17.807Z"
   },
   {
    "duration": 28,
    "start_time": "2025-04-09T22:28:17.814Z"
   },
   {
    "duration": 4,
    "start_time": "2025-04-09T22:28:17.844Z"
   },
   {
    "duration": 74,
    "start_time": "2025-04-09T22:28:17.851Z"
   },
   {
    "duration": 5,
    "start_time": "2025-04-09T22:28:17.927Z"
   },
   {
    "duration": 4,
    "start_time": "2025-04-09T22:28:17.933Z"
   },
   {
    "duration": 3,
    "start_time": "2025-04-09T22:28:17.938Z"
   },
   {
    "duration": 3,
    "start_time": "2025-04-09T22:28:17.943Z"
   },
   {
    "duration": 3,
    "start_time": "2025-04-09T22:28:17.948Z"
   },
   {
    "duration": 3,
    "start_time": "2025-04-09T22:28:17.953Z"
   },
   {
    "duration": 3,
    "start_time": "2025-04-09T22:28:17.957Z"
   },
   {
    "duration": 3,
    "start_time": "2025-04-09T22:28:17.962Z"
   },
   {
    "duration": 39,
    "start_time": "2025-04-09T22:28:17.966Z"
   },
   {
    "duration": 3,
    "start_time": "2025-04-09T22:28:18.007Z"
   },
   {
    "duration": 4,
    "start_time": "2025-04-09T22:28:18.011Z"
   },
   {
    "duration": 3,
    "start_time": "2025-04-09T22:28:18.016Z"
   },
   {
    "duration": 2,
    "start_time": "2025-04-09T22:28:18.021Z"
   },
   {
    "duration": 3,
    "start_time": "2025-04-09T22:28:18.025Z"
   },
   {
    "duration": 3,
    "start_time": "2025-04-09T22:28:18.029Z"
   },
   {
    "duration": 4,
    "start_time": "2025-04-09T22:28:18.033Z"
   },
   {
    "duration": 4,
    "start_time": "2025-04-09T22:28:18.038Z"
   },
   {
    "duration": 3,
    "start_time": "2025-04-09T22:28:29.371Z"
   },
   {
    "duration": 18,
    "start_time": "2025-04-09T22:41:21.865Z"
   },
   {
    "duration": 72,
    "start_time": "2025-04-09T22:44:50.957Z"
   },
   {
    "duration": 3,
    "start_time": "2025-04-09T22:45:02.142Z"
   },
   {
    "duration": 3,
    "start_time": "2025-04-09T22:45:09.753Z"
   },
   {
    "duration": 167,
    "start_time": "2025-04-09T22:45:09.758Z"
   },
   {
    "duration": 11,
    "start_time": "2025-04-09T22:45:09.926Z"
   },
   {
    "duration": 4,
    "start_time": "2025-04-09T22:45:09.939Z"
   },
   {
    "duration": 5,
    "start_time": "2025-04-09T22:45:09.946Z"
   },
   {
    "duration": 10,
    "start_time": "2025-04-09T22:45:09.953Z"
   },
   {
    "duration": 5,
    "start_time": "2025-04-09T22:45:09.965Z"
   },
   {
    "duration": 38,
    "start_time": "2025-04-09T22:45:09.972Z"
   },
   {
    "duration": 50,
    "start_time": "2025-04-09T22:45:10.012Z"
   },
   {
    "duration": 5,
    "start_time": "2025-04-09T22:45:10.064Z"
   },
   {
    "duration": 65,
    "start_time": "2025-04-09T22:45:10.071Z"
   },
   {
    "duration": 31,
    "start_time": "2025-04-09T22:45:10.137Z"
   },
   {
    "duration": 4,
    "start_time": "2025-04-09T22:45:10.170Z"
   },
   {
    "duration": 69,
    "start_time": "2025-04-09T22:45:10.179Z"
   },
   {
    "duration": 5,
    "start_time": "2025-04-09T22:45:10.250Z"
   },
   {
    "duration": 3,
    "start_time": "2025-04-09T22:45:10.257Z"
   },
   {
    "duration": 3,
    "start_time": "2025-04-09T22:45:10.262Z"
   },
   {
    "duration": 3,
    "start_time": "2025-04-09T22:45:10.266Z"
   },
   {
    "duration": 3,
    "start_time": "2025-04-09T22:45:10.271Z"
   },
   {
    "duration": 31,
    "start_time": "2025-04-09T22:45:10.275Z"
   },
   {
    "duration": 3,
    "start_time": "2025-04-09T22:45:10.307Z"
   },
   {
    "duration": 3,
    "start_time": "2025-04-09T22:45:10.312Z"
   },
   {
    "duration": 3,
    "start_time": "2025-04-09T22:45:10.316Z"
   },
   {
    "duration": 3,
    "start_time": "2025-04-09T22:45:10.321Z"
   },
   {
    "duration": 3,
    "start_time": "2025-04-09T22:45:10.325Z"
   },
   {
    "duration": 3,
    "start_time": "2025-04-09T22:45:10.330Z"
   },
   {
    "duration": 3,
    "start_time": "2025-04-09T22:45:10.334Z"
   },
   {
    "duration": 3,
    "start_time": "2025-04-09T22:45:10.339Z"
   },
   {
    "duration": 3,
    "start_time": "2025-04-09T22:45:10.343Z"
   },
   {
    "duration": 3,
    "start_time": "2025-04-09T22:45:10.348Z"
   },
   {
    "duration": 3,
    "start_time": "2025-04-09T22:45:10.352Z"
   },
   {
    "duration": 101,
    "start_time": "2025-04-09T22:45:41.198Z"
   },
   {
    "duration": 2,
    "start_time": "2025-04-09T22:48:28.001Z"
   },
   {
    "duration": 154,
    "start_time": "2025-04-09T22:48:28.006Z"
   },
   {
    "duration": 12,
    "start_time": "2025-04-09T22:48:28.162Z"
   },
   {
    "duration": 5,
    "start_time": "2025-04-09T22:48:28.176Z"
   },
   {
    "duration": 8,
    "start_time": "2025-04-09T22:48:28.184Z"
   },
   {
    "duration": 15,
    "start_time": "2025-04-09T22:48:28.207Z"
   },
   {
    "duration": 9,
    "start_time": "2025-04-09T22:48:28.227Z"
   },
   {
    "duration": 10,
    "start_time": "2025-04-09T22:48:28.238Z"
   },
   {
    "duration": 68,
    "start_time": "2025-04-09T22:48:28.250Z"
   },
   {
    "duration": 6,
    "start_time": "2025-04-09T22:48:28.320Z"
   },
   {
    "duration": 28,
    "start_time": "2025-04-09T22:48:28.327Z"
   },
   {
    "duration": 0,
    "start_time": "2025-04-09T22:48:28.358Z"
   },
   {
    "duration": 0,
    "start_time": "2025-04-09T22:48:28.359Z"
   },
   {
    "duration": 0,
    "start_time": "2025-04-09T22:48:28.360Z"
   },
   {
    "duration": 0,
    "start_time": "2025-04-09T22:48:28.361Z"
   },
   {
    "duration": 0,
    "start_time": "2025-04-09T22:48:28.363Z"
   },
   {
    "duration": 0,
    "start_time": "2025-04-09T22:48:28.363Z"
   },
   {
    "duration": 0,
    "start_time": "2025-04-09T22:48:28.365Z"
   },
   {
    "duration": 0,
    "start_time": "2025-04-09T22:48:28.366Z"
   },
   {
    "duration": 0,
    "start_time": "2025-04-09T22:48:28.367Z"
   },
   {
    "duration": 0,
    "start_time": "2025-04-09T22:48:28.369Z"
   },
   {
    "duration": 0,
    "start_time": "2025-04-09T22:48:28.405Z"
   },
   {
    "duration": 0,
    "start_time": "2025-04-09T22:48:28.406Z"
   },
   {
    "duration": 0,
    "start_time": "2025-04-09T22:48:28.407Z"
   },
   {
    "duration": 0,
    "start_time": "2025-04-09T22:48:28.408Z"
   },
   {
    "duration": 0,
    "start_time": "2025-04-09T22:48:28.409Z"
   },
   {
    "duration": 0,
    "start_time": "2025-04-09T22:48:28.410Z"
   },
   {
    "duration": 0,
    "start_time": "2025-04-09T22:48:28.411Z"
   },
   {
    "duration": 0,
    "start_time": "2025-04-09T22:48:28.412Z"
   },
   {
    "duration": 0,
    "start_time": "2025-04-09T22:48:28.413Z"
   },
   {
    "duration": 0,
    "start_time": "2025-04-09T22:48:28.414Z"
   },
   {
    "duration": 24,
    "start_time": "2025-04-09T22:48:50.068Z"
   },
   {
    "duration": 25,
    "start_time": "2025-04-09T22:49:02.685Z"
   },
   {
    "duration": 13,
    "start_time": "2025-04-09T22:49:09.650Z"
   },
   {
    "duration": 32,
    "start_time": "2025-04-09T22:50:13.674Z"
   },
   {
    "duration": 22,
    "start_time": "2025-04-09T22:51:17.444Z"
   },
   {
    "duration": 14,
    "start_time": "2025-04-09T22:51:23.814Z"
   },
   {
    "duration": 23,
    "start_time": "2025-04-09T22:51:32.125Z"
   },
   {
    "duration": 16,
    "start_time": "2025-04-09T22:56:32.729Z"
   },
   {
    "duration": 14,
    "start_time": "2025-04-09T22:57:04.734Z"
   },
   {
    "duration": 3,
    "start_time": "2025-04-09T22:57:30.012Z"
   },
   {
    "duration": 144,
    "start_time": "2025-04-09T22:57:30.020Z"
   },
   {
    "duration": 12,
    "start_time": "2025-04-09T22:57:30.166Z"
   },
   {
    "duration": 4,
    "start_time": "2025-04-09T22:57:30.179Z"
   },
   {
    "duration": 19,
    "start_time": "2025-04-09T22:57:30.186Z"
   },
   {
    "duration": 12,
    "start_time": "2025-04-09T22:57:30.208Z"
   },
   {
    "duration": 5,
    "start_time": "2025-04-09T22:57:30.222Z"
   },
   {
    "duration": 5,
    "start_time": "2025-04-09T22:57:30.229Z"
   },
   {
    "duration": 78,
    "start_time": "2025-04-09T22:57:30.236Z"
   },
   {
    "duration": 5,
    "start_time": "2025-04-09T22:57:30.315Z"
   },
   {
    "duration": 18,
    "start_time": "2025-04-09T22:57:30.322Z"
   },
   {
    "duration": 37,
    "start_time": "2025-04-09T22:57:30.341Z"
   },
   {
    "duration": 29,
    "start_time": "2025-04-09T22:57:30.380Z"
   },
   {
    "duration": 50,
    "start_time": "2025-04-09T22:57:30.411Z"
   },
   {
    "duration": 5,
    "start_time": "2025-04-09T22:57:30.464Z"
   },
   {
    "duration": 3,
    "start_time": "2025-04-09T22:57:30.470Z"
   },
   {
    "duration": 31,
    "start_time": "2025-04-09T22:57:30.474Z"
   },
   {
    "duration": 4,
    "start_time": "2025-04-09T22:57:30.506Z"
   },
   {
    "duration": 3,
    "start_time": "2025-04-09T22:57:30.511Z"
   },
   {
    "duration": 3,
    "start_time": "2025-04-09T22:57:30.516Z"
   },
   {
    "duration": 3,
    "start_time": "2025-04-09T22:57:30.520Z"
   },
   {
    "duration": 2,
    "start_time": "2025-04-09T22:57:30.527Z"
   },
   {
    "duration": 4,
    "start_time": "2025-04-09T22:57:30.530Z"
   },
   {
    "duration": 3,
    "start_time": "2025-04-09T22:57:30.535Z"
   },
   {
    "duration": 3,
    "start_time": "2025-04-09T22:57:30.540Z"
   },
   {
    "duration": 3,
    "start_time": "2025-04-09T22:57:30.544Z"
   },
   {
    "duration": 3,
    "start_time": "2025-04-09T22:57:30.549Z"
   },
   {
    "duration": 3,
    "start_time": "2025-04-09T22:57:30.553Z"
   },
   {
    "duration": 3,
    "start_time": "2025-04-09T22:57:30.558Z"
   },
   {
    "duration": 4,
    "start_time": "2025-04-09T22:57:30.562Z"
   },
   {
    "duration": 2,
    "start_time": "2025-04-09T22:57:30.605Z"
   },
   {
    "duration": 17,
    "start_time": "2025-04-09T23:06:48.686Z"
   },
   {
    "duration": 27,
    "start_time": "2025-04-10T00:00:25.409Z"
   },
   {
    "duration": 13,
    "start_time": "2025-04-10T00:00:58.897Z"
   },
   {
    "duration": 16,
    "start_time": "2025-04-10T00:18:22.666Z"
   },
   {
    "duration": 601,
    "start_time": "2025-04-10T23:56:59.591Z"
   },
   {
    "duration": 219,
    "start_time": "2025-04-10T23:57:00.194Z"
   },
   {
    "duration": 13,
    "start_time": "2025-04-10T23:57:00.415Z"
   },
   {
    "duration": 6,
    "start_time": "2025-04-10T23:57:00.431Z"
   },
   {
    "duration": 6,
    "start_time": "2025-04-10T23:57:00.439Z"
   },
   {
    "duration": 10,
    "start_time": "2025-04-10T23:57:00.447Z"
   },
   {
    "duration": 4,
    "start_time": "2025-04-10T23:57:00.459Z"
   },
   {
    "duration": 7,
    "start_time": "2025-04-10T23:57:00.465Z"
   },
   {
    "duration": 52,
    "start_time": "2025-04-10T23:57:00.506Z"
   },
   {
    "duration": 4,
    "start_time": "2025-04-10T23:57:00.560Z"
   },
   {
    "duration": 39,
    "start_time": "2025-04-10T23:57:00.566Z"
   },
   {
    "duration": 28,
    "start_time": "2025-04-10T23:57:00.607Z"
   },
   {
    "duration": 5,
    "start_time": "2025-04-10T23:57:00.637Z"
   },
   {
    "duration": 11,
    "start_time": "2025-04-10T23:57:00.646Z"
   },
   {
    "duration": 79,
    "start_time": "2025-04-10T23:57:00.658Z"
   },
   {
    "duration": 5,
    "start_time": "2025-04-10T23:57:00.739Z"
   },
   {
    "duration": 16,
    "start_time": "2025-04-10T23:57:00.746Z"
   },
   {
    "duration": 2,
    "start_time": "2025-04-10T23:57:00.764Z"
   },
   {
    "duration": 3,
    "start_time": "2025-04-10T23:57:00.768Z"
   },
   {
    "duration": 3,
    "start_time": "2025-04-10T23:57:00.772Z"
   },
   {
    "duration": 29,
    "start_time": "2025-04-10T23:57:00.777Z"
   },
   {
    "duration": 3,
    "start_time": "2025-04-10T23:57:00.808Z"
   },
   {
    "duration": 3,
    "start_time": "2025-04-10T23:57:00.812Z"
   },
   {
    "duration": 3,
    "start_time": "2025-04-10T23:57:00.816Z"
   },
   {
    "duration": 3,
    "start_time": "2025-04-10T23:57:00.821Z"
   },
   {
    "duration": 3,
    "start_time": "2025-04-10T23:57:00.826Z"
   },
   {
    "duration": 3,
    "start_time": "2025-04-10T23:57:00.831Z"
   },
   {
    "duration": 3,
    "start_time": "2025-04-10T23:57:00.836Z"
   },
   {
    "duration": 4,
    "start_time": "2025-04-10T23:57:00.840Z"
   },
   {
    "duration": 3,
    "start_time": "2025-04-10T23:57:00.845Z"
   },
   {
    "duration": 4,
    "start_time": "2025-04-10T23:57:00.850Z"
   },
   {
    "duration": 3,
    "start_time": "2025-04-10T23:57:00.855Z"
   },
   {
    "duration": 3,
    "start_time": "2025-04-10T23:57:00.860Z"
   },
   {
    "duration": 5,
    "start_time": "2025-04-11T00:06:35.086Z"
   },
   {
    "duration": 5,
    "start_time": "2025-04-11T01:04:21.882Z"
   },
   {
    "duration": 143,
    "start_time": "2025-04-11T01:09:38.575Z"
   },
   {
    "duration": 142,
    "start_time": "2025-04-11T01:09:45.873Z"
   },
   {
    "duration": 154,
    "start_time": "2025-04-11T01:10:17.198Z"
   },
   {
    "duration": 489,
    "start_time": "2025-04-11T01:18:27.734Z"
   },
   {
    "duration": 27,
    "start_time": "2025-04-11T01:18:38.281Z"
   },
   {
    "duration": 26,
    "start_time": "2025-04-11T01:19:05.887Z"
   },
   {
    "duration": 6,
    "start_time": "2025-04-11T01:23:53.389Z"
   },
   {
    "duration": 4,
    "start_time": "2025-04-11T01:25:05.520Z"
   },
   {
    "duration": 14,
    "start_time": "2025-04-11T01:32:47.115Z"
   },
   {
    "duration": 11,
    "start_time": "2025-04-11T01:32:56.578Z"
   },
   {
    "duration": 13,
    "start_time": "2025-04-11T01:33:04.682Z"
   },
   {
    "duration": 2,
    "start_time": "2025-04-11T01:33:23.664Z"
   },
   {
    "duration": 156,
    "start_time": "2025-04-11T01:33:23.668Z"
   },
   {
    "duration": 11,
    "start_time": "2025-04-11T01:33:23.827Z"
   },
   {
    "duration": 6,
    "start_time": "2025-04-11T01:33:23.839Z"
   },
   {
    "duration": 5,
    "start_time": "2025-04-11T01:33:23.847Z"
   },
   {
    "duration": 12,
    "start_time": "2025-04-11T01:33:23.853Z"
   },
   {
    "duration": 4,
    "start_time": "2025-04-11T01:33:23.866Z"
   },
   {
    "duration": 5,
    "start_time": "2025-04-11T01:33:23.872Z"
   },
   {
    "duration": 28,
    "start_time": "2025-04-11T01:33:23.879Z"
   },
   {
    "duration": 51,
    "start_time": "2025-04-11T01:33:23.909Z"
   },
   {
    "duration": 4,
    "start_time": "2025-04-11T01:33:23.962Z"
   },
   {
    "duration": 41,
    "start_time": "2025-04-11T01:33:23.968Z"
   },
   {
    "duration": 29,
    "start_time": "2025-04-11T01:33:24.013Z"
   },
   {
    "duration": 6,
    "start_time": "2025-04-11T01:33:24.044Z"
   },
   {
    "duration": 15,
    "start_time": "2025-04-11T01:33:24.052Z"
   },
   {
    "duration": 75,
    "start_time": "2025-04-11T01:33:24.069Z"
   },
   {
    "duration": 7,
    "start_time": "2025-04-11T01:33:24.148Z"
   },
   {
    "duration": 29,
    "start_time": "2025-04-11T01:33:24.157Z"
   },
   {
    "duration": 19,
    "start_time": "2025-04-11T01:33:24.188Z"
   },
   {
    "duration": 24,
    "start_time": "2025-04-11T01:33:24.210Z"
   },
   {
    "duration": 4,
    "start_time": "2025-04-11T01:33:24.236Z"
   },
   {
    "duration": 0,
    "start_time": "2025-04-11T01:33:24.242Z"
   },
   {
    "duration": 0,
    "start_time": "2025-04-11T01:33:24.243Z"
   },
   {
    "duration": 0,
    "start_time": "2025-04-11T01:33:24.244Z"
   },
   {
    "duration": 0,
    "start_time": "2025-04-11T01:33:24.245Z"
   },
   {
    "duration": 0,
    "start_time": "2025-04-11T01:33:24.246Z"
   },
   {
    "duration": 0,
    "start_time": "2025-04-11T01:33:24.247Z"
   },
   {
    "duration": 0,
    "start_time": "2025-04-11T01:33:24.248Z"
   },
   {
    "duration": 0,
    "start_time": "2025-04-11T01:33:24.249Z"
   },
   {
    "duration": 0,
    "start_time": "2025-04-11T01:33:24.251Z"
   },
   {
    "duration": 0,
    "start_time": "2025-04-11T01:33:24.252Z"
   },
   {
    "duration": 0,
    "start_time": "2025-04-11T01:33:24.253Z"
   },
   {
    "duration": 0,
    "start_time": "2025-04-11T01:33:24.255Z"
   },
   {
    "duration": 0,
    "start_time": "2025-04-11T01:33:24.256Z"
   },
   {
    "duration": 27,
    "start_time": "2025-04-11T02:13:03.290Z"
   },
   {
    "duration": 20,
    "start_time": "2025-04-11T02:13:48.899Z"
   },
   {
    "duration": 25,
    "start_time": "2025-04-11T02:18:20.040Z"
   },
   {
    "duration": 3,
    "start_time": "2025-04-11T02:18:54.920Z"
   },
   {
    "duration": 30,
    "start_time": "2025-04-11T02:19:04.575Z"
   },
   {
    "duration": 3,
    "start_time": "2025-04-11T02:22:13.685Z"
   },
   {
    "duration": 4,
    "start_time": "2025-04-11T02:23:21.548Z"
   },
   {
    "duration": 24,
    "start_time": "2025-04-11T02:23:26.613Z"
   },
   {
    "duration": 675,
    "start_time": "2025-04-11T19:41:19.178Z"
   },
   {
    "duration": 218,
    "start_time": "2025-04-11T19:41:19.855Z"
   },
   {
    "duration": 14,
    "start_time": "2025-04-11T19:41:20.074Z"
   },
   {
    "duration": 7,
    "start_time": "2025-04-11T19:41:20.089Z"
   },
   {
    "duration": 6,
    "start_time": "2025-04-11T19:41:20.098Z"
   },
   {
    "duration": 10,
    "start_time": "2025-04-11T19:41:20.106Z"
   },
   {
    "duration": 5,
    "start_time": "2025-04-11T19:41:20.130Z"
   },
   {
    "duration": 6,
    "start_time": "2025-04-11T19:41:20.137Z"
   },
   {
    "duration": 5,
    "start_time": "2025-04-11T19:41:20.145Z"
   },
   {
    "duration": 53,
    "start_time": "2025-04-11T19:41:20.151Z"
   },
   {
    "duration": 6,
    "start_time": "2025-04-11T19:41:20.230Z"
   },
   {
    "duration": 21,
    "start_time": "2025-04-11T19:41:20.237Z"
   },
   {
    "duration": 28,
    "start_time": "2025-04-11T19:41:20.260Z"
   },
   {
    "duration": 4,
    "start_time": "2025-04-11T19:41:20.292Z"
   },
   {
    "duration": 41,
    "start_time": "2025-04-11T19:41:20.298Z"
   },
   {
    "duration": 62,
    "start_time": "2025-04-11T19:41:20.341Z"
   },
   {
    "duration": 7,
    "start_time": "2025-04-11T19:41:20.406Z"
   },
   {
    "duration": 29,
    "start_time": "2025-04-11T19:41:20.414Z"
   },
   {
    "duration": 5,
    "start_time": "2025-04-11T19:41:20.445Z"
   },
   {
    "duration": 33,
    "start_time": "2025-04-11T19:41:20.451Z"
   },
   {
    "duration": 48,
    "start_time": "2025-04-11T19:41:20.486Z"
   },
   {
    "duration": 2,
    "start_time": "2025-04-11T19:41:20.536Z"
   },
   {
    "duration": 3,
    "start_time": "2025-04-11T19:41:20.540Z"
   },
   {
    "duration": 3,
    "start_time": "2025-04-11T19:41:20.544Z"
   },
   {
    "duration": 3,
    "start_time": "2025-04-11T19:41:20.549Z"
   },
   {
    "duration": 3,
    "start_time": "2025-04-11T19:41:20.554Z"
   },
   {
    "duration": 2,
    "start_time": "2025-04-11T19:41:20.559Z"
   },
   {
    "duration": 3,
    "start_time": "2025-04-11T19:41:20.563Z"
   },
   {
    "duration": 4,
    "start_time": "2025-04-11T19:41:20.567Z"
   },
   {
    "duration": 3,
    "start_time": "2025-04-11T19:41:20.572Z"
   },
   {
    "duration": 3,
    "start_time": "2025-04-11T19:41:20.577Z"
   },
   {
    "duration": 3,
    "start_time": "2025-04-11T19:41:20.582Z"
   },
   {
    "duration": 3,
    "start_time": "2025-04-11T19:41:20.586Z"
   },
   {
    "duration": 2,
    "start_time": "2025-04-11T19:41:20.631Z"
   },
   {
    "duration": 619,
    "start_time": "2025-04-11T21:41:02.890Z"
   },
   {
    "duration": 215,
    "start_time": "2025-04-11T21:41:03.511Z"
   },
   {
    "duration": 14,
    "start_time": "2025-04-11T21:41:03.728Z"
   },
   {
    "duration": 7,
    "start_time": "2025-04-11T21:41:03.744Z"
   },
   {
    "duration": 5,
    "start_time": "2025-04-11T21:41:03.755Z"
   },
   {
    "duration": 11,
    "start_time": "2025-04-11T21:41:03.762Z"
   },
   {
    "duration": 5,
    "start_time": "2025-04-11T21:41:03.775Z"
   },
   {
    "duration": 7,
    "start_time": "2025-04-11T21:41:03.781Z"
   },
   {
    "duration": 41,
    "start_time": "2025-04-11T21:41:03.790Z"
   },
   {
    "duration": 53,
    "start_time": "2025-04-11T21:41:03.833Z"
   },
   {
    "duration": 5,
    "start_time": "2025-04-11T21:41:03.888Z"
   },
   {
    "duration": 42,
    "start_time": "2025-04-11T21:41:03.895Z"
   },
   {
    "duration": 30,
    "start_time": "2025-04-11T21:41:03.939Z"
   },
   {
    "duration": 4,
    "start_time": "2025-04-11T21:41:03.972Z"
   },
   {
    "duration": 12,
    "start_time": "2025-04-11T21:41:03.978Z"
   },
   {
    "duration": 80,
    "start_time": "2025-04-11T21:41:03.992Z"
   },
   {
    "duration": 5,
    "start_time": "2025-04-11T21:41:04.074Z"
   },
   {
    "duration": 17,
    "start_time": "2025-04-11T21:41:04.080Z"
   },
   {
    "duration": 5,
    "start_time": "2025-04-11T21:41:04.098Z"
   },
   {
    "duration": 59,
    "start_time": "2025-04-11T21:41:04.105Z"
   },
   {
    "duration": 23,
    "start_time": "2025-04-11T21:41:04.165Z"
   },
   {
    "duration": 3,
    "start_time": "2025-04-11T21:41:04.190Z"
   },
   {
    "duration": 3,
    "start_time": "2025-04-11T21:41:04.194Z"
   },
   {
    "duration": 3,
    "start_time": "2025-04-11T21:41:04.199Z"
   },
   {
    "duration": 2,
    "start_time": "2025-04-11T21:41:04.204Z"
   },
   {
    "duration": 2,
    "start_time": "2025-04-11T21:41:04.232Z"
   },
   {
    "duration": 4,
    "start_time": "2025-04-11T21:41:04.235Z"
   },
   {
    "duration": 3,
    "start_time": "2025-04-11T21:41:04.240Z"
   },
   {
    "duration": 3,
    "start_time": "2025-04-11T21:41:04.245Z"
   },
   {
    "duration": 2,
    "start_time": "2025-04-11T21:41:04.251Z"
   },
   {
    "duration": 3,
    "start_time": "2025-04-11T21:41:04.254Z"
   },
   {
    "duration": 3,
    "start_time": "2025-04-11T21:41:04.259Z"
   },
   {
    "duration": 4,
    "start_time": "2025-04-11T21:41:04.263Z"
   },
   {
    "duration": 4,
    "start_time": "2025-04-11T21:41:04.268Z"
   },
   {
    "duration": 119,
    "start_time": "2025-04-11T21:42:49.272Z"
   },
   {
    "duration": 21,
    "start_time": "2025-04-11T21:43:06.832Z"
   },
   {
    "duration": 20,
    "start_time": "2025-04-11T21:43:17.081Z"
   },
   {
    "duration": 36,
    "start_time": "2025-04-11T21:45:36.812Z"
   },
   {
    "duration": 27,
    "start_time": "2025-04-11T21:45:53.411Z"
   },
   {
    "duration": 34,
    "start_time": "2025-04-11T21:45:59.483Z"
   },
   {
    "duration": 26,
    "start_time": "2025-04-11T21:46:13.338Z"
   },
   {
    "duration": 18,
    "start_time": "2025-04-11T21:46:40.073Z"
   },
   {
    "duration": 20,
    "start_time": "2025-04-11T21:47:11.584Z"
   },
   {
    "duration": 23,
    "start_time": "2025-04-11T21:50:10.371Z"
   },
   {
    "duration": 20,
    "start_time": "2025-04-11T21:50:58.528Z"
   },
   {
    "duration": 26,
    "start_time": "2025-04-11T22:13:05.489Z"
   },
   {
    "duration": 15,
    "start_time": "2025-04-11T22:13:23.829Z"
   },
   {
    "duration": 25,
    "start_time": "2025-04-11T22:13:55.240Z"
   },
   {
    "duration": 24,
    "start_time": "2025-04-11T22:14:08.596Z"
   },
   {
    "duration": 17,
    "start_time": "2025-04-11T22:14:16.818Z"
   },
   {
    "duration": 17,
    "start_time": "2025-04-11T22:14:38.196Z"
   },
   {
    "duration": 23,
    "start_time": "2025-04-11T22:15:36.351Z"
   },
   {
    "duration": 22,
    "start_time": "2025-04-11T22:15:45.578Z"
   },
   {
    "duration": 662,
    "start_time": "2025-04-12T01:38:02.296Z"
   },
   {
    "duration": 237,
    "start_time": "2025-04-12T01:38:02.961Z"
   },
   {
    "duration": 12,
    "start_time": "2025-04-12T01:38:03.200Z"
   },
   {
    "duration": 6,
    "start_time": "2025-04-12T01:38:03.214Z"
   },
   {
    "duration": 4,
    "start_time": "2025-04-12T01:38:03.224Z"
   },
   {
    "duration": 11,
    "start_time": "2025-04-12T01:38:03.230Z"
   },
   {
    "duration": 26,
    "start_time": "2025-04-12T01:38:03.244Z"
   },
   {
    "duration": 5,
    "start_time": "2025-04-12T01:38:03.272Z"
   },
   {
    "duration": 5,
    "start_time": "2025-04-12T01:38:03.279Z"
   },
   {
    "duration": 50,
    "start_time": "2025-04-12T01:38:03.285Z"
   },
   {
    "duration": 4,
    "start_time": "2025-04-12T01:38:03.337Z"
   },
   {
    "duration": 20,
    "start_time": "2025-04-12T01:38:03.370Z"
   },
   {
    "duration": 28,
    "start_time": "2025-04-12T01:38:03.392Z"
   },
   {
    "duration": 4,
    "start_time": "2025-04-12T01:38:03.423Z"
   },
   {
    "duration": 11,
    "start_time": "2025-04-12T01:38:03.429Z"
   },
   {
    "duration": 52,
    "start_time": "2025-04-12T01:38:03.469Z"
   },
   {
    "duration": 5,
    "start_time": "2025-04-12T01:38:03.522Z"
   },
   {
    "duration": 16,
    "start_time": "2025-04-12T01:38:03.528Z"
   },
   {
    "duration": 25,
    "start_time": "2025-04-12T01:38:03.546Z"
   },
   {
    "duration": 28,
    "start_time": "2025-04-12T01:38:03.573Z"
   },
   {
    "duration": 18,
    "start_time": "2025-04-12T01:38:03.602Z"
   },
   {
    "duration": 21,
    "start_time": "2025-04-12T01:38:03.621Z"
   },
   {
    "duration": 22,
    "start_time": "2025-04-12T01:38:03.671Z"
   },
   {
    "duration": 17,
    "start_time": "2025-04-12T01:38:03.695Z"
   },
   {
    "duration": 2,
    "start_time": "2025-04-12T01:38:03.713Z"
   },
   {
    "duration": 3,
    "start_time": "2025-04-12T01:38:03.717Z"
   },
   {
    "duration": 3,
    "start_time": "2025-04-12T01:38:03.722Z"
   },
   {
    "duration": 4,
    "start_time": "2025-04-12T01:38:03.726Z"
   },
   {
    "duration": 3,
    "start_time": "2025-04-12T01:38:03.731Z"
   },
   {
    "duration": 35,
    "start_time": "2025-04-12T01:38:03.735Z"
   },
   {
    "duration": 2,
    "start_time": "2025-04-12T01:38:03.772Z"
   },
   {
    "duration": 2,
    "start_time": "2025-04-12T01:38:03.776Z"
   },
   {
    "duration": 4,
    "start_time": "2025-04-12T01:38:03.779Z"
   },
   {
    "duration": 3,
    "start_time": "2025-04-12T01:38:03.784Z"
   },
   {
    "duration": 19,
    "start_time": "2025-04-12T01:38:21.127Z"
   },
   {
    "duration": 24,
    "start_time": "2025-04-12T01:38:46.412Z"
   },
   {
    "duration": 20,
    "start_time": "2025-04-12T01:40:28.914Z"
   },
   {
    "duration": 20,
    "start_time": "2025-04-12T01:40:52.807Z"
   },
   {
    "duration": 20,
    "start_time": "2025-04-12T01:41:08.620Z"
   },
   {
    "duration": 29,
    "start_time": "2025-04-12T01:42:26.502Z"
   },
   {
    "duration": 23,
    "start_time": "2025-04-12T01:42:46.296Z"
   },
   {
    "duration": 24,
    "start_time": "2025-04-12T01:43:08.436Z"
   },
   {
    "duration": 26,
    "start_time": "2025-04-12T01:44:44.874Z"
   },
   {
    "duration": 686,
    "start_time": "2025-04-12T01:52:45.344Z"
   },
   {
    "duration": 42,
    "start_time": "2025-04-12T01:53:50.763Z"
   },
   {
    "duration": 16,
    "start_time": "2025-04-12T01:55:42.761Z"
   },
   {
    "duration": 17,
    "start_time": "2025-04-12T01:55:47.798Z"
   },
   {
    "duration": 12,
    "start_time": "2025-04-12T01:55:53.952Z"
   },
   {
    "duration": 13,
    "start_time": "2025-04-12T01:56:24.450Z"
   },
   {
    "duration": 12,
    "start_time": "2025-04-12T01:56:28.675Z"
   },
   {
    "duration": 13,
    "start_time": "2025-04-12T01:56:32.364Z"
   },
   {
    "duration": 2,
    "start_time": "2025-04-12T01:56:38.772Z"
   },
   {
    "duration": 172,
    "start_time": "2025-04-12T01:56:38.777Z"
   },
   {
    "duration": 11,
    "start_time": "2025-04-12T01:56:38.951Z"
   },
   {
    "duration": 11,
    "start_time": "2025-04-12T01:56:38.963Z"
   },
   {
    "duration": 6,
    "start_time": "2025-04-12T01:56:38.976Z"
   },
   {
    "duration": 11,
    "start_time": "2025-04-12T01:56:38.983Z"
   },
   {
    "duration": 7,
    "start_time": "2025-04-12T01:56:38.995Z"
   },
   {
    "duration": 6,
    "start_time": "2025-04-12T01:56:39.003Z"
   },
   {
    "duration": 4,
    "start_time": "2025-04-12T01:56:39.011Z"
   },
   {
    "duration": 87,
    "start_time": "2025-04-12T01:56:39.016Z"
   },
   {
    "duration": 4,
    "start_time": "2025-04-12T01:56:39.107Z"
   },
   {
    "duration": 19,
    "start_time": "2025-04-12T01:56:39.113Z"
   },
   {
    "duration": 44,
    "start_time": "2025-04-12T01:56:39.134Z"
   },
   {
    "duration": 4,
    "start_time": "2025-04-12T01:56:39.179Z"
   },
   {
    "duration": 11,
    "start_time": "2025-04-12T01:56:39.185Z"
   },
   {
    "duration": 73,
    "start_time": "2025-04-12T01:56:39.199Z"
   },
   {
    "duration": 5,
    "start_time": "2025-04-12T01:56:39.274Z"
   },
   {
    "duration": 16,
    "start_time": "2025-04-12T01:56:39.281Z"
   },
   {
    "duration": 5,
    "start_time": "2025-04-12T01:56:39.298Z"
   },
   {
    "duration": 25,
    "start_time": "2025-04-12T01:56:39.304Z"
   },
   {
    "duration": 45,
    "start_time": "2025-04-12T01:56:39.331Z"
   },
   {
    "duration": 17,
    "start_time": "2025-04-12T01:56:39.378Z"
   },
   {
    "duration": 21,
    "start_time": "2025-04-12T01:56:39.397Z"
   },
   {
    "duration": 20,
    "start_time": "2025-04-12T01:56:39.419Z"
   },
   {
    "duration": 35,
    "start_time": "2025-04-12T01:56:39.441Z"
   },
   {
    "duration": 3,
    "start_time": "2025-04-12T01:56:39.478Z"
   },
   {
    "duration": 3,
    "start_time": "2025-04-12T01:56:39.482Z"
   },
   {
    "duration": 3,
    "start_time": "2025-04-12T01:56:39.487Z"
   },
   {
    "duration": 3,
    "start_time": "2025-04-12T01:56:39.494Z"
   },
   {
    "duration": 2,
    "start_time": "2025-04-12T01:56:39.498Z"
   },
   {
    "duration": 3,
    "start_time": "2025-04-12T01:56:39.502Z"
   },
   {
    "duration": 3,
    "start_time": "2025-04-12T01:56:39.506Z"
   },
   {
    "duration": 2,
    "start_time": "2025-04-12T01:56:39.511Z"
   },
   {
    "duration": 3,
    "start_time": "2025-04-12T01:56:39.515Z"
   },
   {
    "duration": 9,
    "start_time": "2025-04-12T01:57:07.985Z"
   },
   {
    "duration": 3,
    "start_time": "2025-04-12T01:57:14.155Z"
   },
   {
    "duration": 166,
    "start_time": "2025-04-12T01:57:14.160Z"
   },
   {
    "duration": 10,
    "start_time": "2025-04-12T01:57:14.328Z"
   },
   {
    "duration": 4,
    "start_time": "2025-04-12T01:57:14.340Z"
   },
   {
    "duration": 5,
    "start_time": "2025-04-12T01:57:14.347Z"
   },
   {
    "duration": 25,
    "start_time": "2025-04-12T01:57:14.353Z"
   },
   {
    "duration": 5,
    "start_time": "2025-04-12T01:57:14.381Z"
   },
   {
    "duration": 6,
    "start_time": "2025-04-12T01:57:14.387Z"
   },
   {
    "duration": 5,
    "start_time": "2025-04-12T01:57:14.394Z"
   },
   {
    "duration": 44,
    "start_time": "2025-04-12T01:57:14.400Z"
   },
   {
    "duration": 5,
    "start_time": "2025-04-12T01:57:14.471Z"
   },
   {
    "duration": 20,
    "start_time": "2025-04-12T01:57:14.478Z"
   },
   {
    "duration": 27,
    "start_time": "2025-04-12T01:57:14.500Z"
   },
   {
    "duration": 4,
    "start_time": "2025-04-12T01:57:14.530Z"
   },
   {
    "duration": 36,
    "start_time": "2025-04-12T01:57:14.536Z"
   },
   {
    "duration": 57,
    "start_time": "2025-04-12T01:57:14.574Z"
   },
   {
    "duration": 4,
    "start_time": "2025-04-12T01:57:14.634Z"
   },
   {
    "duration": 40,
    "start_time": "2025-04-12T01:57:14.640Z"
   },
   {
    "duration": 5,
    "start_time": "2025-04-12T01:57:14.682Z"
   },
   {
    "duration": 24,
    "start_time": "2025-04-12T01:57:14.689Z"
   },
   {
    "duration": 15,
    "start_time": "2025-04-12T01:57:14.715Z"
   },
   {
    "duration": 47,
    "start_time": "2025-04-12T01:57:14.732Z"
   },
   {
    "duration": 20,
    "start_time": "2025-04-12T01:57:14.780Z"
   },
   {
    "duration": 21,
    "start_time": "2025-04-12T01:57:14.802Z"
   },
   {
    "duration": 9,
    "start_time": "2025-04-12T01:57:14.825Z"
   },
   {
    "duration": 2,
    "start_time": "2025-04-12T01:57:14.836Z"
   },
   {
    "duration": 33,
    "start_time": "2025-04-12T01:57:14.839Z"
   },
   {
    "duration": 3,
    "start_time": "2025-04-12T01:57:14.873Z"
   },
   {
    "duration": 2,
    "start_time": "2025-04-12T01:57:14.878Z"
   },
   {
    "duration": 3,
    "start_time": "2025-04-12T01:57:14.882Z"
   },
   {
    "duration": 4,
    "start_time": "2025-04-12T01:57:14.886Z"
   },
   {
    "duration": 4,
    "start_time": "2025-04-12T01:57:14.891Z"
   },
   {
    "duration": 3,
    "start_time": "2025-04-12T01:57:14.896Z"
   },
   {
    "duration": 4,
    "start_time": "2025-04-12T01:57:14.900Z"
   },
   {
    "duration": 618,
    "start_time": "2025-04-12T17:53:54.401Z"
   },
   {
    "duration": 214,
    "start_time": "2025-04-12T17:53:55.022Z"
   },
   {
    "duration": 12,
    "start_time": "2025-04-12T17:53:55.238Z"
   },
   {
    "duration": 6,
    "start_time": "2025-04-12T17:53:55.252Z"
   },
   {
    "duration": 6,
    "start_time": "2025-04-12T17:53:55.260Z"
   },
   {
    "duration": 10,
    "start_time": "2025-04-12T17:53:55.267Z"
   },
   {
    "duration": 6,
    "start_time": "2025-04-12T17:53:55.278Z"
   },
   {
    "duration": 6,
    "start_time": "2025-04-12T17:53:55.285Z"
   },
   {
    "duration": 38,
    "start_time": "2025-04-12T17:53:55.293Z"
   },
   {
    "duration": 53,
    "start_time": "2025-04-12T17:53:55.333Z"
   },
   {
    "duration": 5,
    "start_time": "2025-04-12T17:53:55.388Z"
   },
   {
    "duration": 38,
    "start_time": "2025-04-12T17:53:55.395Z"
   },
   {
    "duration": 41,
    "start_time": "2025-04-12T17:53:55.435Z"
   },
   {
    "duration": 4,
    "start_time": "2025-04-12T17:53:55.481Z"
   },
   {
    "duration": 13,
    "start_time": "2025-04-12T17:53:55.487Z"
   },
   {
    "duration": 92,
    "start_time": "2025-04-12T17:53:55.501Z"
   },
   {
    "duration": 5,
    "start_time": "2025-04-12T17:53:55.595Z"
   },
   {
    "duration": 16,
    "start_time": "2025-04-12T17:53:55.602Z"
   },
   {
    "duration": 13,
    "start_time": "2025-04-12T17:53:55.620Z"
   },
   {
    "duration": 29,
    "start_time": "2025-04-12T17:53:55.634Z"
   },
   {
    "duration": 17,
    "start_time": "2025-04-12T17:53:55.665Z"
   },
   {
    "duration": 48,
    "start_time": "2025-04-12T17:53:55.684Z"
   },
   {
    "duration": 28,
    "start_time": "2025-04-12T17:53:55.735Z"
   },
   {
    "duration": 21,
    "start_time": "2025-04-12T17:53:55.765Z"
   },
   {
    "duration": 10,
    "start_time": "2025-04-12T17:53:55.788Z"
   },
   {
    "duration": 6,
    "start_time": "2025-04-12T17:53:55.800Z"
   },
   {
    "duration": 0,
    "start_time": "2025-04-12T17:53:55.807Z"
   },
   {
    "duration": 0,
    "start_time": "2025-04-12T17:53:55.808Z"
   },
   {
    "duration": 0,
    "start_time": "2025-04-12T17:53:55.809Z"
   },
   {
    "duration": 0,
    "start_time": "2025-04-12T17:53:55.809Z"
   },
   {
    "duration": 0,
    "start_time": "2025-04-12T17:53:55.810Z"
   },
   {
    "duration": 0,
    "start_time": "2025-04-12T17:53:55.847Z"
   },
   {
    "duration": 0,
    "start_time": "2025-04-12T17:53:55.849Z"
   },
   {
    "duration": 0,
    "start_time": "2025-04-12T17:53:55.850Z"
   },
   {
    "duration": 630,
    "start_time": "2025-04-12T18:19:41.113Z"
   },
   {
    "duration": 9,
    "start_time": "2025-04-12T18:20:05.952Z"
   },
   {
    "duration": 3,
    "start_time": "2025-04-12T18:20:23.365Z"
   },
   {
    "duration": 162,
    "start_time": "2025-04-12T18:20:23.370Z"
   },
   {
    "duration": 10,
    "start_time": "2025-04-12T18:20:23.534Z"
   },
   {
    "duration": 5,
    "start_time": "2025-04-12T18:20:23.546Z"
   },
   {
    "duration": 5,
    "start_time": "2025-04-12T18:20:23.554Z"
   },
   {
    "duration": 11,
    "start_time": "2025-04-12T18:20:23.560Z"
   },
   {
    "duration": 5,
    "start_time": "2025-04-12T18:20:23.573Z"
   },
   {
    "duration": 5,
    "start_time": "2025-04-12T18:20:23.580Z"
   },
   {
    "duration": 6,
    "start_time": "2025-04-12T18:20:23.587Z"
   },
   {
    "duration": 80,
    "start_time": "2025-04-12T18:20:23.594Z"
   },
   {
    "duration": 5,
    "start_time": "2025-04-12T18:20:23.675Z"
   },
   {
    "duration": 21,
    "start_time": "2025-04-12T18:20:23.682Z"
   },
   {
    "duration": 48,
    "start_time": "2025-04-12T18:20:23.705Z"
   },
   {
    "duration": 3,
    "start_time": "2025-04-12T18:20:23.757Z"
   },
   {
    "duration": 11,
    "start_time": "2025-04-12T18:20:23.762Z"
   },
   {
    "duration": 67,
    "start_time": "2025-04-12T18:20:23.774Z"
   },
   {
    "duration": 5,
    "start_time": "2025-04-12T18:20:23.843Z"
   },
   {
    "duration": 16,
    "start_time": "2025-04-12T18:20:23.849Z"
   },
   {
    "duration": 4,
    "start_time": "2025-04-12T18:20:23.867Z"
   },
   {
    "duration": 26,
    "start_time": "2025-04-12T18:20:23.873Z"
   },
   {
    "duration": 42,
    "start_time": "2025-04-12T18:20:23.900Z"
   },
   {
    "duration": 18,
    "start_time": "2025-04-12T18:20:23.944Z"
   },
   {
    "duration": 20,
    "start_time": "2025-04-12T18:20:23.964Z"
   },
   {
    "duration": 20,
    "start_time": "2025-04-12T18:20:23.985Z"
   },
   {
    "duration": 32,
    "start_time": "2025-04-12T18:20:24.006Z"
   },
   {
    "duration": 385,
    "start_time": "2025-04-12T18:20:24.039Z"
   },
   {
    "duration": 0,
    "start_time": "2025-04-12T18:20:24.426Z"
   },
   {
    "duration": 0,
    "start_time": "2025-04-12T18:20:24.431Z"
   },
   {
    "duration": 0,
    "start_time": "2025-04-12T18:20:24.433Z"
   },
   {
    "duration": 0,
    "start_time": "2025-04-12T18:20:24.434Z"
   },
   {
    "duration": 0,
    "start_time": "2025-04-12T18:20:24.436Z"
   },
   {
    "duration": 0,
    "start_time": "2025-04-12T18:20:24.437Z"
   },
   {
    "duration": 0,
    "start_time": "2025-04-12T18:20:24.439Z"
   },
   {
    "duration": 0,
    "start_time": "2025-04-12T18:20:24.440Z"
   },
   {
    "duration": 2,
    "start_time": "2025-04-12T18:20:34.053Z"
   },
   {
    "duration": 7,
    "start_time": "2025-04-12T18:20:59.197Z"
   },
   {
    "duration": 6,
    "start_time": "2025-04-12T18:21:03.253Z"
   },
   {
    "duration": 2,
    "start_time": "2025-04-12T18:22:28.853Z"
   },
   {
    "duration": 158,
    "start_time": "2025-04-12T18:22:28.857Z"
   },
   {
    "duration": 13,
    "start_time": "2025-04-12T18:22:29.016Z"
   },
   {
    "duration": 4,
    "start_time": "2025-04-12T18:22:29.031Z"
   },
   {
    "duration": 6,
    "start_time": "2025-04-12T18:22:29.038Z"
   },
   {
    "duration": 10,
    "start_time": "2025-04-12T18:22:29.046Z"
   },
   {
    "duration": 5,
    "start_time": "2025-04-12T18:22:29.058Z"
   },
   {
    "duration": 6,
    "start_time": "2025-04-12T18:22:29.065Z"
   },
   {
    "duration": 3,
    "start_time": "2025-04-12T18:22:29.073Z"
   },
   {
    "duration": 84,
    "start_time": "2025-04-12T18:22:29.078Z"
   },
   {
    "duration": 5,
    "start_time": "2025-04-12T18:22:29.164Z"
   },
   {
    "duration": 19,
    "start_time": "2025-04-12T18:22:29.171Z"
   },
   {
    "duration": 51,
    "start_time": "2025-04-12T18:22:29.191Z"
   },
   {
    "duration": 4,
    "start_time": "2025-04-12T18:22:29.246Z"
   },
   {
    "duration": 14,
    "start_time": "2025-04-12T18:22:29.251Z"
   },
   {
    "duration": 80,
    "start_time": "2025-04-12T18:22:29.267Z"
   },
   {
    "duration": 5,
    "start_time": "2025-04-12T18:22:29.349Z"
   },
   {
    "duration": 15,
    "start_time": "2025-04-12T18:22:29.356Z"
   },
   {
    "duration": 5,
    "start_time": "2025-04-12T18:22:29.372Z"
   },
   {
    "duration": 23,
    "start_time": "2025-04-12T18:22:29.378Z"
   },
   {
    "duration": 41,
    "start_time": "2025-04-12T18:22:29.403Z"
   },
   {
    "duration": 19,
    "start_time": "2025-04-12T18:22:29.446Z"
   },
   {
    "duration": 22,
    "start_time": "2025-04-12T18:22:29.466Z"
   },
   {
    "duration": 47,
    "start_time": "2025-04-12T18:22:29.490Z"
   },
   {
    "duration": 8,
    "start_time": "2025-04-12T18:22:29.538Z"
   },
   {
    "duration": 6,
    "start_time": "2025-04-12T18:22:29.547Z"
   },
   {
    "duration": 2,
    "start_time": "2025-04-12T18:22:29.555Z"
   },
   {
    "duration": 2,
    "start_time": "2025-04-12T18:22:29.559Z"
   },
   {
    "duration": 2,
    "start_time": "2025-04-12T18:22:29.563Z"
   },
   {
    "duration": 2,
    "start_time": "2025-04-12T18:22:29.567Z"
   },
   {
    "duration": 3,
    "start_time": "2025-04-12T18:22:29.571Z"
   },
   {
    "duration": 2,
    "start_time": "2025-04-12T18:22:29.576Z"
   },
   {
    "duration": 3,
    "start_time": "2025-04-12T18:22:29.580Z"
   },
   {
    "duration": 4,
    "start_time": "2025-04-12T18:22:29.584Z"
   },
   {
    "duration": 2,
    "start_time": "2025-04-12T18:22:29.632Z"
   },
   {
    "duration": 7,
    "start_time": "2025-04-12T18:23:55.802Z"
   },
   {
    "duration": 18,
    "start_time": "2025-04-12T18:25:24.370Z"
   },
   {
    "duration": 3,
    "start_time": "2025-04-12T18:25:33.270Z"
   },
   {
    "duration": 169,
    "start_time": "2025-04-12T18:25:33.275Z"
   },
   {
    "duration": 11,
    "start_time": "2025-04-12T18:25:33.445Z"
   },
   {
    "duration": 4,
    "start_time": "2025-04-12T18:25:33.458Z"
   },
   {
    "duration": 6,
    "start_time": "2025-04-12T18:25:33.465Z"
   },
   {
    "duration": 11,
    "start_time": "2025-04-12T18:25:33.472Z"
   },
   {
    "duration": 5,
    "start_time": "2025-04-12T18:25:33.485Z"
   },
   {
    "duration": 6,
    "start_time": "2025-04-12T18:25:33.491Z"
   },
   {
    "duration": 32,
    "start_time": "2025-04-12T18:25:33.499Z"
   },
   {
    "duration": 47,
    "start_time": "2025-04-12T18:25:33.533Z"
   },
   {
    "duration": 5,
    "start_time": "2025-04-12T18:25:33.582Z"
   },
   {
    "duration": 21,
    "start_time": "2025-04-12T18:25:33.588Z"
   },
   {
    "duration": 30,
    "start_time": "2025-04-12T18:25:33.631Z"
   },
   {
    "duration": 4,
    "start_time": "2025-04-12T18:25:33.665Z"
   },
   {
    "duration": 11,
    "start_time": "2025-04-12T18:25:33.671Z"
   },
   {
    "duration": 74,
    "start_time": "2025-04-12T18:25:33.684Z"
   },
   {
    "duration": 4,
    "start_time": "2025-04-12T18:25:33.760Z"
   },
   {
    "duration": 16,
    "start_time": "2025-04-12T18:25:33.766Z"
   },
   {
    "duration": 4,
    "start_time": "2025-04-12T18:25:33.784Z"
   },
   {
    "duration": 49,
    "start_time": "2025-04-12T18:25:33.790Z"
   },
   {
    "duration": 14,
    "start_time": "2025-04-12T18:25:33.841Z"
   },
   {
    "duration": 19,
    "start_time": "2025-04-12T18:25:33.857Z"
   },
   {
    "duration": 21,
    "start_time": "2025-04-12T18:25:33.877Z"
   },
   {
    "duration": 47,
    "start_time": "2025-04-12T18:25:33.899Z"
   },
   {
    "duration": 6,
    "start_time": "2025-04-12T18:25:33.948Z"
   },
   {
    "duration": 6,
    "start_time": "2025-04-12T18:25:33.956Z"
   },
   {
    "duration": 3,
    "start_time": "2025-04-12T18:25:33.963Z"
   },
   {
    "duration": 2,
    "start_time": "2025-04-12T18:25:33.968Z"
   },
   {
    "duration": 3,
    "start_time": "2025-04-12T18:25:33.972Z"
   },
   {
    "duration": 3,
    "start_time": "2025-04-12T18:25:33.977Z"
   },
   {
    "duration": 4,
    "start_time": "2025-04-12T18:25:33.981Z"
   },
   {
    "duration": 3,
    "start_time": "2025-04-12T18:25:33.986Z"
   },
   {
    "duration": 3,
    "start_time": "2025-04-12T18:25:33.990Z"
   },
   {
    "duration": 2,
    "start_time": "2025-04-12T18:25:34.032Z"
   },
   {
    "duration": 3,
    "start_time": "2025-04-12T18:25:34.036Z"
   },
   {
    "duration": 7,
    "start_time": "2025-04-12T18:25:57.644Z"
   },
   {
    "duration": 159,
    "start_time": "2025-04-12T18:26:27.131Z"
   },
   {
    "duration": 2,
    "start_time": "2025-04-12T18:26:39.800Z"
   },
   {
    "duration": 155,
    "start_time": "2025-04-12T18:26:39.805Z"
   },
   {
    "duration": 10,
    "start_time": "2025-04-12T18:26:39.962Z"
   },
   {
    "duration": 5,
    "start_time": "2025-04-12T18:26:39.973Z"
   },
   {
    "duration": 5,
    "start_time": "2025-04-12T18:26:39.980Z"
   },
   {
    "duration": 11,
    "start_time": "2025-04-12T18:26:39.987Z"
   },
   {
    "duration": 4,
    "start_time": "2025-04-12T18:26:40.000Z"
   },
   {
    "duration": 6,
    "start_time": "2025-04-12T18:26:40.030Z"
   },
   {
    "duration": 4,
    "start_time": "2025-04-12T18:26:40.038Z"
   },
   {
    "duration": 44,
    "start_time": "2025-04-12T18:26:40.044Z"
   },
   {
    "duration": 5,
    "start_time": "2025-04-12T18:26:40.090Z"
   },
   {
    "duration": 44,
    "start_time": "2025-04-12T18:26:40.098Z"
   },
   {
    "duration": 27,
    "start_time": "2025-04-12T18:26:40.146Z"
   },
   {
    "duration": 3,
    "start_time": "2025-04-12T18:26:40.178Z"
   },
   {
    "duration": 21,
    "start_time": "2025-04-12T18:26:40.183Z"
   },
   {
    "duration": 62,
    "start_time": "2025-04-12T18:26:40.206Z"
   },
   {
    "duration": 5,
    "start_time": "2025-04-12T18:26:40.270Z"
   },
   {
    "duration": 17,
    "start_time": "2025-04-12T18:26:40.277Z"
   },
   {
    "duration": 5,
    "start_time": "2025-04-12T18:26:40.296Z"
   },
   {
    "duration": 47,
    "start_time": "2025-04-12T18:26:40.302Z"
   },
   {
    "duration": 15,
    "start_time": "2025-04-12T18:26:40.351Z"
   },
   {
    "duration": 18,
    "start_time": "2025-04-12T18:26:40.368Z"
   },
   {
    "duration": 45,
    "start_time": "2025-04-12T18:26:40.388Z"
   },
   {
    "duration": 20,
    "start_time": "2025-04-12T18:26:40.435Z"
   },
   {
    "duration": 6,
    "start_time": "2025-04-12T18:26:40.457Z"
   },
   {
    "duration": 6,
    "start_time": "2025-04-12T18:26:40.465Z"
   },
   {
    "duration": 2,
    "start_time": "2025-04-12T18:26:40.473Z"
   },
   {
    "duration": 3,
    "start_time": "2025-04-12T18:26:40.477Z"
   },
   {
    "duration": 3,
    "start_time": "2025-04-12T18:26:40.482Z"
   },
   {
    "duration": 2,
    "start_time": "2025-04-12T18:26:40.487Z"
   },
   {
    "duration": 3,
    "start_time": "2025-04-12T18:26:40.492Z"
   },
   {
    "duration": 3,
    "start_time": "2025-04-12T18:26:40.532Z"
   },
   {
    "duration": 4,
    "start_time": "2025-04-12T18:26:40.536Z"
   },
   {
    "duration": 4,
    "start_time": "2025-04-12T18:26:40.541Z"
   },
   {
    "duration": 3,
    "start_time": "2025-04-12T18:26:40.546Z"
   },
   {
    "duration": 6,
    "start_time": "2025-04-12T18:26:48.551Z"
   },
   {
    "duration": 5,
    "start_time": "2025-04-12T18:26:57.706Z"
   },
   {
    "duration": 22,
    "start_time": "2025-04-12T18:29:04.469Z"
   },
   {
    "duration": 19,
    "start_time": "2025-04-12T18:31:28.085Z"
   },
   {
    "duration": 18,
    "start_time": "2025-04-12T18:31:56.933Z"
   },
   {
    "duration": 11,
    "start_time": "2025-04-12T18:32:27.145Z"
   },
   {
    "duration": 19,
    "start_time": "2025-04-12T18:37:54.562Z"
   },
   {
    "duration": 6,
    "start_time": "2025-04-12T18:38:17.302Z"
   },
   {
    "duration": 9,
    "start_time": "2025-04-12T18:38:31.837Z"
   },
   {
    "duration": 7,
    "start_time": "2025-04-12T18:38:37.939Z"
   },
   {
    "duration": 137,
    "start_time": "2025-04-12T18:44:30.267Z"
   },
   {
    "duration": 18,
    "start_time": "2025-04-12T18:44:44.922Z"
   },
   {
    "duration": 3,
    "start_time": "2025-04-12T18:44:59.181Z"
   },
   {
    "duration": 159,
    "start_time": "2025-04-12T18:44:59.186Z"
   },
   {
    "duration": 11,
    "start_time": "2025-04-12T18:44:59.347Z"
   },
   {
    "duration": 6,
    "start_time": "2025-04-12T18:44:59.359Z"
   },
   {
    "duration": 6,
    "start_time": "2025-04-12T18:44:59.367Z"
   },
   {
    "duration": 10,
    "start_time": "2025-04-12T18:44:59.376Z"
   },
   {
    "duration": 5,
    "start_time": "2025-04-12T18:44:59.388Z"
   },
   {
    "duration": 6,
    "start_time": "2025-04-12T18:44:59.394Z"
   },
   {
    "duration": 32,
    "start_time": "2025-04-12T18:44:59.402Z"
   },
   {
    "duration": 48,
    "start_time": "2025-04-12T18:44:59.436Z"
   },
   {
    "duration": 5,
    "start_time": "2025-04-12T18:44:59.486Z"
   },
   {
    "duration": 40,
    "start_time": "2025-04-12T18:44:59.493Z"
   },
   {
    "duration": 28,
    "start_time": "2025-04-12T18:44:59.535Z"
   },
   {
    "duration": 4,
    "start_time": "2025-04-12T18:44:59.567Z"
   },
   {
    "duration": 10,
    "start_time": "2025-04-12T18:44:59.573Z"
   },
   {
    "duration": 76,
    "start_time": "2025-04-12T18:44:59.585Z"
   },
   {
    "duration": 4,
    "start_time": "2025-04-12T18:44:59.663Z"
   },
   {
    "duration": 15,
    "start_time": "2025-04-12T18:44:59.669Z"
   },
   {
    "duration": 4,
    "start_time": "2025-04-12T18:44:59.686Z"
   },
   {
    "duration": 49,
    "start_time": "2025-04-12T18:44:59.693Z"
   },
   {
    "duration": 14,
    "start_time": "2025-04-12T18:44:59.743Z"
   },
   {
    "duration": 18,
    "start_time": "2025-04-12T18:44:59.759Z"
   },
   {
    "duration": 18,
    "start_time": "2025-04-12T18:44:59.779Z"
   },
   {
    "duration": 45,
    "start_time": "2025-04-12T18:44:59.799Z"
   },
   {
    "duration": 6,
    "start_time": "2025-04-12T18:44:59.846Z"
   },
   {
    "duration": 11,
    "start_time": "2025-04-12T18:44:59.854Z"
   },
   {
    "duration": 5,
    "start_time": "2025-04-12T18:44:59.867Z"
   },
   {
    "duration": 11,
    "start_time": "2025-04-12T18:44:59.874Z"
   },
   {
    "duration": 2,
    "start_time": "2025-04-12T18:44:59.887Z"
   },
   {
    "duration": 40,
    "start_time": "2025-04-12T18:44:59.891Z"
   },
   {
    "duration": 2,
    "start_time": "2025-04-12T18:44:59.933Z"
   },
   {
    "duration": 3,
    "start_time": "2025-04-12T18:44:59.937Z"
   },
   {
    "duration": 3,
    "start_time": "2025-04-12T18:44:59.942Z"
   },
   {
    "duration": 3,
    "start_time": "2025-04-12T18:44:59.946Z"
   },
   {
    "duration": 2,
    "start_time": "2025-04-12T18:44:59.952Z"
   },
   {
    "duration": 3,
    "start_time": "2025-04-12T18:44:59.955Z"
   },
   {
    "duration": 19,
    "start_time": "2025-04-12T18:45:26.990Z"
   },
   {
    "duration": 58,
    "start_time": "2025-04-12T18:45:33.751Z"
   },
   {
    "duration": 20,
    "start_time": "2025-04-12T18:46:09.815Z"
   },
   {
    "duration": 2,
    "start_time": "2025-04-12T18:46:33.716Z"
   },
   {
    "duration": 155,
    "start_time": "2025-04-12T18:46:33.721Z"
   },
   {
    "duration": 10,
    "start_time": "2025-04-12T18:46:33.878Z"
   },
   {
    "duration": 5,
    "start_time": "2025-04-12T18:46:33.890Z"
   },
   {
    "duration": 6,
    "start_time": "2025-04-12T18:46:33.897Z"
   },
   {
    "duration": 29,
    "start_time": "2025-04-12T18:46:33.904Z"
   },
   {
    "duration": 5,
    "start_time": "2025-04-12T18:46:33.935Z"
   },
   {
    "duration": 7,
    "start_time": "2025-04-12T18:46:33.941Z"
   },
   {
    "duration": 5,
    "start_time": "2025-04-12T18:46:33.949Z"
   },
   {
    "duration": 47,
    "start_time": "2025-04-12T18:46:33.955Z"
   },
   {
    "duration": 31,
    "start_time": "2025-04-12T18:46:34.004Z"
   },
   {
    "duration": 20,
    "start_time": "2025-04-12T18:46:34.037Z"
   },
   {
    "duration": 28,
    "start_time": "2025-04-12T18:46:34.059Z"
   },
   {
    "duration": 5,
    "start_time": "2025-04-12T18:46:34.091Z"
   },
   {
    "duration": 39,
    "start_time": "2025-04-12T18:46:34.098Z"
   },
   {
    "duration": 47,
    "start_time": "2025-04-12T18:46:34.139Z"
   },
   {
    "duration": 4,
    "start_time": "2025-04-12T18:46:34.189Z"
   },
   {
    "duration": 41,
    "start_time": "2025-04-12T18:46:34.195Z"
   },
   {
    "duration": 4,
    "start_time": "2025-04-12T18:46:34.238Z"
   },
   {
    "duration": 24,
    "start_time": "2025-04-12T18:46:34.244Z"
   },
   {
    "duration": 14,
    "start_time": "2025-04-12T18:46:34.270Z"
   },
   {
    "duration": 19,
    "start_time": "2025-04-12T18:46:34.286Z"
   },
   {
    "duration": 19,
    "start_time": "2025-04-12T18:46:34.332Z"
   },
   {
    "duration": 21,
    "start_time": "2025-04-12T18:46:34.353Z"
   },
   {
    "duration": 6,
    "start_time": "2025-04-12T18:46:34.376Z"
   },
   {
    "duration": 13,
    "start_time": "2025-04-12T18:46:34.383Z"
   },
   {
    "duration": 37,
    "start_time": "2025-04-12T18:46:34.397Z"
   },
   {
    "duration": 42,
    "start_time": "2025-04-12T18:46:34.436Z"
   },
   {
    "duration": 0,
    "start_time": "2025-04-12T18:46:34.479Z"
   },
   {
    "duration": 0,
    "start_time": "2025-04-12T18:46:34.480Z"
   },
   {
    "duration": 0,
    "start_time": "2025-04-12T18:46:34.481Z"
   },
   {
    "duration": 0,
    "start_time": "2025-04-12T18:46:34.482Z"
   },
   {
    "duration": 0,
    "start_time": "2025-04-12T18:46:34.483Z"
   },
   {
    "duration": 0,
    "start_time": "2025-04-12T18:46:34.484Z"
   },
   {
    "duration": 0,
    "start_time": "2025-04-12T18:46:34.485Z"
   },
   {
    "duration": 0,
    "start_time": "2025-04-12T18:46:34.487Z"
   },
   {
    "duration": 3,
    "start_time": "2025-04-12T18:46:50.597Z"
   },
   {
    "duration": 152,
    "start_time": "2025-04-12T18:46:50.602Z"
   },
   {
    "duration": 12,
    "start_time": "2025-04-12T18:46:50.756Z"
   },
   {
    "duration": 5,
    "start_time": "2025-04-12T18:46:50.769Z"
   },
   {
    "duration": 6,
    "start_time": "2025-04-12T18:46:50.776Z"
   },
   {
    "duration": 10,
    "start_time": "2025-04-12T18:46:50.784Z"
   },
   {
    "duration": 5,
    "start_time": "2025-04-12T18:46:50.796Z"
   },
   {
    "duration": 33,
    "start_time": "2025-04-12T18:46:50.802Z"
   },
   {
    "duration": 4,
    "start_time": "2025-04-12T18:46:50.837Z"
   },
   {
    "duration": 46,
    "start_time": "2025-04-12T18:46:50.843Z"
   },
   {
    "duration": 5,
    "start_time": "2025-04-12T18:46:50.891Z"
   },
   {
    "duration": 44,
    "start_time": "2025-04-12T18:46:50.898Z"
   },
   {
    "duration": 30,
    "start_time": "2025-04-12T18:46:50.944Z"
   },
   {
    "duration": 6,
    "start_time": "2025-04-12T18:46:50.979Z"
   },
   {
    "duration": 15,
    "start_time": "2025-04-12T18:46:50.988Z"
   },
   {
    "duration": 68,
    "start_time": "2025-04-12T18:46:51.005Z"
   },
   {
    "duration": 4,
    "start_time": "2025-04-12T18:46:51.075Z"
   },
   {
    "duration": 17,
    "start_time": "2025-04-12T18:46:51.081Z"
   },
   {
    "duration": 5,
    "start_time": "2025-04-12T18:46:51.100Z"
   },
   {
    "duration": 25,
    "start_time": "2025-04-12T18:46:51.131Z"
   },
   {
    "duration": 14,
    "start_time": "2025-04-12T18:46:51.159Z"
   },
   {
    "duration": 18,
    "start_time": "2025-04-12T18:46:51.176Z"
   },
   {
    "duration": 47,
    "start_time": "2025-04-12T18:46:51.196Z"
   },
   {
    "duration": 20,
    "start_time": "2025-04-12T18:46:51.246Z"
   },
   {
    "duration": 6,
    "start_time": "2025-04-12T18:46:51.268Z"
   },
   {
    "duration": 10,
    "start_time": "2025-04-12T18:46:51.276Z"
   },
   {
    "duration": 6,
    "start_time": "2025-04-12T18:46:51.287Z"
   },
   {
    "duration": 37,
    "start_time": "2025-04-12T18:46:51.295Z"
   },
   {
    "duration": 2,
    "start_time": "2025-04-12T18:46:51.334Z"
   },
   {
    "duration": 3,
    "start_time": "2025-04-12T18:46:51.338Z"
   },
   {
    "duration": 3,
    "start_time": "2025-04-12T18:46:51.342Z"
   },
   {
    "duration": 3,
    "start_time": "2025-04-12T18:46:51.347Z"
   },
   {
    "duration": 2,
    "start_time": "2025-04-12T18:46:51.352Z"
   },
   {
    "duration": 3,
    "start_time": "2025-04-12T18:46:51.356Z"
   },
   {
    "duration": 4,
    "start_time": "2025-04-12T18:46:51.360Z"
   },
   {
    "duration": 3,
    "start_time": "2025-04-12T18:46:51.365Z"
   },
   {
    "duration": 11,
    "start_time": "2025-04-12T18:48:16.682Z"
   },
   {
    "duration": 16,
    "start_time": "2025-04-12T18:55:15.723Z"
   },
   {
    "duration": 16,
    "start_time": "2025-04-12T18:58:54.375Z"
   },
   {
    "duration": 5,
    "start_time": "2025-04-12T18:59:55.920Z"
   },
   {
    "duration": 2,
    "start_time": "2025-04-12T19:00:03.834Z"
   },
   {
    "duration": 160,
    "start_time": "2025-04-12T19:00:03.838Z"
   },
   {
    "duration": 11,
    "start_time": "2025-04-12T19:00:03.999Z"
   },
   {
    "duration": 5,
    "start_time": "2025-04-12T19:00:04.012Z"
   },
   {
    "duration": 13,
    "start_time": "2025-04-12T19:00:04.019Z"
   },
   {
    "duration": 11,
    "start_time": "2025-04-12T19:00:04.034Z"
   },
   {
    "duration": 4,
    "start_time": "2025-04-12T19:00:04.047Z"
   },
   {
    "duration": 5,
    "start_time": "2025-04-12T19:00:04.054Z"
   },
   {
    "duration": 4,
    "start_time": "2025-04-12T19:00:04.061Z"
   },
   {
    "duration": 78,
    "start_time": "2025-04-12T19:00:04.067Z"
   },
   {
    "duration": 5,
    "start_time": "2025-04-12T19:00:04.147Z"
   },
   {
    "duration": 19,
    "start_time": "2025-04-12T19:00:04.154Z"
   },
   {
    "duration": 29,
    "start_time": "2025-04-12T19:00:04.177Z"
   },
   {
    "duration": 27,
    "start_time": "2025-04-12T19:00:04.207Z"
   },
   {
    "duration": 11,
    "start_time": "2025-04-12T19:00:04.235Z"
   },
   {
    "duration": 47,
    "start_time": "2025-04-12T19:00:04.248Z"
   },
   {
    "duration": 4,
    "start_time": "2025-04-12T19:00:04.297Z"
   },
   {
    "duration": 43,
    "start_time": "2025-04-12T19:00:04.302Z"
   },
   {
    "duration": 5,
    "start_time": "2025-04-12T19:00:04.347Z"
   },
   {
    "duration": 23,
    "start_time": "2025-04-12T19:00:04.354Z"
   },
   {
    "duration": 15,
    "start_time": "2025-04-12T19:00:04.379Z"
   },
   {
    "duration": 47,
    "start_time": "2025-04-12T19:00:04.397Z"
   },
   {
    "duration": 18,
    "start_time": "2025-04-12T19:00:04.446Z"
   },
   {
    "duration": 20,
    "start_time": "2025-04-12T19:00:04.466Z"
   },
   {
    "duration": 7,
    "start_time": "2025-04-12T19:00:04.488Z"
   },
   {
    "duration": 43,
    "start_time": "2025-04-12T19:00:04.497Z"
   },
   {
    "duration": 5,
    "start_time": "2025-04-12T19:00:04.542Z"
   },
   {
    "duration": 18,
    "start_time": "2025-04-12T19:00:04.549Z"
   },
   {
    "duration": 4,
    "start_time": "2025-04-12T19:00:04.569Z"
   },
   {
    "duration": 4,
    "start_time": "2025-04-12T19:00:04.574Z"
   },
   {
    "duration": 3,
    "start_time": "2025-04-12T19:00:04.579Z"
   },
   {
    "duration": 3,
    "start_time": "2025-04-12T19:00:04.584Z"
   },
   {
    "duration": 4,
    "start_time": "2025-04-12T19:00:04.588Z"
   },
   {
    "duration": 4,
    "start_time": "2025-04-12T19:00:04.593Z"
   },
   {
    "duration": 2,
    "start_time": "2025-04-12T19:00:04.631Z"
   },
   {
    "duration": 3,
    "start_time": "2025-04-12T19:00:04.635Z"
   },
   {
    "duration": 17,
    "start_time": "2025-04-12T19:00:14.458Z"
   },
   {
    "duration": 654,
    "start_time": "2025-04-13T02:33:13.052Z"
   },
   {
    "duration": 222,
    "start_time": "2025-04-13T02:33:13.709Z"
   },
   {
    "duration": 17,
    "start_time": "2025-04-13T02:33:13.933Z"
   },
   {
    "duration": 6,
    "start_time": "2025-04-13T02:33:13.953Z"
   },
   {
    "duration": 7,
    "start_time": "2025-04-13T02:33:13.961Z"
   },
   {
    "duration": 14,
    "start_time": "2025-04-13T02:33:13.971Z"
   },
   {
    "duration": 5,
    "start_time": "2025-04-13T02:33:13.987Z"
   },
   {
    "duration": 34,
    "start_time": "2025-04-13T02:33:13.995Z"
   },
   {
    "duration": 4,
    "start_time": "2025-04-13T02:33:14.031Z"
   },
   {
    "duration": 52,
    "start_time": "2025-04-13T02:33:14.038Z"
   },
   {
    "duration": 6,
    "start_time": "2025-04-13T02:33:14.092Z"
   },
   {
    "duration": 21,
    "start_time": "2025-04-13T02:33:14.124Z"
   },
   {
    "duration": 31,
    "start_time": "2025-04-13T02:33:14.146Z"
   },
   {
    "duration": 4,
    "start_time": "2025-04-13T02:33:14.179Z"
   },
   {
    "duration": 11,
    "start_time": "2025-04-13T02:33:14.185Z"
   },
   {
    "duration": 47,
    "start_time": "2025-04-13T02:33:14.225Z"
   },
   {
    "duration": 5,
    "start_time": "2025-04-13T02:33:14.273Z"
   },
   {
    "duration": 15,
    "start_time": "2025-04-13T02:33:14.281Z"
   },
   {
    "duration": 4,
    "start_time": "2025-04-13T02:33:14.298Z"
   },
   {
    "duration": 27,
    "start_time": "2025-04-13T02:33:14.324Z"
   },
   {
    "duration": 17,
    "start_time": "2025-04-13T02:33:14.353Z"
   },
   {
    "duration": 20,
    "start_time": "2025-04-13T02:33:14.371Z"
   },
   {
    "duration": 39,
    "start_time": "2025-04-13T02:33:14.393Z"
   },
   {
    "duration": 20,
    "start_time": "2025-04-13T02:33:14.433Z"
   },
   {
    "duration": 6,
    "start_time": "2025-04-13T02:33:14.455Z"
   },
   {
    "duration": 10,
    "start_time": "2025-04-13T02:33:14.462Z"
   },
   {
    "duration": 5,
    "start_time": "2025-04-13T02:33:14.474Z"
   },
   {
    "duration": 51,
    "start_time": "2025-04-13T02:33:14.482Z"
   },
   {
    "duration": 2,
    "start_time": "2025-04-13T02:33:14.535Z"
   },
   {
    "duration": 3,
    "start_time": "2025-04-13T02:33:14.539Z"
   },
   {
    "duration": 3,
    "start_time": "2025-04-13T02:33:14.544Z"
   },
   {
    "duration": 3,
    "start_time": "2025-04-13T02:33:14.548Z"
   },
   {
    "duration": 3,
    "start_time": "2025-04-13T02:33:14.553Z"
   },
   {
    "duration": 3,
    "start_time": "2025-04-13T02:33:14.558Z"
   },
   {
    "duration": 3,
    "start_time": "2025-04-13T02:33:14.562Z"
   },
   {
    "duration": 2,
    "start_time": "2025-04-13T02:33:14.567Z"
   },
   {
    "duration": 393,
    "start_time": "2025-04-13T02:34:50.676Z"
   },
   {
    "duration": 40,
    "start_time": "2025-04-13T02:37:12.125Z"
   },
   {
    "duration": 714,
    "start_time": "2025-04-14T14:19:35.536Z"
   },
   {
    "duration": 315,
    "start_time": "2025-04-14T14:19:36.253Z"
   },
   {
    "duration": 12,
    "start_time": "2025-04-14T14:19:36.570Z"
   },
   {
    "duration": 6,
    "start_time": "2025-04-14T14:19:36.583Z"
   },
   {
    "duration": 6,
    "start_time": "2025-04-14T14:19:36.593Z"
   },
   {
    "duration": 11,
    "start_time": "2025-04-14T14:19:36.601Z"
   },
   {
    "duration": 18,
    "start_time": "2025-04-14T14:19:36.614Z"
   },
   {
    "duration": 6,
    "start_time": "2025-04-14T14:19:36.633Z"
   },
   {
    "duration": 4,
    "start_time": "2025-04-14T14:19:36.641Z"
   },
   {
    "duration": 53,
    "start_time": "2025-04-14T14:19:36.646Z"
   },
   {
    "duration": 5,
    "start_time": "2025-04-14T14:19:36.701Z"
   },
   {
    "duration": 46,
    "start_time": "2025-04-14T14:19:36.707Z"
   },
   {
    "duration": 28,
    "start_time": "2025-04-14T14:19:36.755Z"
   },
   {
    "duration": 4,
    "start_time": "2025-04-14T14:19:36.787Z"
   },
   {
    "duration": 41,
    "start_time": "2025-04-14T14:19:36.793Z"
   },
   {
    "duration": 49,
    "start_time": "2025-04-14T14:19:36.837Z"
   },
   {
    "duration": 5,
    "start_time": "2025-04-14T14:19:36.888Z"
   },
   {
    "duration": 37,
    "start_time": "2025-04-14T14:19:36.894Z"
   },
   {
    "duration": 5,
    "start_time": "2025-04-14T14:19:36.933Z"
   },
   {
    "duration": 29,
    "start_time": "2025-04-14T14:19:36.939Z"
   },
   {
    "duration": 17,
    "start_time": "2025-04-14T14:19:36.970Z"
   },
   {
    "duration": 44,
    "start_time": "2025-04-14T14:19:36.989Z"
   },
   {
    "duration": 20,
    "start_time": "2025-04-14T14:19:37.035Z"
   },
   {
    "duration": 20,
    "start_time": "2025-04-14T14:19:37.057Z"
   },
   {
    "duration": 7,
    "start_time": "2025-04-14T14:19:37.078Z"
   },
   {
    "duration": 13,
    "start_time": "2025-04-14T14:19:37.086Z"
   },
   {
    "duration": 7,
    "start_time": "2025-04-14T14:19:37.130Z"
   },
   {
    "duration": 18,
    "start_time": "2025-04-14T14:19:37.138Z"
   },
   {
    "duration": 636,
    "start_time": "2025-04-14T14:19:37.160Z"
   },
   {
    "duration": 0,
    "start_time": "2025-04-14T14:19:37.798Z"
   },
   {
    "duration": 0,
    "start_time": "2025-04-14T14:19:37.799Z"
   },
   {
    "duration": 0,
    "start_time": "2025-04-14T14:19:37.801Z"
   },
   {
    "duration": 0,
    "start_time": "2025-04-14T14:19:37.803Z"
   },
   {
    "duration": 0,
    "start_time": "2025-04-14T14:19:37.804Z"
   },
   {
    "duration": 0,
    "start_time": "2025-04-14T14:19:37.805Z"
   },
   {
    "duration": 0,
    "start_time": "2025-04-14T14:19:37.807Z"
   },
   {
    "duration": 9,
    "start_time": "2025-04-14T14:23:06.740Z"
   },
   {
    "duration": 9,
    "start_time": "2025-04-14T14:23:54.736Z"
   },
   {
    "duration": 9,
    "start_time": "2025-04-14T14:24:37.510Z"
   },
   {
    "duration": 6,
    "start_time": "2025-04-14T14:24:46.194Z"
   },
   {
    "duration": 18,
    "start_time": "2025-04-14T14:24:55.802Z"
   },
   {
    "duration": 8,
    "start_time": "2025-04-14T14:24:59.232Z"
   },
   {
    "duration": 7,
    "start_time": "2025-04-14T14:25:05.639Z"
   },
   {
    "duration": 6,
    "start_time": "2025-04-14T14:27:23.467Z"
   },
   {
    "duration": 1976,
    "start_time": "2025-04-14T14:27:43.623Z"
   },
   {
    "duration": 169,
    "start_time": "2025-04-14T14:33:45.522Z"
   },
   {
    "duration": 132,
    "start_time": "2025-04-14T14:34:14.009Z"
   },
   {
    "duration": 112,
    "start_time": "2025-04-14T14:34:45.569Z"
   },
   {
    "duration": 124,
    "start_time": "2025-04-14T14:34:50.765Z"
   },
   {
    "duration": 113,
    "start_time": "2025-04-14T14:34:58.386Z"
   },
   {
    "duration": 135,
    "start_time": "2025-04-14T14:35:02.879Z"
   },
   {
    "duration": 124,
    "start_time": "2025-04-14T14:35:10.736Z"
   },
   {
    "duration": 28,
    "start_time": "2025-04-14T14:35:51.182Z"
   },
   {
    "duration": 198,
    "start_time": "2025-04-14T14:36:44.916Z"
   },
   {
    "duration": 467,
    "start_time": "2025-04-14T14:40:29.639Z"
   },
   {
    "duration": 64,
    "start_time": "2025-04-14T14:40:42.110Z"
   },
   {
    "duration": 64,
    "start_time": "2025-04-14T14:40:54.919Z"
   },
   {
    "duration": 79,
    "start_time": "2025-04-14T14:51:28.209Z"
   },
   {
    "duration": 2,
    "start_time": "2025-04-14T14:51:38.655Z"
   },
   {
    "duration": 165,
    "start_time": "2025-04-14T14:51:38.660Z"
   },
   {
    "duration": 12,
    "start_time": "2025-04-14T14:51:38.826Z"
   },
   {
    "duration": 5,
    "start_time": "2025-04-14T14:51:38.839Z"
   },
   {
    "duration": 5,
    "start_time": "2025-04-14T14:51:38.847Z"
   },
   {
    "duration": 11,
    "start_time": "2025-04-14T14:51:38.853Z"
   },
   {
    "duration": 5,
    "start_time": "2025-04-14T14:51:38.866Z"
   },
   {
    "duration": 6,
    "start_time": "2025-04-14T14:51:38.873Z"
   },
   {
    "duration": 4,
    "start_time": "2025-04-14T14:51:38.881Z"
   },
   {
    "duration": 91,
    "start_time": "2025-04-14T14:51:38.886Z"
   },
   {
    "duration": 4,
    "start_time": "2025-04-14T14:51:38.981Z"
   },
   {
    "duration": 20,
    "start_time": "2025-04-14T14:51:38.987Z"
   },
   {
    "duration": 45,
    "start_time": "2025-04-14T14:51:39.008Z"
   },
   {
    "duration": 4,
    "start_time": "2025-04-14T14:51:39.057Z"
   },
   {
    "duration": 12,
    "start_time": "2025-04-14T14:51:39.063Z"
   },
   {
    "duration": 71,
    "start_time": "2025-04-14T14:51:39.076Z"
   },
   {
    "duration": 4,
    "start_time": "2025-04-14T14:51:39.149Z"
   },
   {
    "duration": 18,
    "start_time": "2025-04-14T14:51:39.155Z"
   },
   {
    "duration": 5,
    "start_time": "2025-04-14T14:51:39.174Z"
   },
   {
    "duration": 49,
    "start_time": "2025-04-14T14:51:39.181Z"
   },
   {
    "duration": 14,
    "start_time": "2025-04-14T14:51:39.232Z"
   },
   {
    "duration": 17,
    "start_time": "2025-04-14T14:51:39.248Z"
   },
   {
    "duration": 20,
    "start_time": "2025-04-14T14:51:39.267Z"
   },
   {
    "duration": 45,
    "start_time": "2025-04-14T14:51:39.288Z"
   },
   {
    "duration": 7,
    "start_time": "2025-04-14T14:51:39.334Z"
   },
   {
    "duration": 12,
    "start_time": "2025-04-14T14:51:39.342Z"
   },
   {
    "duration": 6,
    "start_time": "2025-04-14T14:51:39.355Z"
   },
   {
    "duration": 20,
    "start_time": "2025-04-14T14:51:39.362Z"
   },
   {
    "duration": 86,
    "start_time": "2025-04-14T14:51:39.383Z"
   },
   {
    "duration": 0,
    "start_time": "2025-04-14T14:51:39.472Z"
   },
   {
    "duration": 0,
    "start_time": "2025-04-14T14:51:39.473Z"
   },
   {
    "duration": 0,
    "start_time": "2025-04-14T14:51:39.475Z"
   },
   {
    "duration": 0,
    "start_time": "2025-04-14T14:51:39.476Z"
   },
   {
    "duration": 0,
    "start_time": "2025-04-14T14:51:39.478Z"
   },
   {
    "duration": 0,
    "start_time": "2025-04-14T14:51:39.479Z"
   },
   {
    "duration": 0,
    "start_time": "2025-04-14T14:51:39.480Z"
   },
   {
    "duration": 62,
    "start_time": "2025-04-14T14:53:19.289Z"
   },
   {
    "duration": 167,
    "start_time": "2025-04-14T14:53:58.304Z"
   },
   {
    "duration": 138,
    "start_time": "2025-04-14T14:54:24.588Z"
   },
   {
    "duration": 197,
    "start_time": "2025-04-14T14:54:53.483Z"
   },
   {
    "duration": 144,
    "start_time": "2025-04-14T14:55:17.523Z"
   },
   {
    "duration": 166,
    "start_time": "2025-04-14T14:55:44.557Z"
   },
   {
    "duration": 169,
    "start_time": "2025-04-14T14:56:08.249Z"
   },
   {
    "duration": 165,
    "start_time": "2025-04-14T15:02:19.144Z"
   },
   {
    "duration": 179,
    "start_time": "2025-04-14T15:03:49.106Z"
   },
   {
    "duration": 170,
    "start_time": "2025-04-14T15:03:54.149Z"
   },
   {
    "duration": 168,
    "start_time": "2025-04-14T15:04:43.221Z"
   },
   {
    "duration": 155,
    "start_time": "2025-04-14T15:04:55.364Z"
   },
   {
    "duration": 6,
    "start_time": "2025-04-14T15:05:04.438Z"
   },
   {
    "duration": 168,
    "start_time": "2025-04-14T15:05:09.973Z"
   },
   {
    "duration": 167,
    "start_time": "2025-04-14T15:05:14.928Z"
   },
   {
    "duration": 162,
    "start_time": "2025-04-14T15:05:19.308Z"
   },
   {
    "duration": 164,
    "start_time": "2025-04-14T15:05:25.232Z"
   },
   {
    "duration": 170,
    "start_time": "2025-04-14T15:06:04.965Z"
   },
   {
    "duration": 159,
    "start_time": "2025-04-14T15:06:12.653Z"
   },
   {
    "duration": 163,
    "start_time": "2025-04-14T15:06:37.350Z"
   },
   {
    "duration": 164,
    "start_time": "2025-04-14T15:07:15.524Z"
   },
   {
    "duration": 166,
    "start_time": "2025-04-14T15:08:05.059Z"
   },
   {
    "duration": 174,
    "start_time": "2025-04-14T15:11:44.374Z"
   },
   {
    "duration": 173,
    "start_time": "2025-04-14T15:11:53.964Z"
   },
   {
    "duration": 16,
    "start_time": "2025-04-14T15:23:43.738Z"
   },
   {
    "duration": 175,
    "start_time": "2025-04-14T15:23:50.891Z"
   },
   {
    "duration": 171,
    "start_time": "2025-04-14T15:23:54.735Z"
   },
   {
    "duration": 160,
    "start_time": "2025-04-14T15:24:03.825Z"
   },
   {
    "duration": 9,
    "start_time": "2025-04-14T15:27:18.937Z"
   },
   {
    "duration": 7,
    "start_time": "2025-04-14T15:27:36.547Z"
   },
   {
    "duration": 130,
    "start_time": "2025-04-14T15:28:11.718Z"
   },
   {
    "duration": 506,
    "start_time": "2025-04-14T15:37:46.356Z"
   },
   {
    "duration": 171,
    "start_time": "2025-04-14T15:39:05.941Z"
   },
   {
    "duration": 160,
    "start_time": "2025-04-14T15:39:27.389Z"
   },
   {
    "duration": 178,
    "start_time": "2025-04-14T15:41:09.567Z"
   },
   {
    "duration": 166,
    "start_time": "2025-04-14T15:41:18.987Z"
   },
   {
    "duration": 170,
    "start_time": "2025-04-14T15:41:36.151Z"
   },
   {
    "duration": 194,
    "start_time": "2025-04-14T15:47:34.024Z"
   },
   {
    "duration": 189,
    "start_time": "2025-04-14T15:47:48.548Z"
   },
   {
    "duration": 205,
    "start_time": "2025-04-14T15:47:55.758Z"
   },
   {
    "duration": 187,
    "start_time": "2025-04-14T15:48:01.291Z"
   },
   {
    "duration": 173,
    "start_time": "2025-04-14T15:48:44.784Z"
   },
   {
    "duration": 182,
    "start_time": "2025-04-14T15:48:48.904Z"
   },
   {
    "duration": 171,
    "start_time": "2025-04-14T15:49:06.464Z"
   },
   {
    "duration": 191,
    "start_time": "2025-04-14T15:50:27.623Z"
   },
   {
    "duration": 216,
    "start_time": "2025-04-14T15:51:50.155Z"
   },
   {
    "duration": 727,
    "start_time": "2025-04-14T15:52:40.734Z"
   },
   {
    "duration": 156,
    "start_time": "2025-04-14T15:52:41.463Z"
   },
   {
    "duration": 12,
    "start_time": "2025-04-14T15:52:41.621Z"
   },
   {
    "duration": 5,
    "start_time": "2025-04-14T15:52:41.635Z"
   },
   {
    "duration": 5,
    "start_time": "2025-04-14T15:52:41.642Z"
   },
   {
    "duration": 11,
    "start_time": "2025-04-14T15:52:41.649Z"
   },
   {
    "duration": 5,
    "start_time": "2025-04-14T15:52:41.662Z"
   },
   {
    "duration": 7,
    "start_time": "2025-04-14T15:52:41.668Z"
   },
   {
    "duration": 4,
    "start_time": "2025-04-14T15:52:41.677Z"
   },
   {
    "duration": 97,
    "start_time": "2025-04-14T15:52:41.685Z"
   },
   {
    "duration": 5,
    "start_time": "2025-04-14T15:52:41.784Z"
   },
   {
    "duration": 21,
    "start_time": "2025-04-14T15:52:41.791Z"
   },
   {
    "duration": 45,
    "start_time": "2025-04-14T15:52:41.813Z"
   },
   {
    "duration": 4,
    "start_time": "2025-04-14T15:52:41.860Z"
   },
   {
    "duration": 11,
    "start_time": "2025-04-14T15:52:41.865Z"
   },
   {
    "duration": 75,
    "start_time": "2025-04-14T15:52:41.878Z"
   },
   {
    "duration": 9,
    "start_time": "2025-04-14T15:52:41.955Z"
   },
   {
    "duration": 18,
    "start_time": "2025-04-14T15:52:41.965Z"
   },
   {
    "duration": 5,
    "start_time": "2025-04-14T15:52:41.984Z"
   },
   {
    "duration": 43,
    "start_time": "2025-04-14T15:52:41.990Z"
   },
   {
    "duration": 17,
    "start_time": "2025-04-14T15:52:42.035Z"
   },
   {
    "duration": 19,
    "start_time": "2025-04-14T15:52:42.055Z"
   },
   {
    "duration": 19,
    "start_time": "2025-04-14T15:52:42.075Z"
   },
   {
    "duration": 47,
    "start_time": "2025-04-14T15:52:42.095Z"
   },
   {
    "duration": 7,
    "start_time": "2025-04-14T15:52:42.143Z"
   },
   {
    "duration": 11,
    "start_time": "2025-04-14T15:52:42.152Z"
   },
   {
    "duration": 5,
    "start_time": "2025-04-14T15:52:42.164Z"
   },
   {
    "duration": 18,
    "start_time": "2025-04-14T15:52:42.172Z"
   },
   {
    "duration": 223,
    "start_time": "2025-04-14T15:52:42.192Z"
   },
   {
    "duration": 206,
    "start_time": "2025-04-14T15:52:42.417Z"
   },
   {
    "duration": 6,
    "start_time": "2025-04-14T15:52:42.625Z"
   },
   {
    "duration": 3,
    "start_time": "2025-04-14T15:52:42.633Z"
   },
   {
    "duration": 3,
    "start_time": "2025-04-14T15:52:42.638Z"
   },
   {
    "duration": 3,
    "start_time": "2025-04-14T15:52:42.642Z"
   },
   {
    "duration": 3,
    "start_time": "2025-04-14T15:52:42.647Z"
   },
   {
    "duration": 3,
    "start_time": "2025-04-14T15:52:42.651Z"
   },
   {
    "duration": 250,
    "start_time": "2025-04-14T15:53:01.111Z"
   },
   {
    "duration": 198,
    "start_time": "2025-04-14T15:53:19.133Z"
   },
   {
    "duration": 197,
    "start_time": "2025-04-14T15:53:40.873Z"
   },
   {
    "duration": 202,
    "start_time": "2025-04-14T15:54:06.029Z"
   },
   {
    "duration": 197,
    "start_time": "2025-04-14T15:54:24.514Z"
   },
   {
    "duration": 603,
    "start_time": "2025-04-14T15:54:30.659Z"
   },
   {
    "duration": 201,
    "start_time": "2025-04-14T15:54:44.562Z"
   },
   {
    "duration": 194,
    "start_time": "2025-04-14T15:54:54.274Z"
   },
   {
    "duration": 250,
    "start_time": "2025-04-14T15:55:13.605Z"
   },
   {
    "duration": 16,
    "start_time": "2025-04-14T16:03:04.082Z"
   },
   {
    "duration": 20,
    "start_time": "2025-04-14T16:04:17.619Z"
   },
   {
    "duration": 5,
    "start_time": "2025-04-14T16:05:54.569Z"
   },
   {
    "duration": 4,
    "start_time": "2025-04-14T16:06:28.107Z"
   },
   {
    "duration": 4,
    "start_time": "2025-04-14T16:07:09.703Z"
   },
   {
    "duration": 5,
    "start_time": "2025-04-14T16:07:22.332Z"
   },
   {
    "duration": 4,
    "start_time": "2025-04-14T16:07:43.989Z"
   },
   {
    "duration": 4,
    "start_time": "2025-04-14T16:07:50.341Z"
   },
   {
    "duration": 5,
    "start_time": "2025-04-14T16:08:30.275Z"
   },
   {
    "duration": 14,
    "start_time": "2025-04-14T16:09:54.383Z"
   },
   {
    "duration": 166,
    "start_time": "2025-04-15T00:38:33.774Z"
   },
   {
    "duration": 2511,
    "start_time": "2025-04-15T00:38:37.919Z"
   },
   {
    "duration": 399,
    "start_time": "2025-04-15T00:38:40.432Z"
   },
   {
    "duration": 11,
    "start_time": "2025-04-15T00:38:40.833Z"
   },
   {
    "duration": 5,
    "start_time": "2025-04-15T00:38:40.848Z"
   },
   {
    "duration": 6,
    "start_time": "2025-04-15T00:38:40.855Z"
   },
   {
    "duration": 11,
    "start_time": "2025-04-15T00:38:40.863Z"
   },
   {
    "duration": 5,
    "start_time": "2025-04-15T00:38:40.875Z"
   },
   {
    "duration": 6,
    "start_time": "2025-04-15T00:38:40.881Z"
   },
   {
    "duration": 4,
    "start_time": "2025-04-15T00:38:40.888Z"
   },
   {
    "duration": 79,
    "start_time": "2025-04-15T00:38:40.894Z"
   },
   {
    "duration": 4,
    "start_time": "2025-04-15T00:38:40.975Z"
   },
   {
    "duration": 20,
    "start_time": "2025-04-15T00:38:40.981Z"
   },
   {
    "duration": 28,
    "start_time": "2025-04-15T00:38:41.024Z"
   },
   {
    "duration": 4,
    "start_time": "2025-04-15T00:38:41.054Z"
   },
   {
    "duration": 11,
    "start_time": "2025-04-15T00:38:41.060Z"
   },
   {
    "duration": 75,
    "start_time": "2025-04-15T00:38:41.072Z"
   },
   {
    "duration": 5,
    "start_time": "2025-04-15T00:38:41.150Z"
   },
   {
    "duration": 17,
    "start_time": "2025-04-15T00:38:41.156Z"
   },
   {
    "duration": 12,
    "start_time": "2025-04-15T00:38:41.174Z"
   },
   {
    "duration": 48,
    "start_time": "2025-04-15T00:38:41.188Z"
   },
   {
    "duration": 17,
    "start_time": "2025-04-15T00:38:41.238Z"
   },
   {
    "duration": 19,
    "start_time": "2025-04-15T00:38:41.256Z"
   },
   {
    "duration": 19,
    "start_time": "2025-04-15T00:38:41.276Z"
   },
   {
    "duration": 46,
    "start_time": "2025-04-15T00:38:41.297Z"
   },
   {
    "duration": 7,
    "start_time": "2025-04-15T00:38:41.345Z"
   },
   {
    "duration": 11,
    "start_time": "2025-04-15T00:38:41.355Z"
   },
   {
    "duration": 6,
    "start_time": "2025-04-15T00:38:41.368Z"
   },
   {
    "duration": 47,
    "start_time": "2025-04-15T00:38:41.378Z"
   },
   {
    "duration": 182,
    "start_time": "2025-04-15T00:38:41.426Z"
   },
   {
    "duration": 194,
    "start_time": "2025-04-15T00:38:41.609Z"
   },
   {
    "duration": 5,
    "start_time": "2025-04-15T00:38:41.805Z"
   },
   {
    "duration": 115,
    "start_time": "2025-04-15T00:38:41.812Z"
   },
   {
    "duration": 0,
    "start_time": "2025-04-15T00:38:41.929Z"
   },
   {
    "duration": 0,
    "start_time": "2025-04-15T00:38:41.930Z"
   },
   {
    "duration": 0,
    "start_time": "2025-04-15T00:38:41.932Z"
   },
   {
    "duration": 0,
    "start_time": "2025-04-15T00:38:41.933Z"
   },
   {
    "duration": 94,
    "start_time": "2025-04-15T00:38:48.178Z"
   },
   {
    "duration": 745,
    "start_time": "2025-04-15T00:39:37.535Z"
   },
   {
    "duration": 87,
    "start_time": "2025-04-15T00:40:22.195Z"
   },
   {
    "duration": 85,
    "start_time": "2025-04-15T00:41:29.071Z"
   },
   {
    "duration": 385,
    "start_time": "2025-04-15T00:41:51.636Z"
   },
   {
    "duration": 173,
    "start_time": "2025-04-15T00:42:29.698Z"
   },
   {
    "duration": 154,
    "start_time": "2025-04-15T00:48:44.158Z"
   },
   {
    "duration": 161,
    "start_time": "2025-04-15T00:48:51.908Z"
   },
   {
    "duration": 7,
    "start_time": "2025-04-15T00:50:50.768Z"
   },
   {
    "duration": 3,
    "start_time": "2025-04-15T00:51:18.416Z"
   },
   {
    "duration": 827,
    "start_time": "2025-04-15T00:52:02.798Z"
   },
   {
    "duration": 6,
    "start_time": "2025-04-15T00:52:47.197Z"
   },
   {
    "duration": 16,
    "start_time": "2025-04-15T00:52:51.859Z"
   },
   {
    "duration": 144,
    "start_time": "2025-04-15T00:53:12.577Z"
   },
   {
    "duration": 48,
    "start_time": "2025-04-15T00:54:19.661Z"
   },
   {
    "duration": 45,
    "start_time": "2025-04-15T00:54:32.289Z"
   },
   {
    "duration": 58,
    "start_time": "2025-04-15T00:55:23.857Z"
   },
   {
    "duration": 213,
    "start_time": "2025-04-15T00:55:35.203Z"
   },
   {
    "duration": 137,
    "start_time": "2025-04-15T00:56:44.422Z"
   },
   {
    "duration": 156,
    "start_time": "2025-04-15T00:57:13.245Z"
   },
   {
    "duration": 15,
    "start_time": "2025-04-15T00:58:51.451Z"
   },
   {
    "duration": 166,
    "start_time": "2025-04-15T00:59:55.342Z"
   },
   {
    "duration": 41,
    "start_time": "2025-04-15T01:00:36.607Z"
   },
   {
    "duration": 98,
    "start_time": "2025-04-15T01:01:00.084Z"
   },
   {
    "duration": 17,
    "start_time": "2025-04-15T01:01:11.197Z"
   },
   {
    "duration": 4,
    "start_time": "2025-04-15T01:01:44.067Z"
   },
   {
    "duration": 14,
    "start_time": "2025-04-15T01:01:48.839Z"
   },
   {
    "duration": 15,
    "start_time": "2025-04-15T01:02:15.708Z"
   },
   {
    "duration": 126,
    "start_time": "2025-04-15T01:03:49.605Z"
   },
   {
    "duration": 16,
    "start_time": "2025-04-15T01:04:22.722Z"
   },
   {
    "duration": 191,
    "start_time": "2025-04-15T01:04:51.710Z"
   },
   {
    "duration": 95,
    "start_time": "2025-04-15T01:05:01.529Z"
   },
   {
    "duration": 112,
    "start_time": "2025-04-15T01:05:50.396Z"
   },
   {
    "duration": 2536,
    "start_time": "2025-04-15T14:20:56.899Z"
   },
   {
    "duration": 275,
    "start_time": "2025-04-15T14:20:59.438Z"
   },
   {
    "duration": 11,
    "start_time": "2025-04-15T14:20:59.715Z"
   },
   {
    "duration": 6,
    "start_time": "2025-04-15T14:20:59.728Z"
   },
   {
    "duration": 6,
    "start_time": "2025-04-15T14:20:59.736Z"
   },
   {
    "duration": 12,
    "start_time": "2025-04-15T14:20:59.743Z"
   },
   {
    "duration": 5,
    "start_time": "2025-04-15T14:20:59.757Z"
   },
   {
    "duration": 7,
    "start_time": "2025-04-15T14:20:59.763Z"
   },
   {
    "duration": 34,
    "start_time": "2025-04-15T14:20:59.772Z"
   },
   {
    "duration": 55,
    "start_time": "2025-04-15T14:20:59.809Z"
   },
   {
    "duration": 4,
    "start_time": "2025-04-15T14:20:59.867Z"
   },
   {
    "duration": 47,
    "start_time": "2025-04-15T14:20:59.873Z"
   },
   {
    "duration": 29,
    "start_time": "2025-04-15T14:20:59.922Z"
   },
   {
    "duration": 5,
    "start_time": "2025-04-15T14:20:59.955Z"
   },
   {
    "duration": 13,
    "start_time": "2025-04-15T14:20:59.962Z"
   },
   {
    "duration": 50,
    "start_time": "2025-04-15T14:21:00.006Z"
   },
   {
    "duration": 5,
    "start_time": "2025-04-15T14:21:00.058Z"
   },
   {
    "duration": 16,
    "start_time": "2025-04-15T14:21:00.065Z"
   },
   {
    "duration": 5,
    "start_time": "2025-04-15T14:21:00.104Z"
   },
   {
    "duration": 27,
    "start_time": "2025-04-15T14:21:00.111Z"
   },
   {
    "duration": 19,
    "start_time": "2025-04-15T14:21:00.141Z"
   },
   {
    "duration": 43,
    "start_time": "2025-04-15T14:21:00.162Z"
   },
   {
    "duration": 20,
    "start_time": "2025-04-15T14:21:00.207Z"
   },
   {
    "duration": 20,
    "start_time": "2025-04-15T14:21:00.229Z"
   },
   {
    "duration": 7,
    "start_time": "2025-04-15T14:21:00.251Z"
   },
   {
    "duration": 11,
    "start_time": "2025-04-15T14:21:00.259Z"
   },
   {
    "duration": 37,
    "start_time": "2025-04-15T14:21:00.272Z"
   },
   {
    "duration": 20,
    "start_time": "2025-04-15T14:21:00.311Z"
   },
   {
    "duration": 191,
    "start_time": "2025-04-15T14:21:00.332Z"
   },
   {
    "duration": 205,
    "start_time": "2025-04-15T14:21:00.525Z"
   },
   {
    "duration": 4,
    "start_time": "2025-04-15T14:21:00.733Z"
   },
   {
    "duration": 113,
    "start_time": "2025-04-15T14:21:00.739Z"
   },
   {
    "duration": 3,
    "start_time": "2025-04-15T14:21:00.854Z"
   },
   {
    "duration": 3,
    "start_time": "2025-04-15T14:21:00.859Z"
   },
   {
    "duration": 2,
    "start_time": "2025-04-15T14:21:00.864Z"
   },
   {
    "duration": 3,
    "start_time": "2025-04-15T14:21:00.868Z"
   },
   {
    "duration": 382,
    "start_time": "2025-04-15T14:25:54.941Z"
   },
   {
    "duration": 99,
    "start_time": "2025-04-15T14:25:59.540Z"
   },
   {
    "duration": 17,
    "start_time": "2025-04-15T15:40:40.901Z"
   },
   {
    "duration": 6,
    "start_time": "2025-04-15T15:40:50.890Z"
   },
   {
    "duration": 6,
    "start_time": "2025-04-15T15:41:26.599Z"
   },
   {
    "duration": 5,
    "start_time": "2025-04-15T15:41:39.898Z"
   },
   {
    "duration": 6,
    "start_time": "2025-04-15T15:42:27.116Z"
   },
   {
    "duration": 6,
    "start_time": "2025-04-15T15:42:38.545Z"
   },
   {
    "duration": 6,
    "start_time": "2025-04-15T15:42:53.869Z"
   },
   {
    "duration": 8,
    "start_time": "2025-04-15T15:43:17.090Z"
   },
   {
    "duration": 2499,
    "start_time": "2025-04-15T22:47:00.687Z"
   },
   {
    "duration": 831,
    "start_time": "2025-04-15T22:47:03.188Z"
   },
   {
    "duration": 13,
    "start_time": "2025-04-15T22:47:04.022Z"
   },
   {
    "duration": 12,
    "start_time": "2025-04-15T22:47:04.037Z"
   },
   {
    "duration": 6,
    "start_time": "2025-04-15T22:47:04.053Z"
   },
   {
    "duration": 13,
    "start_time": "2025-04-15T22:47:04.064Z"
   },
   {
    "duration": 5,
    "start_time": "2025-04-15T22:47:04.079Z"
   },
   {
    "duration": 6,
    "start_time": "2025-04-15T22:47:04.086Z"
   },
   {
    "duration": 23,
    "start_time": "2025-04-15T22:47:04.094Z"
   },
   {
    "duration": 61,
    "start_time": "2025-04-15T22:47:04.119Z"
   },
   {
    "duration": 4,
    "start_time": "2025-04-15T22:47:04.183Z"
   },
   {
    "duration": 39,
    "start_time": "2025-04-15T22:47:04.189Z"
   },
   {
    "duration": 29,
    "start_time": "2025-04-15T22:47:04.229Z"
   },
   {
    "duration": 4,
    "start_time": "2025-04-15T22:47:04.262Z"
   },
   {
    "duration": 11,
    "start_time": "2025-04-15T22:47:04.268Z"
   },
   {
    "duration": 75,
    "start_time": "2025-04-15T22:47:04.280Z"
   },
   {
    "duration": 4,
    "start_time": "2025-04-15T22:47:04.357Z"
   },
   {
    "duration": 15,
    "start_time": "2025-04-15T22:47:04.363Z"
   },
   {
    "duration": 5,
    "start_time": "2025-04-15T22:47:04.380Z"
   },
   {
    "duration": 54,
    "start_time": "2025-04-15T22:47:04.386Z"
   },
   {
    "duration": 18,
    "start_time": "2025-04-15T22:47:04.442Z"
   },
   {
    "duration": 18,
    "start_time": "2025-04-15T22:47:04.462Z"
   },
   {
    "duration": 46,
    "start_time": "2025-04-15T22:47:04.482Z"
   },
   {
    "duration": 22,
    "start_time": "2025-04-15T22:47:04.529Z"
   },
   {
    "duration": 6,
    "start_time": "2025-04-15T22:47:04.552Z"
   },
   {
    "duration": 12,
    "start_time": "2025-04-15T22:47:04.559Z"
   },
   {
    "duration": 5,
    "start_time": "2025-04-15T22:47:04.573Z"
   },
   {
    "duration": 52,
    "start_time": "2025-04-15T22:47:04.580Z"
   },
   {
    "duration": 191,
    "start_time": "2025-04-15T22:47:04.634Z"
   },
   {
    "duration": 246,
    "start_time": "2025-04-15T22:47:04.827Z"
   },
   {
    "duration": 5,
    "start_time": "2025-04-15T22:47:05.075Z"
   },
   {
    "duration": 122,
    "start_time": "2025-04-15T22:47:05.082Z"
   },
   {
    "duration": 16,
    "start_time": "2025-04-15T22:47:05.206Z"
   },
   {
    "duration": 2,
    "start_time": "2025-04-15T22:47:05.224Z"
   },
   {
    "duration": 2,
    "start_time": "2025-04-15T22:47:05.229Z"
   },
   {
    "duration": 4,
    "start_time": "2025-04-15T22:47:05.233Z"
   },
   {
    "duration": 6,
    "start_time": "2025-04-15T22:47:05.239Z"
   },
   {
    "duration": 14,
    "start_time": "2025-04-15T22:50:49.090Z"
   },
   {
    "duration": 11,
    "start_time": "2025-04-15T22:50:56.834Z"
   },
   {
    "duration": 8,
    "start_time": "2025-04-15T22:59:43.438Z"
   },
   {
    "duration": 4,
    "start_time": "2025-04-15T23:00:02.375Z"
   },
   {
    "duration": 6,
    "start_time": "2025-04-15T23:00:17.004Z"
   },
   {
    "duration": 5,
    "start_time": "2025-04-15T23:00:26.939Z"
   },
   {
    "duration": 13816,
    "start_time": "2025-04-15T23:02:46.225Z"
   },
   {
    "duration": 103,
    "start_time": "2025-04-15T23:03:18.982Z"
   },
   {
    "duration": 95,
    "start_time": "2025-04-15T23:03:53.697Z"
   },
   {
    "duration": 95,
    "start_time": "2025-04-15T23:04:31.057Z"
   },
   {
    "duration": 96,
    "start_time": "2025-04-15T23:04:48.034Z"
   },
   {
    "duration": 101,
    "start_time": "2025-04-15T23:05:00.258Z"
   },
   {
    "duration": 2444,
    "start_time": "2025-04-16T00:36:52.092Z"
   },
   {
    "duration": 205,
    "start_time": "2025-04-16T00:36:54.539Z"
   },
   {
    "duration": 13,
    "start_time": "2025-04-16T00:36:54.746Z"
   },
   {
    "duration": 7,
    "start_time": "2025-04-16T00:36:54.761Z"
   },
   {
    "duration": 5,
    "start_time": "2025-04-16T00:36:54.771Z"
   },
   {
    "duration": 10,
    "start_time": "2025-04-16T00:36:54.778Z"
   },
   {
    "duration": 25,
    "start_time": "2025-04-16T00:36:54.790Z"
   },
   {
    "duration": 6,
    "start_time": "2025-04-16T00:36:54.817Z"
   },
   {
    "duration": 3,
    "start_time": "2025-04-16T00:36:54.825Z"
   },
   {
    "duration": 51,
    "start_time": "2025-04-16T00:36:54.830Z"
   },
   {
    "duration": 30,
    "start_time": "2025-04-16T00:36:54.882Z"
   },
   {
    "duration": 20,
    "start_time": "2025-04-16T00:36:54.914Z"
   },
   {
    "duration": 31,
    "start_time": "2025-04-16T00:36:54.935Z"
   },
   {
    "duration": 4,
    "start_time": "2025-04-16T00:36:54.970Z"
   },
   {
    "duration": 36,
    "start_time": "2025-04-16T00:36:54.976Z"
   },
   {
    "duration": 55,
    "start_time": "2025-04-16T00:36:55.014Z"
   },
   {
    "duration": 4,
    "start_time": "2025-04-16T00:36:55.072Z"
   },
   {
    "duration": 36,
    "start_time": "2025-04-16T00:36:55.078Z"
   },
   {
    "duration": 4,
    "start_time": "2025-04-16T00:36:55.116Z"
   },
   {
    "duration": 29,
    "start_time": "2025-04-16T00:36:55.121Z"
   },
   {
    "duration": 17,
    "start_time": "2025-04-16T00:36:55.151Z"
   },
   {
    "duration": 44,
    "start_time": "2025-04-16T00:36:55.170Z"
   },
   {
    "duration": 20,
    "start_time": "2025-04-16T00:36:55.216Z"
   },
   {
    "duration": 20,
    "start_time": "2025-04-16T00:36:55.237Z"
   },
   {
    "duration": 6,
    "start_time": "2025-04-16T00:36:55.259Z"
   },
   {
    "duration": 11,
    "start_time": "2025-04-16T00:36:55.267Z"
   },
   {
    "duration": 33,
    "start_time": "2025-04-16T00:36:55.280Z"
   },
   {
    "duration": 19,
    "start_time": "2025-04-16T00:36:55.315Z"
   },
   {
    "duration": 185,
    "start_time": "2025-04-16T00:36:55.337Z"
   },
   {
    "duration": 196,
    "start_time": "2025-04-16T00:36:55.524Z"
   },
   {
    "duration": 5,
    "start_time": "2025-04-16T00:36:55.722Z"
   },
   {
    "duration": 111,
    "start_time": "2025-04-16T00:36:55.729Z"
   },
   {
    "duration": 11,
    "start_time": "2025-04-16T00:36:55.842Z"
   },
   {
    "duration": 111,
    "start_time": "2025-04-16T00:36:55.854Z"
   },
   {
    "duration": 3,
    "start_time": "2025-04-16T00:36:55.966Z"
   },
   {
    "duration": 3,
    "start_time": "2025-04-16T00:36:55.970Z"
   },
   {
    "duration": 3,
    "start_time": "2025-04-16T00:36:55.975Z"
   },
   {
    "duration": 114,
    "start_time": "2025-04-16T00:37:23.245Z"
   },
   {
    "duration": 112,
    "start_time": "2025-04-16T00:39:21.633Z"
   },
   {
    "duration": 107,
    "start_time": "2025-04-16T00:39:48.865Z"
   },
   {
    "duration": 116,
    "start_time": "2025-04-16T00:40:09.875Z"
   },
   {
    "duration": 116,
    "start_time": "2025-04-16T00:40:56.298Z"
   },
   {
    "duration": 110,
    "start_time": "2025-04-16T00:41:00.366Z"
   },
   {
    "duration": 132,
    "start_time": "2025-04-16T00:41:46.417Z"
   },
   {
    "duration": 138,
    "start_time": "2025-04-16T00:41:56.921Z"
   },
   {
    "duration": 159,
    "start_time": "2025-04-16T00:43:07.498Z"
   },
   {
    "duration": 100,
    "start_time": "2025-04-16T00:43:54.307Z"
   },
   {
    "duration": 101,
    "start_time": "2025-04-16T00:44:20.975Z"
   },
   {
    "duration": 96,
    "start_time": "2025-04-16T00:44:40.323Z"
   },
   {
    "duration": 8,
    "start_time": "2025-04-16T00:44:56.506Z"
   },
   {
    "duration": 96,
    "start_time": "2025-04-16T00:44:59.861Z"
   },
   {
    "duration": 2502,
    "start_time": "2025-04-16T20:19:31.475Z"
   },
   {
    "duration": 208,
    "start_time": "2025-04-16T20:19:33.979Z"
   },
   {
    "duration": 14,
    "start_time": "2025-04-16T20:19:34.188Z"
   },
   {
    "duration": 6,
    "start_time": "2025-04-16T20:19:34.204Z"
   },
   {
    "duration": 5,
    "start_time": "2025-04-16T20:19:34.211Z"
   },
   {
    "duration": 22,
    "start_time": "2025-04-16T20:19:34.218Z"
   },
   {
    "duration": 5,
    "start_time": "2025-04-16T20:19:34.241Z"
   },
   {
    "duration": 6,
    "start_time": "2025-04-16T20:19:34.248Z"
   },
   {
    "duration": 4,
    "start_time": "2025-04-16T20:19:34.256Z"
   },
   {
    "duration": 78,
    "start_time": "2025-04-16T20:19:34.263Z"
   },
   {
    "duration": 5,
    "start_time": "2025-04-16T20:19:34.343Z"
   },
   {
    "duration": 21,
    "start_time": "2025-04-16T20:19:34.350Z"
   },
   {
    "duration": 28,
    "start_time": "2025-04-16T20:19:34.373Z"
   },
   {
    "duration": 28,
    "start_time": "2025-04-16T20:19:34.403Z"
   },
   {
    "duration": 11,
    "start_time": "2025-04-16T20:19:34.433Z"
   },
   {
    "duration": 51,
    "start_time": "2025-04-16T20:19:34.446Z"
   },
   {
    "duration": 32,
    "start_time": "2025-04-16T20:19:34.500Z"
   },
   {
    "duration": 21,
    "start_time": "2025-04-16T20:19:34.533Z"
   },
   {
    "duration": 5,
    "start_time": "2025-04-16T20:19:34.556Z"
   },
   {
    "duration": 28,
    "start_time": "2025-04-16T20:19:34.562Z"
   },
   {
    "duration": 45,
    "start_time": "2025-04-16T20:19:34.591Z"
   },
   {
    "duration": 21,
    "start_time": "2025-04-16T20:19:34.638Z"
   },
   {
    "duration": 19,
    "start_time": "2025-04-16T20:19:34.662Z"
   },
   {
    "duration": 23,
    "start_time": "2025-04-16T20:19:34.682Z"
   },
   {
    "duration": 29,
    "start_time": "2025-04-16T20:19:34.707Z"
   },
   {
    "duration": 11,
    "start_time": "2025-04-16T20:19:34.737Z"
   },
   {
    "duration": 6,
    "start_time": "2025-04-16T20:19:34.749Z"
   },
   {
    "duration": 18,
    "start_time": "2025-04-16T20:19:34.760Z"
   },
   {
    "duration": 209,
    "start_time": "2025-04-16T20:19:34.779Z"
   },
   {
    "duration": 200,
    "start_time": "2025-04-16T20:19:34.989Z"
   },
   {
    "duration": 5,
    "start_time": "2025-04-16T20:19:35.191Z"
   },
   {
    "duration": 115,
    "start_time": "2025-04-16T20:19:35.198Z"
   },
   {
    "duration": 22,
    "start_time": "2025-04-16T20:19:35.314Z"
   },
   {
    "duration": 7,
    "start_time": "2025-04-16T20:19:35.338Z"
   },
   {
    "duration": 104,
    "start_time": "2025-04-16T20:19:35.346Z"
   },
   {
    "duration": 171,
    "start_time": "2025-04-16T20:19:35.451Z"
   },
   {
    "duration": 10,
    "start_time": "2025-04-16T20:19:35.624Z"
   },
   {
    "duration": 2,
    "start_time": "2025-04-16T20:19:35.636Z"
   },
   {
    "duration": 3,
    "start_time": "2025-04-16T20:19:35.640Z"
   },
   {
    "duration": 143,
    "start_time": "2025-04-16T20:21:02.046Z"
   },
   {
    "duration": 164,
    "start_time": "2025-04-16T20:21:08.493Z"
   },
   {
    "duration": 15,
    "start_time": "2025-04-16T20:24:01.999Z"
   },
   {
    "duration": 11,
    "start_time": "2025-04-16T20:24:16.863Z"
   },
   {
    "duration": 9,
    "start_time": "2025-04-16T20:25:21.116Z"
   },
   {
    "duration": 2515,
    "start_time": "2025-04-16T21:41:27.543Z"
   },
   {
    "duration": 228,
    "start_time": "2025-04-16T21:41:30.060Z"
   },
   {
    "duration": 11,
    "start_time": "2025-04-16T21:41:30.290Z"
   },
   {
    "duration": 7,
    "start_time": "2025-04-16T21:41:30.303Z"
   },
   {
    "duration": 6,
    "start_time": "2025-04-16T21:41:30.312Z"
   },
   {
    "duration": 11,
    "start_time": "2025-04-16T21:41:30.319Z"
   },
   {
    "duration": 5,
    "start_time": "2025-04-16T21:41:30.331Z"
   },
   {
    "duration": 6,
    "start_time": "2025-04-16T21:41:30.338Z"
   },
   {
    "duration": 4,
    "start_time": "2025-04-16T21:41:30.346Z"
   },
   {
    "duration": 86,
    "start_time": "2025-04-16T21:41:30.352Z"
   },
   {
    "duration": 4,
    "start_time": "2025-04-16T21:41:30.440Z"
   },
   {
    "duration": 21,
    "start_time": "2025-04-16T21:41:30.446Z"
   },
   {
    "duration": 45,
    "start_time": "2025-04-16T21:41:30.470Z"
   },
   {
    "duration": 4,
    "start_time": "2025-04-16T21:41:30.519Z"
   },
   {
    "duration": 12,
    "start_time": "2025-04-16T21:41:30.524Z"
   },
   {
    "duration": 46,
    "start_time": "2025-04-16T21:41:30.538Z"
   },
   {
    "duration": 6,
    "start_time": "2025-04-16T21:41:30.609Z"
   },
   {
    "duration": 16,
    "start_time": "2025-04-16T21:41:30.617Z"
   },
   {
    "duration": 5,
    "start_time": "2025-04-16T21:41:30.634Z"
   },
   {
    "duration": 27,
    "start_time": "2025-04-16T21:41:30.641Z"
   },
   {
    "duration": 46,
    "start_time": "2025-04-16T21:41:30.670Z"
   },
   {
    "duration": 19,
    "start_time": "2025-04-16T21:41:30.717Z"
   },
   {
    "duration": 18,
    "start_time": "2025-04-16T21:41:30.738Z"
   },
   {
    "duration": 20,
    "start_time": "2025-04-16T21:41:30.758Z"
   },
   {
    "duration": 34,
    "start_time": "2025-04-16T21:41:30.780Z"
   },
   {
    "duration": 10,
    "start_time": "2025-04-16T21:41:30.816Z"
   },
   {
    "duration": 5,
    "start_time": "2025-04-16T21:41:30.827Z"
   },
   {
    "duration": 18,
    "start_time": "2025-04-16T21:41:30.834Z"
   },
   {
    "duration": 196,
    "start_time": "2025-04-16T21:41:30.853Z"
   },
   {
    "duration": 191,
    "start_time": "2025-04-16T21:41:31.051Z"
   },
   {
    "duration": 4,
    "start_time": "2025-04-16T21:41:31.244Z"
   },
   {
    "duration": 115,
    "start_time": "2025-04-16T21:41:31.250Z"
   },
   {
    "duration": 9,
    "start_time": "2025-04-16T21:41:31.367Z"
   },
   {
    "duration": 174,
    "start_time": "2025-04-16T21:41:31.378Z"
   },
   {
    "duration": 101,
    "start_time": "2025-04-16T21:41:31.554Z"
   },
   {
    "duration": 7,
    "start_time": "2025-04-16T21:41:31.656Z"
   },
   {
    "duration": 2,
    "start_time": "2025-04-16T21:41:31.665Z"
   },
   {
    "duration": 2,
    "start_time": "2025-04-16T21:41:31.669Z"
   },
   {
    "duration": 3,
    "start_time": "2025-04-16T21:41:31.672Z"
   },
   {
    "duration": 8,
    "start_time": "2025-04-16T21:43:24.191Z"
   },
   {
    "duration": 121,
    "start_time": "2025-04-16T21:44:52.373Z"
   },
   {
    "duration": 130,
    "start_time": "2025-04-16T21:45:42.118Z"
   },
   {
    "duration": 334,
    "start_time": "2025-04-16T21:46:23.126Z"
   },
   {
    "duration": 156,
    "start_time": "2025-04-16T21:46:27.915Z"
   },
   {
    "duration": 156,
    "start_time": "2025-04-16T21:46:45.916Z"
   },
   {
    "duration": 151,
    "start_time": "2025-04-16T21:47:14.093Z"
   },
   {
    "duration": 180,
    "start_time": "2025-04-16T21:47:36.145Z"
   },
   {
    "duration": 100,
    "start_time": "2025-04-16T21:47:50.370Z"
   },
   {
    "duration": 8,
    "start_time": "2025-04-16T22:03:21.130Z"
   },
   {
    "duration": 13,
    "start_time": "2025-04-16T22:03:46.404Z"
   },
   {
    "duration": 15,
    "start_time": "2025-04-16T22:04:06.337Z"
   },
   {
    "duration": 21,
    "start_time": "2025-04-16T22:04:19.700Z"
   },
   {
    "duration": 11,
    "start_time": "2025-04-16T22:10:26.462Z"
   },
   {
    "duration": 16,
    "start_time": "2025-04-16T22:11:09.294Z"
   },
   {
    "duration": 15,
    "start_time": "2025-04-16T22:11:18.560Z"
   },
   {
    "duration": 16,
    "start_time": "2025-04-16T22:11:31.181Z"
   },
   {
    "duration": 15,
    "start_time": "2025-04-16T22:11:40.612Z"
   },
   {
    "duration": 15,
    "start_time": "2025-04-16T22:11:46.183Z"
   },
   {
    "duration": 23,
    "start_time": "2025-04-16T22:12:11.024Z"
   },
   {
    "duration": 18,
    "start_time": "2025-04-16T22:12:15.807Z"
   },
   {
    "duration": 37,
    "start_time": "2025-04-16T22:15:40.193Z"
   },
   {
    "duration": 63,
    "start_time": "2025-04-16T22:16:24.966Z"
   },
   {
    "duration": 10,
    "start_time": "2025-04-16T22:16:48.168Z"
   },
   {
    "duration": 10,
    "start_time": "2025-04-16T22:17:27.246Z"
   },
   {
    "duration": 21,
    "start_time": "2025-04-16T22:25:40.543Z"
   },
   {
    "duration": 18,
    "start_time": "2025-04-16T22:39:29.139Z"
   },
   {
    "duration": 23,
    "start_time": "2025-04-16T22:39:44.539Z"
   },
   {
    "duration": 13,
    "start_time": "2025-04-16T22:40:16.247Z"
   },
   {
    "duration": 124,
    "start_time": "2025-04-16T22:42:34.427Z"
   },
   {
    "duration": 164,
    "start_time": "2025-04-16T22:44:03.216Z"
   },
   {
    "duration": 159,
    "start_time": "2025-04-16T22:44:56.284Z"
   },
   {
    "duration": 294,
    "start_time": "2025-04-16T22:45:11.129Z"
   },
   {
    "duration": 167,
    "start_time": "2025-04-16T22:45:49.942Z"
   },
   {
    "duration": 177,
    "start_time": "2025-04-16T22:46:19.510Z"
   },
   {
    "duration": 182,
    "start_time": "2025-04-16T22:46:49.040Z"
   },
   {
    "duration": 181,
    "start_time": "2025-04-16T22:47:44.428Z"
   },
   {
    "duration": 193,
    "start_time": "2025-04-16T22:48:05.370Z"
   },
   {
    "duration": 2,
    "start_time": "2025-04-16T22:49:42.874Z"
   },
   {
    "duration": 167,
    "start_time": "2025-04-16T22:49:42.878Z"
   },
   {
    "duration": 11,
    "start_time": "2025-04-16T22:49:43.046Z"
   },
   {
    "duration": 5,
    "start_time": "2025-04-16T22:49:43.058Z"
   },
   {
    "duration": 6,
    "start_time": "2025-04-16T22:49:43.066Z"
   },
   {
    "duration": 11,
    "start_time": "2025-04-16T22:49:43.073Z"
   },
   {
    "duration": 5,
    "start_time": "2025-04-16T22:49:43.109Z"
   },
   {
    "duration": 5,
    "start_time": "2025-04-16T22:49:43.116Z"
   },
   {
    "duration": 4,
    "start_time": "2025-04-16T22:49:43.123Z"
   },
   {
    "duration": 46,
    "start_time": "2025-04-16T22:49:43.129Z"
   },
   {
    "duration": 32,
    "start_time": "2025-04-16T22:49:43.177Z"
   },
   {
    "duration": 20,
    "start_time": "2025-04-16T22:49:43.212Z"
   },
   {
    "duration": 28,
    "start_time": "2025-04-16T22:49:43.233Z"
   },
   {
    "duration": 3,
    "start_time": "2025-04-16T22:49:43.266Z"
   },
   {
    "duration": 40,
    "start_time": "2025-04-16T22:49:43.271Z"
   },
   {
    "duration": 48,
    "start_time": "2025-04-16T22:49:43.312Z"
   },
   {
    "duration": 5,
    "start_time": "2025-04-16T22:49:43.362Z"
   },
   {
    "duration": 16,
    "start_time": "2025-04-16T22:49:43.369Z"
   },
   {
    "duration": 6,
    "start_time": "2025-04-16T22:49:43.409Z"
   },
   {
    "duration": 23,
    "start_time": "2025-04-16T22:49:43.417Z"
   },
   {
    "duration": 14,
    "start_time": "2025-04-16T22:49:43.441Z"
   },
   {
    "duration": 18,
    "start_time": "2025-04-16T22:49:43.456Z"
   },
   {
    "duration": 42,
    "start_time": "2025-04-16T22:49:43.475Z"
   },
   {
    "duration": 21,
    "start_time": "2025-04-16T22:49:43.518Z"
   },
   {
    "duration": 6,
    "start_time": "2025-04-16T22:49:43.541Z"
   },
   {
    "duration": 10,
    "start_time": "2025-04-16T22:49:43.549Z"
   },
   {
    "duration": 4,
    "start_time": "2025-04-16T22:49:43.561Z"
   },
   {
    "duration": 55,
    "start_time": "2025-04-16T22:49:43.566Z"
   },
   {
    "duration": 165,
    "start_time": "2025-04-16T22:49:43.623Z"
   },
   {
    "duration": 224,
    "start_time": "2025-04-16T22:49:43.790Z"
   },
   {
    "duration": 0,
    "start_time": "2025-04-16T22:49:44.016Z"
   },
   {
    "duration": 0,
    "start_time": "2025-04-16T22:49:44.018Z"
   },
   {
    "duration": 0,
    "start_time": "2025-04-16T22:49:44.019Z"
   },
   {
    "duration": 0,
    "start_time": "2025-04-16T22:49:44.020Z"
   },
   {
    "duration": 0,
    "start_time": "2025-04-16T22:49:44.021Z"
   },
   {
    "duration": 0,
    "start_time": "2025-04-16T22:49:44.022Z"
   },
   {
    "duration": 0,
    "start_time": "2025-04-16T22:49:44.023Z"
   },
   {
    "duration": 0,
    "start_time": "2025-04-16T22:49:44.024Z"
   },
   {
    "duration": 0,
    "start_time": "2025-04-16T22:49:44.025Z"
   },
   {
    "duration": 0,
    "start_time": "2025-04-16T22:49:44.027Z"
   },
   {
    "duration": 0,
    "start_time": "2025-04-16T22:49:44.028Z"
   },
   {
    "duration": 0,
    "start_time": "2025-04-16T22:49:44.029Z"
   },
   {
    "duration": 0,
    "start_time": "2025-04-16T22:49:44.030Z"
   },
   {
    "duration": 799,
    "start_time": "2025-04-16T22:50:17.938Z"
   },
   {
    "duration": 157,
    "start_time": "2025-04-16T22:50:18.739Z"
   },
   {
    "duration": 12,
    "start_time": "2025-04-16T22:50:18.897Z"
   },
   {
    "duration": 7,
    "start_time": "2025-04-16T22:50:18.912Z"
   },
   {
    "duration": 8,
    "start_time": "2025-04-16T22:50:18.921Z"
   },
   {
    "duration": 11,
    "start_time": "2025-04-16T22:50:18.930Z"
   },
   {
    "duration": 5,
    "start_time": "2025-04-16T22:50:18.943Z"
   },
   {
    "duration": 6,
    "start_time": "2025-04-16T22:50:18.949Z"
   },
   {
    "duration": 4,
    "start_time": "2025-04-16T22:50:18.958Z"
   },
   {
    "duration": 90,
    "start_time": "2025-04-16T22:50:18.966Z"
   },
   {
    "duration": 4,
    "start_time": "2025-04-16T22:50:19.058Z"
   },
   {
    "duration": 20,
    "start_time": "2025-04-16T22:50:19.064Z"
   },
   {
    "duration": 55,
    "start_time": "2025-04-16T22:50:19.086Z"
   },
   {
    "duration": 4,
    "start_time": "2025-04-16T22:50:19.143Z"
   },
   {
    "duration": 11,
    "start_time": "2025-04-16T22:50:19.149Z"
   },
   {
    "duration": 74,
    "start_time": "2025-04-16T22:50:19.161Z"
   },
   {
    "duration": 5,
    "start_time": "2025-04-16T22:50:19.237Z"
   },
   {
    "duration": 16,
    "start_time": "2025-04-16T22:50:19.244Z"
   },
   {
    "duration": 5,
    "start_time": "2025-04-16T22:50:19.261Z"
   },
   {
    "duration": 51,
    "start_time": "2025-04-16T22:50:19.268Z"
   },
   {
    "duration": 17,
    "start_time": "2025-04-16T22:50:19.322Z"
   },
   {
    "duration": 18,
    "start_time": "2025-04-16T22:50:19.341Z"
   },
   {
    "duration": 19,
    "start_time": "2025-04-16T22:50:19.360Z"
   },
   {
    "duration": 44,
    "start_time": "2025-04-16T22:50:19.381Z"
   },
   {
    "duration": 6,
    "start_time": "2025-04-16T22:50:19.426Z"
   },
   {
    "duration": 10,
    "start_time": "2025-04-16T22:50:19.434Z"
   },
   {
    "duration": 6,
    "start_time": "2025-04-16T22:50:19.446Z"
   },
   {
    "duration": 18,
    "start_time": "2025-04-16T22:50:19.456Z"
   },
   {
    "duration": 205,
    "start_time": "2025-04-16T22:50:19.475Z"
   },
   {
    "duration": 195,
    "start_time": "2025-04-16T22:50:19.682Z"
   },
   {
    "duration": 5,
    "start_time": "2025-04-16T22:50:19.878Z"
   },
   {
    "duration": 109,
    "start_time": "2025-04-16T22:50:19.885Z"
   },
   {
    "duration": 20,
    "start_time": "2025-04-16T22:50:19.996Z"
   },
   {
    "duration": 210,
    "start_time": "2025-04-16T22:50:20.017Z"
   },
   {
    "duration": 98,
    "start_time": "2025-04-16T22:50:20.229Z"
   },
   {
    "duration": 8,
    "start_time": "2025-04-16T22:50:20.329Z"
   },
   {
    "duration": 162,
    "start_time": "2025-04-16T22:50:20.340Z"
   },
   {
    "duration": 110,
    "start_time": "2025-04-16T22:50:20.503Z"
   },
   {
    "duration": 8,
    "start_time": "2025-04-16T22:50:20.614Z"
   },
   {
    "duration": 188,
    "start_time": "2025-04-16T22:50:20.623Z"
   },
   {
    "duration": 10,
    "start_time": "2025-04-16T22:50:20.813Z"
   },
   {
    "duration": 2,
    "start_time": "2025-04-16T22:50:20.825Z"
   },
   {
    "duration": 2,
    "start_time": "2025-04-16T22:50:20.829Z"
   },
   {
    "duration": 177,
    "start_time": "2025-04-16T22:50:50.464Z"
   },
   {
    "duration": 187,
    "start_time": "2025-04-16T22:54:17.103Z"
   },
   {
    "duration": 170,
    "start_time": "2025-04-16T22:54:35.591Z"
   },
   {
    "duration": 9,
    "start_time": "2025-04-16T22:55:24.352Z"
   },
   {
    "duration": 9,
    "start_time": "2025-04-16T22:55:37.417Z"
   },
   {
    "duration": 2605,
    "start_time": "2025-04-19T23:38:37.610Z"
   },
   {
    "duration": 337,
    "start_time": "2025-04-19T23:38:40.217Z"
   },
   {
    "duration": 12,
    "start_time": "2025-04-19T23:38:40.556Z"
   },
   {
    "duration": 8,
    "start_time": "2025-04-19T23:38:40.569Z"
   },
   {
    "duration": 6,
    "start_time": "2025-04-19T23:38:40.579Z"
   },
   {
    "duration": 11,
    "start_time": "2025-04-19T23:38:40.586Z"
   },
   {
    "duration": 7,
    "start_time": "2025-04-19T23:38:40.599Z"
   },
   {
    "duration": 6,
    "start_time": "2025-04-19T23:38:40.608Z"
   },
   {
    "duration": 5,
    "start_time": "2025-04-19T23:38:40.615Z"
   },
   {
    "duration": 80,
    "start_time": "2025-04-19T23:38:40.621Z"
   },
   {
    "duration": 5,
    "start_time": "2025-04-19T23:38:40.704Z"
   },
   {
    "duration": 31,
    "start_time": "2025-04-19T23:38:40.711Z"
   },
   {
    "duration": 47,
    "start_time": "2025-04-19T23:38:40.744Z"
   },
   {
    "duration": 4,
    "start_time": "2025-04-19T23:38:40.795Z"
   },
   {
    "duration": 11,
    "start_time": "2025-04-19T23:38:40.801Z"
   },
   {
    "duration": 79,
    "start_time": "2025-04-19T23:38:40.814Z"
   },
   {
    "duration": 14,
    "start_time": "2025-04-19T23:38:40.895Z"
   },
   {
    "duration": 19,
    "start_time": "2025-04-19T23:38:40.913Z"
   },
   {
    "duration": 6,
    "start_time": "2025-04-19T23:38:40.934Z"
   },
   {
    "duration": 41,
    "start_time": "2025-04-19T23:38:40.942Z"
   },
   {
    "duration": 23,
    "start_time": "2025-04-19T23:38:40.985Z"
   },
   {
    "duration": 28,
    "start_time": "2025-04-19T23:38:41.010Z"
   },
   {
    "duration": 41,
    "start_time": "2025-04-19T23:38:41.041Z"
   },
   {
    "duration": 26,
    "start_time": "2025-04-19T23:38:41.084Z"
   },
   {
    "duration": 6,
    "start_time": "2025-04-19T23:38:41.111Z"
   },
   {
    "duration": 11,
    "start_time": "2025-04-19T23:38:41.119Z"
   },
   {
    "duration": 5,
    "start_time": "2025-04-19T23:38:41.132Z"
   },
   {
    "duration": 43,
    "start_time": "2025-04-19T23:38:41.140Z"
   },
   {
    "duration": 181,
    "start_time": "2025-04-19T23:38:41.185Z"
   },
   {
    "duration": 216,
    "start_time": "2025-04-19T23:38:41.368Z"
   },
   {
    "duration": 5,
    "start_time": "2025-04-19T23:38:41.586Z"
   },
   {
    "duration": 113,
    "start_time": "2025-04-19T23:38:41.593Z"
   },
   {
    "duration": 12,
    "start_time": "2025-04-19T23:38:41.708Z"
   },
   {
    "duration": 175,
    "start_time": "2025-04-19T23:38:41.722Z"
   },
   {
    "duration": 119,
    "start_time": "2025-04-19T23:38:41.899Z"
   },
   {
    "duration": 9,
    "start_time": "2025-04-19T23:38:42.020Z"
   },
   {
    "duration": 183,
    "start_time": "2025-04-19T23:38:42.031Z"
   },
   {
    "duration": 108,
    "start_time": "2025-04-19T23:38:42.216Z"
   },
   {
    "duration": 9,
    "start_time": "2025-04-19T23:38:42.326Z"
   },
   {
    "duration": 186,
    "start_time": "2025-04-19T23:38:42.337Z"
   },
   {
    "duration": 157,
    "start_time": "2025-04-19T23:38:42.527Z"
   },
   {
    "duration": 8,
    "start_time": "2025-04-19T23:38:42.686Z"
   },
   {
    "duration": 11,
    "start_time": "2025-04-19T23:38:42.695Z"
   },
   {
    "duration": 1,
    "start_time": "2025-04-19T23:38:42.709Z"
   },
   {
    "duration": 3,
    "start_time": "2025-04-19T23:38:42.712Z"
   },
   {
    "duration": 865,
    "start_time": "2025-04-19T23:53:53.090Z"
   },
   {
    "duration": 109,
    "start_time": "2025-04-19T23:54:39.131Z"
   },
   {
    "duration": 292,
    "start_time": "2025-04-19T23:55:01.084Z"
   },
   {
    "duration": 6,
    "start_time": "2025-04-19T23:55:13.236Z"
   },
   {
    "duration": 112,
    "start_time": "2025-04-19T23:55:17.453Z"
   },
   {
    "duration": 15,
    "start_time": "2025-04-19T23:57:12.780Z"
   },
   {
    "duration": 14,
    "start_time": "2025-04-19T23:57:41.143Z"
   },
   {
    "duration": 15,
    "start_time": "2025-04-19T23:57:48.959Z"
   },
   {
    "duration": 5,
    "start_time": "2025-04-20T00:02:19.154Z"
   },
   {
    "duration": 26,
    "start_time": "2025-04-20T00:02:32.446Z"
   },
   {
    "duration": 5,
    "start_time": "2025-04-20T00:02:40.178Z"
   },
   {
    "duration": 825,
    "start_time": "2025-04-20T00:05:39.799Z"
   },
   {
    "duration": 209,
    "start_time": "2025-04-20T00:05:40.627Z"
   },
   {
    "duration": 12,
    "start_time": "2025-04-20T00:05:40.838Z"
   },
   {
    "duration": 6,
    "start_time": "2025-04-20T00:05:40.851Z"
   },
   {
    "duration": 14,
    "start_time": "2025-04-20T00:05:40.859Z"
   },
   {
    "duration": 11,
    "start_time": "2025-04-20T00:05:40.875Z"
   },
   {
    "duration": 6,
    "start_time": "2025-04-20T00:05:40.888Z"
   },
   {
    "duration": 8,
    "start_time": "2025-04-20T00:05:40.896Z"
   },
   {
    "duration": 4,
    "start_time": "2025-04-20T00:05:40.906Z"
   },
   {
    "duration": 85,
    "start_time": "2025-04-20T00:05:40.913Z"
   },
   {
    "duration": 6,
    "start_time": "2025-04-20T00:05:41.000Z"
   },
   {
    "duration": 32,
    "start_time": "2025-04-20T00:05:41.008Z"
   },
   {
    "duration": 50,
    "start_time": "2025-04-20T00:05:41.042Z"
   },
   {
    "duration": 6,
    "start_time": "2025-04-20T00:05:41.097Z"
   },
   {
    "duration": 11,
    "start_time": "2025-04-20T00:05:41.105Z"
   },
   {
    "duration": 84,
    "start_time": "2025-04-20T00:05:41.117Z"
   },
   {
    "duration": 7,
    "start_time": "2025-04-20T00:05:41.203Z"
   },
   {
    "duration": 16,
    "start_time": "2025-04-20T00:05:41.212Z"
   },
   {
    "duration": 7,
    "start_time": "2025-04-20T00:05:41.231Z"
   },
   {
    "duration": 50,
    "start_time": "2025-04-20T00:05:41.239Z"
   },
   {
    "duration": 20,
    "start_time": "2025-04-20T00:05:41.291Z"
   },
   {
    "duration": 20,
    "start_time": "2025-04-20T00:05:41.313Z"
   },
   {
    "duration": 50,
    "start_time": "2025-04-20T00:05:41.335Z"
   },
   {
    "duration": 29,
    "start_time": "2025-04-20T00:05:41.387Z"
   },
   {
    "duration": 7,
    "start_time": "2025-04-20T00:05:41.418Z"
   },
   {
    "duration": 18,
    "start_time": "2025-04-20T00:05:41.427Z"
   },
   {
    "duration": 23,
    "start_time": "2025-04-20T00:05:41.447Z"
   },
   {
    "duration": 26,
    "start_time": "2025-04-20T00:05:41.472Z"
   },
   {
    "duration": 226,
    "start_time": "2025-04-20T00:05:41.500Z"
   },
   {
    "duration": 234,
    "start_time": "2025-04-20T00:05:41.728Z"
   },
   {
    "duration": 11,
    "start_time": "2025-04-20T00:05:41.964Z"
   },
   {
    "duration": 188,
    "start_time": "2025-04-20T00:05:41.977Z"
   },
   {
    "duration": 12,
    "start_time": "2025-04-20T00:05:42.169Z"
   },
   {
    "duration": 180,
    "start_time": "2025-04-20T00:05:42.183Z"
   },
   {
    "duration": 102,
    "start_time": "2025-04-20T00:05:42.370Z"
   },
   {
    "duration": 9,
    "start_time": "2025-04-20T00:05:42.474Z"
   },
   {
    "duration": 185,
    "start_time": "2025-04-20T00:05:42.485Z"
   },
   {
    "duration": 118,
    "start_time": "2025-04-20T00:05:42.672Z"
   },
   {
    "duration": 11,
    "start_time": "2025-04-20T00:05:42.792Z"
   },
   {
    "duration": 232,
    "start_time": "2025-04-20T00:05:42.805Z"
   },
   {
    "duration": 129,
    "start_time": "2025-04-20T00:05:43.042Z"
   },
   {
    "duration": 8,
    "start_time": "2025-04-20T00:05:43.174Z"
   },
   {
    "duration": 9,
    "start_time": "2025-04-20T00:05:43.184Z"
   },
   {
    "duration": 14654,
    "start_time": "2025-04-20T00:05:43.195Z"
   },
   {
    "duration": 3,
    "start_time": "2025-04-20T00:05:57.851Z"
   },
   {
    "duration": 15,
    "start_time": "2025-04-20T00:05:57.856Z"
   },
   {
    "duration": 425,
    "start_time": "2025-04-20T00:09:03.349Z"
   },
   {
    "duration": 74,
    "start_time": "2025-04-20T00:17:20.714Z"
   },
   {
    "duration": 690,
    "start_time": "2025-04-20T00:17:34.223Z"
   },
   {
    "duration": 95,
    "start_time": "2025-04-20T00:17:51.321Z"
   },
   {
    "duration": 83,
    "start_time": "2025-04-20T00:18:07.135Z"
   },
   {
    "duration": 84,
    "start_time": "2025-04-20T00:18:59.850Z"
   },
   {
    "duration": 84,
    "start_time": "2025-04-20T00:19:34.984Z"
   },
   {
    "duration": 88,
    "start_time": "2025-04-20T00:19:49.101Z"
   },
   {
    "duration": 106,
    "start_time": "2025-04-20T00:21:01.636Z"
   },
   {
    "duration": 36,
    "start_time": "2025-04-20T00:21:05.837Z"
   },
   {
    "duration": 89,
    "start_time": "2025-04-20T00:21:13.483Z"
   },
   {
    "duration": 87,
    "start_time": "2025-04-20T00:21:21.214Z"
   },
   {
    "duration": 309,
    "start_time": "2025-04-20T00:23:07.802Z"
   },
   {
    "duration": 10,
    "start_time": "2025-04-20T00:24:07.435Z"
   },
   {
    "duration": 497,
    "start_time": "2025-04-20T00:24:40.459Z"
   },
   {
    "duration": 126,
    "start_time": "2025-04-20T00:24:50.056Z"
   },
   {
    "duration": 87,
    "start_time": "2025-04-20T00:25:32.773Z"
   },
   {
    "duration": 93,
    "start_time": "2025-04-20T00:26:18.417Z"
   },
   {
    "duration": 81,
    "start_time": "2025-04-20T00:30:30.329Z"
   },
   {
    "duration": 2574,
    "start_time": "2025-04-21T15:53:57.841Z"
   },
   {
    "duration": 224,
    "start_time": "2025-04-21T15:54:00.417Z"
   },
   {
    "duration": 12,
    "start_time": "2025-04-21T15:54:00.643Z"
   },
   {
    "duration": 5,
    "start_time": "2025-04-21T15:54:00.658Z"
   },
   {
    "duration": 5,
    "start_time": "2025-04-21T15:54:00.666Z"
   },
   {
    "duration": 10,
    "start_time": "2025-04-21T15:54:00.673Z"
   },
   {
    "duration": 5,
    "start_time": "2025-04-21T15:54:00.686Z"
   },
   {
    "duration": 7,
    "start_time": "2025-04-21T15:54:00.692Z"
   },
   {
    "duration": 35,
    "start_time": "2025-04-21T15:54:00.700Z"
   },
   {
    "duration": 57,
    "start_time": "2025-04-21T15:54:00.737Z"
   },
   {
    "duration": 5,
    "start_time": "2025-04-21T15:54:00.796Z"
   },
   {
    "duration": 39,
    "start_time": "2025-04-21T15:54:00.803Z"
   },
   {
    "duration": 29,
    "start_time": "2025-04-21T15:54:00.844Z"
   },
   {
    "duration": 5,
    "start_time": "2025-04-21T15:54:00.876Z"
   },
   {
    "duration": 12,
    "start_time": "2025-04-21T15:54:00.883Z"
   },
   {
    "duration": 76,
    "start_time": "2025-04-21T15:54:00.897Z"
   },
   {
    "duration": 4,
    "start_time": "2025-04-21T15:54:00.975Z"
   },
   {
    "duration": 15,
    "start_time": "2025-04-21T15:54:00.981Z"
   },
   {
    "duration": 5,
    "start_time": "2025-04-21T15:54:00.998Z"
   },
   {
    "duration": 51,
    "start_time": "2025-04-21T15:54:01.005Z"
   },
   {
    "duration": 17,
    "start_time": "2025-04-21T15:54:01.058Z"
   },
   {
    "duration": 19,
    "start_time": "2025-04-21T15:54:01.076Z"
   },
   {
    "duration": 43,
    "start_time": "2025-04-21T15:54:01.097Z"
   },
   {
    "duration": 20,
    "start_time": "2025-04-21T15:54:01.143Z"
   },
   {
    "duration": 5,
    "start_time": "2025-04-21T15:54:01.165Z"
   },
   {
    "duration": 12,
    "start_time": "2025-04-21T15:54:01.171Z"
   },
   {
    "duration": 5,
    "start_time": "2025-04-21T15:54:01.185Z"
   },
   {
    "duration": 47,
    "start_time": "2025-04-21T15:54:01.193Z"
   },
   {
    "duration": 184,
    "start_time": "2025-04-21T15:54:01.241Z"
   },
   {
    "duration": 198,
    "start_time": "2025-04-21T15:54:01.427Z"
   },
   {
    "duration": 7,
    "start_time": "2025-04-21T15:54:01.626Z"
   },
   {
    "duration": 111,
    "start_time": "2025-04-21T15:54:01.635Z"
   },
   {
    "duration": 12,
    "start_time": "2025-04-21T15:54:01.747Z"
   },
   {
    "duration": 175,
    "start_time": "2025-04-21T15:54:01.761Z"
   },
   {
    "duration": 109,
    "start_time": "2025-04-21T15:54:01.939Z"
   },
   {
    "duration": 9,
    "start_time": "2025-04-21T15:54:02.049Z"
   },
   {
    "duration": 167,
    "start_time": "2025-04-21T15:54:02.059Z"
   },
   {
    "duration": 162,
    "start_time": "2025-04-21T15:54:02.228Z"
   },
   {
    "duration": 8,
    "start_time": "2025-04-21T15:54:02.391Z"
   },
   {
    "duration": 204,
    "start_time": "2025-04-21T15:54:02.400Z"
   },
   {
    "duration": 103,
    "start_time": "2025-04-21T15:54:02.608Z"
   },
   {
    "duration": 8,
    "start_time": "2025-04-21T15:54:02.712Z"
   },
   {
    "duration": 10,
    "start_time": "2025-04-21T15:54:02.730Z"
   },
   {
    "duration": 99,
    "start_time": "2025-04-21T15:54:02.741Z"
   },
   {
    "duration": 93,
    "start_time": "2025-04-21T15:54:02.842Z"
   },
   {
    "duration": 3,
    "start_time": "2025-04-21T15:54:02.936Z"
   },
   {
    "duration": 3,
    "start_time": "2025-04-21T15:54:02.940Z"
   },
   {
    "duration": 2803,
    "start_time": "2025-04-21T17:26:20.942Z"
   },
   {
    "duration": 283,
    "start_time": "2025-04-21T17:26:23.748Z"
   },
   {
    "duration": 12,
    "start_time": "2025-04-21T17:26:24.033Z"
   },
   {
    "duration": 7,
    "start_time": "2025-04-21T17:26:24.048Z"
   },
   {
    "duration": 7,
    "start_time": "2025-04-21T17:26:24.056Z"
   },
   {
    "duration": 12,
    "start_time": "2025-04-21T17:26:24.065Z"
   },
   {
    "duration": 7,
    "start_time": "2025-04-21T17:26:24.079Z"
   },
   {
    "duration": 33,
    "start_time": "2025-04-21T17:26:24.087Z"
   },
   {
    "duration": 6,
    "start_time": "2025-04-21T17:26:24.121Z"
   },
   {
    "duration": 88,
    "start_time": "2025-04-21T17:26:24.130Z"
   },
   {
    "duration": 6,
    "start_time": "2025-04-21T17:26:24.219Z"
   },
   {
    "duration": 30,
    "start_time": "2025-04-21T17:26:24.227Z"
   },
   {
    "duration": 58,
    "start_time": "2025-04-21T17:26:24.258Z"
   },
   {
    "duration": 5,
    "start_time": "2025-04-21T17:26:24.319Z"
   },
   {
    "duration": 14,
    "start_time": "2025-04-21T17:26:24.326Z"
   },
   {
    "duration": 90,
    "start_time": "2025-04-21T17:26:24.342Z"
   },
   {
    "duration": 5,
    "start_time": "2025-04-21T17:26:24.434Z"
   },
   {
    "duration": 21,
    "start_time": "2025-04-21T17:26:24.441Z"
   },
   {
    "duration": 5,
    "start_time": "2025-04-21T17:26:24.465Z"
   },
   {
    "duration": 55,
    "start_time": "2025-04-21T17:26:24.472Z"
   },
   {
    "duration": 22,
    "start_time": "2025-04-21T17:26:24.529Z"
   },
   {
    "duration": 24,
    "start_time": "2025-04-21T17:26:24.554Z"
   },
   {
    "duration": 47,
    "start_time": "2025-04-21T17:26:24.580Z"
   },
   {
    "duration": 26,
    "start_time": "2025-04-21T17:26:24.629Z"
   },
   {
    "duration": 9,
    "start_time": "2025-04-21T17:26:24.657Z"
   },
   {
    "duration": 14,
    "start_time": "2025-04-21T17:26:24.667Z"
   },
   {
    "duration": 34,
    "start_time": "2025-04-21T17:26:24.683Z"
   },
   {
    "duration": 23,
    "start_time": "2025-04-21T17:26:24.723Z"
   },
   {
    "duration": 193,
    "start_time": "2025-04-21T17:26:24.748Z"
   },
   {
    "duration": 224,
    "start_time": "2025-04-21T17:26:24.943Z"
   },
   {
    "duration": 5,
    "start_time": "2025-04-21T17:26:25.169Z"
   },
   {
    "duration": 115,
    "start_time": "2025-04-21T17:26:25.176Z"
   },
   {
    "duration": 19,
    "start_time": "2025-04-21T17:26:25.293Z"
   },
   {
    "duration": 185,
    "start_time": "2025-04-21T17:26:25.314Z"
   },
   {
    "duration": 113,
    "start_time": "2025-04-21T17:26:25.501Z"
   },
   {
    "duration": 11,
    "start_time": "2025-04-21T17:26:25.616Z"
   },
   {
    "duration": 183,
    "start_time": "2025-04-21T17:26:25.630Z"
   },
   {
    "duration": 138,
    "start_time": "2025-04-21T17:26:25.815Z"
   },
   {
    "duration": 9,
    "start_time": "2025-04-21T17:26:25.955Z"
   },
   {
    "duration": 197,
    "start_time": "2025-04-21T17:26:25.967Z"
   },
   {
    "duration": 113,
    "start_time": "2025-04-21T17:26:26.165Z"
   },
   {
    "duration": 9,
    "start_time": "2025-04-21T17:26:26.280Z"
   },
   {
    "duration": 28,
    "start_time": "2025-04-21T17:26:26.291Z"
   },
   {
    "duration": 169,
    "start_time": "2025-04-21T17:26:26.321Z"
   },
   {
    "duration": 96,
    "start_time": "2025-04-21T17:26:26.492Z"
   },
   {
    "duration": 2,
    "start_time": "2025-04-21T17:26:26.590Z"
   },
   {
    "duration": 3,
    "start_time": "2025-04-21T17:26:26.594Z"
   },
   {
    "duration": 2468,
    "start_time": "2025-04-22T00:41:44.100Z"
   },
   {
    "duration": 209,
    "start_time": "2025-04-22T00:41:46.571Z"
   },
   {
    "duration": 12,
    "start_time": "2025-04-22T00:41:46.782Z"
   },
   {
    "duration": 5,
    "start_time": "2025-04-22T00:41:46.796Z"
   },
   {
    "duration": 6,
    "start_time": "2025-04-22T00:41:46.803Z"
   },
   {
    "duration": 22,
    "start_time": "2025-04-22T00:41:46.810Z"
   },
   {
    "duration": 5,
    "start_time": "2025-04-22T00:41:46.834Z"
   },
   {
    "duration": 6,
    "start_time": "2025-04-22T00:41:46.841Z"
   },
   {
    "duration": 5,
    "start_time": "2025-04-22T00:41:46.849Z"
   },
   {
    "duration": 76,
    "start_time": "2025-04-22T00:41:46.857Z"
   },
   {
    "duration": 5,
    "start_time": "2025-04-22T00:41:46.935Z"
   },
   {
    "duration": 22,
    "start_time": "2025-04-22T00:41:46.941Z"
   },
   {
    "duration": 27,
    "start_time": "2025-04-22T00:41:46.964Z"
   },
   {
    "duration": 4,
    "start_time": "2025-04-22T00:41:46.993Z"
   },
   {
    "duration": 11,
    "start_time": "2025-04-22T00:41:47.024Z"
   },
   {
    "duration": 49,
    "start_time": "2025-04-22T00:41:47.037Z"
   },
   {
    "duration": 5,
    "start_time": "2025-04-22T00:41:47.087Z"
   },
   {
    "duration": 45,
    "start_time": "2025-04-22T00:41:47.094Z"
   },
   {
    "duration": 5,
    "start_time": "2025-04-22T00:41:47.141Z"
   },
   {
    "duration": 27,
    "start_time": "2025-04-22T00:41:47.147Z"
   },
   {
    "duration": 18,
    "start_time": "2025-04-22T00:41:47.175Z"
   },
   {
    "duration": 44,
    "start_time": "2025-04-22T00:41:47.194Z"
   },
   {
    "duration": 20,
    "start_time": "2025-04-22T00:41:47.239Z"
   },
   {
    "duration": 22,
    "start_time": "2025-04-22T00:41:47.261Z"
   },
   {
    "duration": 5,
    "start_time": "2025-04-22T00:41:47.285Z"
   },
   {
    "duration": 40,
    "start_time": "2025-04-22T00:41:47.292Z"
   },
   {
    "duration": 8,
    "start_time": "2025-04-22T00:41:47.334Z"
   },
   {
    "duration": 19,
    "start_time": "2025-04-22T00:41:47.347Z"
   },
   {
    "duration": 190,
    "start_time": "2025-04-22T00:41:47.367Z"
   },
   {
    "duration": 189,
    "start_time": "2025-04-22T00:41:47.558Z"
   },
   {
    "duration": 5,
    "start_time": "2025-04-22T00:41:47.749Z"
   },
   {
    "duration": 110,
    "start_time": "2025-04-22T00:41:47.755Z"
   },
   {
    "duration": 11,
    "start_time": "2025-04-22T00:41:47.867Z"
   },
   {
    "duration": 179,
    "start_time": "2025-04-22T00:41:47.879Z"
   },
   {
    "duration": 100,
    "start_time": "2025-04-22T00:41:48.060Z"
   },
   {
    "duration": 8,
    "start_time": "2025-04-22T00:41:48.162Z"
   },
   {
    "duration": 164,
    "start_time": "2025-04-22T00:41:48.173Z"
   },
   {
    "duration": 162,
    "start_time": "2025-04-22T00:41:48.339Z"
   },
   {
    "duration": 9,
    "start_time": "2025-04-22T00:41:48.502Z"
   },
   {
    "duration": 195,
    "start_time": "2025-04-22T00:41:48.513Z"
   },
   {
    "duration": 102,
    "start_time": "2025-04-22T00:41:48.710Z"
   },
   {
    "duration": 16,
    "start_time": "2025-04-22T00:41:48.813Z"
   },
   {
    "duration": 9,
    "start_time": "2025-04-22T00:41:48.831Z"
   },
   {
    "duration": 97,
    "start_time": "2025-04-22T00:41:48.842Z"
   },
   {
    "duration": 93,
    "start_time": "2025-04-22T00:41:48.941Z"
   },
   {
    "duration": 2,
    "start_time": "2025-04-22T00:41:49.036Z"
   },
   {
    "duration": 3,
    "start_time": "2025-04-22T00:41:49.040Z"
   },
   {
    "duration": 10,
    "start_time": "2025-04-22T00:44:02.220Z"
   },
   {
    "duration": 10,
    "start_time": "2025-04-22T00:49:28.321Z"
   },
   {
    "duration": 121,
    "start_time": "2025-04-22T01:05:36.045Z"
   },
   {
    "duration": 4,
    "start_time": "2025-04-22T01:05:48.199Z"
   },
   {
    "duration": 9,
    "start_time": "2025-04-22T01:05:50.666Z"
   },
   {
    "duration": 2531,
    "start_time": "2025-04-24T17:17:38.498Z"
   },
   {
    "duration": 298,
    "start_time": "2025-04-24T17:17:41.031Z"
   },
   {
    "duration": 14,
    "start_time": "2025-04-24T17:17:41.330Z"
   },
   {
    "duration": 6,
    "start_time": "2025-04-24T17:17:41.346Z"
   },
   {
    "duration": 6,
    "start_time": "2025-04-24T17:17:41.354Z"
   },
   {
    "duration": 13,
    "start_time": "2025-04-24T17:17:41.362Z"
   },
   {
    "duration": 33,
    "start_time": "2025-04-24T17:17:41.376Z"
   },
   {
    "duration": 7,
    "start_time": "2025-04-24T17:17:41.411Z"
   },
   {
    "duration": 6,
    "start_time": "2025-04-24T17:17:41.420Z"
   },
   {
    "duration": 52,
    "start_time": "2025-04-24T17:17:41.429Z"
   },
   {
    "duration": 5,
    "start_time": "2025-04-24T17:17:41.483Z"
   },
   {
    "duration": 21,
    "start_time": "2025-04-24T17:17:41.510Z"
   },
   {
    "duration": 31,
    "start_time": "2025-04-24T17:17:41.533Z"
   },
   {
    "duration": 4,
    "start_time": "2025-04-24T17:17:41.567Z"
   },
   {
    "duration": 42,
    "start_time": "2025-04-24T17:17:41.572Z"
   },
   {
    "duration": 51,
    "start_time": "2025-04-24T17:17:41.617Z"
   },
   {
    "duration": 5,
    "start_time": "2025-04-24T17:17:41.669Z"
   },
   {
    "duration": 42,
    "start_time": "2025-04-24T17:17:41.675Z"
   },
   {
    "duration": 5,
    "start_time": "2025-04-24T17:17:41.718Z"
   },
   {
    "duration": 26,
    "start_time": "2025-04-24T17:17:41.725Z"
   },
   {
    "duration": 18,
    "start_time": "2025-04-24T17:17:41.753Z"
   },
   {
    "duration": 45,
    "start_time": "2025-04-24T17:17:41.772Z"
   },
   {
    "duration": 20,
    "start_time": "2025-04-24T17:17:41.819Z"
   },
   {
    "duration": 21,
    "start_time": "2025-04-24T17:17:41.840Z"
   },
   {
    "duration": 6,
    "start_time": "2025-04-24T17:17:41.862Z"
   },
   {
    "duration": 39,
    "start_time": "2025-04-24T17:17:41.870Z"
   },
   {
    "duration": 7,
    "start_time": "2025-04-24T17:17:41.911Z"
   },
   {
    "duration": 19,
    "start_time": "2025-04-24T17:17:41.923Z"
   },
   {
    "duration": 198,
    "start_time": "2025-04-24T17:17:41.945Z"
   },
   {
    "duration": 201,
    "start_time": "2025-04-24T17:17:42.145Z"
   },
   {
    "duration": 5,
    "start_time": "2025-04-24T17:17:42.348Z"
   },
   {
    "duration": 115,
    "start_time": "2025-04-24T17:17:42.355Z"
   },
   {
    "duration": 10,
    "start_time": "2025-04-24T17:17:42.472Z"
   },
   {
    "duration": 173,
    "start_time": "2025-04-24T17:17:42.485Z"
   },
   {
    "duration": 102,
    "start_time": "2025-04-24T17:17:42.660Z"
   },
   {
    "duration": 9,
    "start_time": "2025-04-24T17:17:42.764Z"
   },
   {
    "duration": 167,
    "start_time": "2025-04-24T17:17:42.775Z"
   },
   {
    "duration": 118,
    "start_time": "2025-04-24T17:17:42.944Z"
   },
   {
    "duration": 9,
    "start_time": "2025-04-24T17:17:43.063Z"
   },
   {
    "duration": 252,
    "start_time": "2025-04-24T17:17:43.074Z"
   },
   {
    "duration": 112,
    "start_time": "2025-04-24T17:17:43.328Z"
   },
   {
    "duration": 8,
    "start_time": "2025-04-24T17:17:43.442Z"
   },
   {
    "duration": 10,
    "start_time": "2025-04-24T17:17:43.451Z"
   },
   {
    "duration": 108,
    "start_time": "2025-04-24T17:17:43.462Z"
   },
   {
    "duration": 97,
    "start_time": "2025-04-24T17:17:43.572Z"
   },
   {
    "duration": 7,
    "start_time": "2025-04-24T17:17:43.671Z"
   },
   {
    "duration": 9,
    "start_time": "2025-04-24T17:17:43.679Z"
   },
   {
    "duration": 7,
    "start_time": "2025-04-24T17:19:33.430Z"
   },
   {
    "duration": 13,
    "start_time": "2025-04-24T17:19:37.088Z"
   },
   {
    "duration": 3,
    "start_time": "2025-04-24T17:19:43.998Z"
   },
   {
    "duration": 168,
    "start_time": "2025-04-24T17:19:44.003Z"
   },
   {
    "duration": 11,
    "start_time": "2025-04-24T17:19:44.173Z"
   },
   {
    "duration": 5,
    "start_time": "2025-04-24T17:19:44.186Z"
   },
   {
    "duration": 21,
    "start_time": "2025-04-24T17:19:44.194Z"
   },
   {
    "duration": 12,
    "start_time": "2025-04-24T17:19:44.217Z"
   },
   {
    "duration": 6,
    "start_time": "2025-04-24T17:19:44.231Z"
   },
   {
    "duration": 6,
    "start_time": "2025-04-24T17:19:44.239Z"
   },
   {
    "duration": 5,
    "start_time": "2025-04-24T17:19:44.246Z"
   },
   {
    "duration": 85,
    "start_time": "2025-04-24T17:19:44.253Z"
   },
   {
    "duration": 5,
    "start_time": "2025-04-24T17:19:44.339Z"
   },
   {
    "duration": 21,
    "start_time": "2025-04-24T17:19:44.345Z"
   },
   {
    "duration": 54,
    "start_time": "2025-04-24T17:19:44.368Z"
   },
   {
    "duration": 5,
    "start_time": "2025-04-24T17:19:44.426Z"
   },
   {
    "duration": 11,
    "start_time": "2025-04-24T17:19:44.433Z"
   },
   {
    "duration": 69,
    "start_time": "2025-04-24T17:19:44.446Z"
   },
   {
    "duration": 5,
    "start_time": "2025-04-24T17:19:44.516Z"
   },
   {
    "duration": 16,
    "start_time": "2025-04-24T17:19:44.525Z"
   },
   {
    "duration": 5,
    "start_time": "2025-04-24T17:19:44.543Z"
   },
   {
    "duration": 26,
    "start_time": "2025-04-24T17:19:44.549Z"
   },
   {
    "duration": 42,
    "start_time": "2025-04-24T17:19:44.576Z"
   },
   {
    "duration": 19,
    "start_time": "2025-04-24T17:19:44.620Z"
   },
   {
    "duration": 20,
    "start_time": "2025-04-24T17:19:44.640Z"
   },
   {
    "duration": 49,
    "start_time": "2025-04-24T17:19:44.662Z"
   },
   {
    "duration": 8,
    "start_time": "2025-04-24T17:19:44.714Z"
   },
   {
    "duration": 12,
    "start_time": "2025-04-24T17:19:44.724Z"
   },
   {
    "duration": 5,
    "start_time": "2025-04-24T17:19:44.738Z"
   },
   {
    "duration": 19,
    "start_time": "2025-04-24T17:19:44.745Z"
   },
   {
    "duration": 189,
    "start_time": "2025-04-24T17:19:44.766Z"
   },
   {
    "duration": 201,
    "start_time": "2025-04-24T17:19:44.957Z"
   },
   {
    "duration": 6,
    "start_time": "2025-04-24T17:19:45.161Z"
   },
   {
    "duration": 118,
    "start_time": "2025-04-24T17:19:45.169Z"
   },
   {
    "duration": 21,
    "start_time": "2025-04-24T17:19:45.289Z"
   },
   {
    "duration": 169,
    "start_time": "2025-04-24T17:19:45.311Z"
   },
   {
    "duration": 106,
    "start_time": "2025-04-24T17:19:45.482Z"
   },
   {
    "duration": 9,
    "start_time": "2025-04-24T17:19:45.589Z"
   },
   {
    "duration": 165,
    "start_time": "2025-04-24T17:19:45.609Z"
   },
   {
    "duration": 179,
    "start_time": "2025-04-24T17:19:45.776Z"
   },
   {
    "duration": 8,
    "start_time": "2025-04-24T17:19:45.957Z"
   },
   {
    "duration": 188,
    "start_time": "2025-04-24T17:19:45.967Z"
   },
   {
    "duration": 104,
    "start_time": "2025-04-24T17:19:46.160Z"
   },
   {
    "duration": 9,
    "start_time": "2025-04-24T17:19:46.265Z"
   },
   {
    "duration": 10,
    "start_time": "2025-04-24T17:19:46.276Z"
   },
   {
    "duration": 105,
    "start_time": "2025-04-24T17:19:46.288Z"
   },
   {
    "duration": 100,
    "start_time": "2025-04-24T17:19:46.395Z"
   },
   {
    "duration": 8,
    "start_time": "2025-04-24T17:19:46.503Z"
   },
   {
    "duration": 12,
    "start_time": "2025-04-24T17:19:46.513Z"
   },
   {
    "duration": 641,
    "start_time": "2025-04-24T17:22:31.866Z"
   },
   {
    "duration": 4,
    "start_time": "2025-04-24T17:22:43.810Z"
   },
   {
    "duration": 7,
    "start_time": "2025-04-24T18:10:56.648Z"
   },
   {
    "duration": 15,
    "start_time": "2025-04-24T18:11:56.458Z"
   },
   {
    "duration": 4,
    "start_time": "2025-04-24T18:12:11.228Z"
   },
   {
    "duration": 4,
    "start_time": "2025-04-24T18:13:00.872Z"
   },
   {
    "duration": 2,
    "start_time": "2025-04-24T18:13:04.666Z"
   },
   {
    "duration": 165,
    "start_time": "2025-04-24T18:13:04.670Z"
   },
   {
    "duration": 10,
    "start_time": "2025-04-24T18:13:04.837Z"
   },
   {
    "duration": 5,
    "start_time": "2025-04-24T18:13:04.849Z"
   },
   {
    "duration": 5,
    "start_time": "2025-04-24T18:13:04.857Z"
   },
   {
    "duration": 10,
    "start_time": "2025-04-24T18:13:04.864Z"
   },
   {
    "duration": 4,
    "start_time": "2025-04-24T18:13:04.876Z"
   },
   {
    "duration": 32,
    "start_time": "2025-04-24T18:13:04.882Z"
   },
   {
    "duration": 5,
    "start_time": "2025-04-24T18:13:04.915Z"
   },
   {
    "duration": 48,
    "start_time": "2025-04-24T18:13:04.922Z"
   },
   {
    "duration": 4,
    "start_time": "2025-04-24T18:13:04.972Z"
   },
   {
    "duration": 43,
    "start_time": "2025-04-24T18:13:04.978Z"
   },
   {
    "duration": 30,
    "start_time": "2025-04-24T18:13:05.023Z"
   },
   {
    "duration": 4,
    "start_time": "2025-04-24T18:13:05.056Z"
   },
   {
    "duration": 12,
    "start_time": "2025-04-24T18:13:05.062Z"
   },
   {
    "duration": 73,
    "start_time": "2025-04-24T18:13:05.076Z"
   },
   {
    "duration": 4,
    "start_time": "2025-04-24T18:13:05.151Z"
   },
   {
    "duration": 17,
    "start_time": "2025-04-24T18:13:05.157Z"
   },
   {
    "duration": 5,
    "start_time": "2025-04-24T18:13:05.176Z"
   },
   {
    "duration": 27,
    "start_time": "2025-04-24T18:13:05.210Z"
   },
   {
    "duration": 16,
    "start_time": "2025-04-24T18:13:05.239Z"
   },
   {
    "duration": 19,
    "start_time": "2025-04-24T18:13:05.258Z"
   },
   {
    "duration": 48,
    "start_time": "2025-04-24T18:13:05.279Z"
   },
   {
    "duration": 20,
    "start_time": "2025-04-24T18:13:05.329Z"
   },
   {
    "duration": 6,
    "start_time": "2025-04-24T18:13:05.351Z"
   },
   {
    "duration": 12,
    "start_time": "2025-04-24T18:13:05.359Z"
   },
   {
    "duration": 36,
    "start_time": "2025-04-24T18:13:05.373Z"
   },
   {
    "duration": 22,
    "start_time": "2025-04-24T18:13:05.410Z"
   },
   {
    "duration": 179,
    "start_time": "2025-04-24T18:13:05.434Z"
   },
   {
    "duration": 189,
    "start_time": "2025-04-24T18:13:05.614Z"
   },
   {
    "duration": 6,
    "start_time": "2025-04-24T18:13:05.805Z"
   },
   {
    "duration": 111,
    "start_time": "2025-04-24T18:13:05.813Z"
   },
   {
    "duration": 11,
    "start_time": "2025-04-24T18:13:05.925Z"
   },
   {
    "duration": 176,
    "start_time": "2025-04-24T18:13:05.938Z"
   },
   {
    "duration": 103,
    "start_time": "2025-04-24T18:13:06.116Z"
   },
   {
    "duration": 8,
    "start_time": "2025-04-24T18:13:06.220Z"
   },
   {
    "duration": 166,
    "start_time": "2025-04-24T18:13:06.230Z"
   },
   {
    "duration": 118,
    "start_time": "2025-04-24T18:13:06.397Z"
   },
   {
    "duration": 10,
    "start_time": "2025-04-24T18:13:06.517Z"
   },
   {
    "duration": 197,
    "start_time": "2025-04-24T18:13:06.529Z"
   },
   {
    "duration": 108,
    "start_time": "2025-04-24T18:13:06.730Z"
   },
   {
    "duration": 9,
    "start_time": "2025-04-24T18:13:06.840Z"
   },
   {
    "duration": 10,
    "start_time": "2025-04-24T18:13:06.850Z"
   },
   {
    "duration": 110,
    "start_time": "2025-04-24T18:13:06.861Z"
   },
   {
    "duration": 92,
    "start_time": "2025-04-24T18:13:06.973Z"
   },
   {
    "duration": 569,
    "start_time": "2025-04-24T18:13:07.067Z"
   },
   {
    "duration": 0,
    "start_time": "2025-04-24T18:13:07.638Z"
   },
   {
    "duration": 6,
    "start_time": "2025-04-24T18:52:06.354Z"
   },
   {
    "duration": 110,
    "start_time": "2025-04-24T18:53:09.568Z"
   },
   {
    "duration": 5,
    "start_time": "2025-04-24T18:53:53.125Z"
   },
   {
    "duration": 5,
    "start_time": "2025-04-24T18:54:02.106Z"
   },
   {
    "duration": 624,
    "start_time": "2025-04-24T18:57:23.828Z"
   },
   {
    "duration": 81,
    "start_time": "2025-04-24T18:58:33.837Z"
   },
   {
    "duration": 6,
    "start_time": "2025-04-24T19:00:37.062Z"
   },
   {
    "duration": 7,
    "start_time": "2025-04-24T19:03:31.161Z"
   },
   {
    "duration": 7,
    "start_time": "2025-04-24T19:03:44.408Z"
   },
   {
    "duration": 7,
    "start_time": "2025-04-24T19:06:25.804Z"
   },
   {
    "duration": 7,
    "start_time": "2025-04-24T19:09:11.470Z"
   },
   {
    "duration": 10,
    "start_time": "2025-04-24T19:10:38.061Z"
   },
   {
    "duration": 8,
    "start_time": "2025-04-24T19:11:47.446Z"
   },
   {
    "duration": 4,
    "start_time": "2025-04-24T19:19:40.385Z"
   },
   {
    "duration": 1496,
    "start_time": "2025-04-25T11:23:35.844Z"
   },
   {
    "duration": 481,
    "start_time": "2025-04-25T11:23:37.343Z"
   },
   {
    "duration": 13,
    "start_time": "2025-04-25T11:23:37.826Z"
   },
   {
    "duration": 8,
    "start_time": "2025-04-25T11:23:37.842Z"
   },
   {
    "duration": 7,
    "start_time": "2025-04-25T11:23:37.852Z"
   },
   {
    "duration": 75,
    "start_time": "2025-04-25T11:23:37.861Z"
   },
   {
    "duration": 6,
    "start_time": "2025-04-25T11:23:37.938Z"
   },
   {
    "duration": 7,
    "start_time": "2025-04-25T11:23:37.946Z"
   },
   {
    "duration": 4,
    "start_time": "2025-04-25T11:23:37.955Z"
   },
   {
    "duration": 191,
    "start_time": "2025-04-25T11:23:37.963Z"
   },
   {
    "duration": 7,
    "start_time": "2025-04-25T11:23:38.156Z"
   },
   {
    "duration": 30,
    "start_time": "2025-04-25T11:23:38.225Z"
   },
   {
    "duration": 87,
    "start_time": "2025-04-25T11:23:38.257Z"
   },
   {
    "duration": 6,
    "start_time": "2025-04-25T11:23:38.346Z"
   },
   {
    "duration": 72,
    "start_time": "2025-04-25T11:23:38.354Z"
   },
   {
    "duration": 118,
    "start_time": "2025-04-25T11:23:38.428Z"
   },
   {
    "duration": 5,
    "start_time": "2025-04-25T11:23:38.548Z"
   },
   {
    "duration": 77,
    "start_time": "2025-04-25T11:23:38.555Z"
   },
   {
    "duration": 5,
    "start_time": "2025-04-25T11:23:38.634Z"
   },
   {
    "duration": 91,
    "start_time": "2025-04-25T11:23:38.641Z"
   },
   {
    "duration": 24,
    "start_time": "2025-04-25T11:23:38.734Z"
   },
   {
    "duration": 79,
    "start_time": "2025-04-25T11:23:38.760Z"
   },
   {
    "duration": 19,
    "start_time": "2025-04-25T11:23:38.841Z"
   },
   {
    "duration": 80,
    "start_time": "2025-04-25T11:23:38.862Z"
   },
   {
    "duration": 7,
    "start_time": "2025-04-25T11:23:38.944Z"
   },
   {
    "duration": 71,
    "start_time": "2025-04-25T11:23:38.952Z"
   },
   {
    "duration": 8,
    "start_time": "2025-04-25T11:23:39.026Z"
   },
   {
    "duration": 21,
    "start_time": "2025-04-25T11:23:39.038Z"
   },
   {
    "duration": 405,
    "start_time": "2025-04-25T11:23:39.124Z"
   },
   {
    "duration": 423,
    "start_time": "2025-04-25T11:23:39.532Z"
   },
   {
    "duration": 6,
    "start_time": "2025-04-25T11:23:39.957Z"
   },
   {
    "duration": 462,
    "start_time": "2025-04-25T11:23:39.965Z"
   },
   {
    "duration": 13,
    "start_time": "2025-04-25T11:23:40.429Z"
   },
   {
    "duration": 797,
    "start_time": "2025-04-25T11:23:40.445Z"
   },
   {
    "duration": 302,
    "start_time": "2025-04-25T11:23:41.246Z"
   },
   {
    "duration": 81,
    "start_time": "2025-04-25T11:23:41.551Z"
   },
   {
    "duration": 593,
    "start_time": "2025-04-25T11:23:41.634Z"
   },
   {
    "duration": 235,
    "start_time": "2025-04-25T11:23:42.231Z"
   },
   {
    "duration": 65,
    "start_time": "2025-04-25T11:23:42.468Z"
   },
   {
    "duration": 792,
    "start_time": "2025-04-25T11:23:42.535Z"
   },
   {
    "duration": 322,
    "start_time": "2025-04-25T11:23:43.329Z"
   },
   {
    "duration": 80,
    "start_time": "2025-04-25T11:23:43.653Z"
   },
   {
    "duration": 12,
    "start_time": "2025-04-25T11:23:43.734Z"
   },
   {
    "duration": 388,
    "start_time": "2025-04-25T11:23:43.748Z"
   },
   {
    "duration": 304,
    "start_time": "2025-04-25T11:23:44.139Z"
   },
   {
    "duration": 5,
    "start_time": "2025-04-25T11:23:44.446Z"
   },
   {
    "duration": 10,
    "start_time": "2025-04-25T11:23:44.528Z"
   },
   {
    "duration": 161,
    "start_time": "2025-04-25T18:29:49.483Z"
   },
   {
    "duration": 2716,
    "start_time": "2025-04-25T18:29:57.974Z"
   },
   {
    "duration": 236,
    "start_time": "2025-04-25T18:30:00.693Z"
   },
   {
    "duration": 14,
    "start_time": "2025-04-25T18:30:00.930Z"
   },
   {
    "duration": 8,
    "start_time": "2025-04-25T18:30:00.947Z"
   },
   {
    "duration": 6,
    "start_time": "2025-04-25T18:30:00.957Z"
   },
   {
    "duration": 12,
    "start_time": "2025-04-25T18:30:00.965Z"
   },
   {
    "duration": 30,
    "start_time": "2025-04-25T18:30:00.979Z"
   },
   {
    "duration": 7,
    "start_time": "2025-04-25T18:30:01.011Z"
   },
   {
    "duration": 4,
    "start_time": "2025-04-25T18:30:01.020Z"
   },
   {
    "duration": 54,
    "start_time": "2025-04-25T18:30:01.027Z"
   },
   {
    "duration": 29,
    "start_time": "2025-04-25T18:30:01.083Z"
   },
   {
    "duration": 21,
    "start_time": "2025-04-25T18:30:01.114Z"
   },
   {
    "duration": 29,
    "start_time": "2025-04-25T18:30:01.137Z"
   },
   {
    "duration": 5,
    "start_time": "2025-04-25T18:30:01.167Z"
   },
   {
    "duration": 36,
    "start_time": "2025-04-25T18:30:01.173Z"
   },
   {
    "duration": 50,
    "start_time": "2025-04-25T18:30:01.211Z"
   },
   {
    "duration": 4,
    "start_time": "2025-04-25T18:30:01.263Z"
   },
   {
    "duration": 41,
    "start_time": "2025-04-25T18:30:01.269Z"
   },
   {
    "duration": 5,
    "start_time": "2025-04-25T18:30:01.312Z"
   },
   {
    "duration": 28,
    "start_time": "2025-04-25T18:30:01.318Z"
   },
   {
    "duration": 20,
    "start_time": "2025-04-25T18:30:01.348Z"
   },
   {
    "duration": 47,
    "start_time": "2025-04-25T18:30:01.370Z"
   },
   {
    "duration": 20,
    "start_time": "2025-04-25T18:30:01.421Z"
   },
   {
    "duration": 22,
    "start_time": "2025-04-25T18:30:01.443Z"
   },
   {
    "duration": 7,
    "start_time": "2025-04-25T18:30:01.466Z"
   },
   {
    "duration": 45,
    "start_time": "2025-04-25T18:30:01.474Z"
   },
   {
    "duration": 6,
    "start_time": "2025-04-25T18:30:01.522Z"
   },
   {
    "duration": 20,
    "start_time": "2025-04-25T18:30:01.532Z"
   },
   {
    "duration": 274,
    "start_time": "2025-04-25T18:30:01.555Z"
   },
   {
    "duration": 205,
    "start_time": "2025-04-25T18:30:01.831Z"
   },
   {
    "duration": 5,
    "start_time": "2025-04-25T18:30:02.038Z"
   },
   {
    "duration": 116,
    "start_time": "2025-04-25T18:30:02.046Z"
   },
   {
    "duration": 11,
    "start_time": "2025-04-25T18:30:02.164Z"
   },
   {
    "duration": 199,
    "start_time": "2025-04-25T18:30:02.177Z"
   },
   {
    "duration": 110,
    "start_time": "2025-04-25T18:30:02.378Z"
   },
   {
    "duration": 22,
    "start_time": "2025-04-25T18:30:02.489Z"
   },
   {
    "duration": 171,
    "start_time": "2025-04-25T18:30:02.512Z"
   },
   {
    "duration": 124,
    "start_time": "2025-04-25T18:30:02.685Z"
   },
   {
    "duration": 9,
    "start_time": "2025-04-25T18:30:02.813Z"
   },
   {
    "duration": 188,
    "start_time": "2025-04-25T18:30:02.824Z"
   },
   {
    "duration": 113,
    "start_time": "2025-04-25T18:30:03.014Z"
   },
   {
    "duration": 9,
    "start_time": "2025-04-25T18:30:03.129Z"
   },
   {
    "duration": 10,
    "start_time": "2025-04-25T18:30:03.140Z"
   },
   {
    "duration": 113,
    "start_time": "2025-04-25T18:30:03.152Z"
   },
   {
    "duration": 100,
    "start_time": "2025-04-25T18:30:03.266Z"
   },
   {
    "duration": 4,
    "start_time": "2025-04-25T18:30:03.368Z"
   },
   {
    "duration": 8,
    "start_time": "2025-04-25T18:30:03.374Z"
   },
   {
    "duration": 9,
    "start_time": "2025-04-25T18:30:32.186Z"
   },
   {
    "duration": 16,
    "start_time": "2025-04-25T18:30:42.735Z"
   },
   {
    "duration": 12,
    "start_time": "2025-04-25T18:30:45.875Z"
   },
   {
    "duration": 9,
    "start_time": "2025-04-25T18:30:50.166Z"
   },
   {
    "duration": 7,
    "start_time": "2025-04-25T18:31:02.111Z"
   },
   {
    "duration": 10,
    "start_time": "2025-04-25T18:31:19.763Z"
   },
   {
    "duration": 111,
    "start_time": "2025-04-25T18:31:28.474Z"
   },
   {
    "duration": 6,
    "start_time": "2025-04-25T18:31:44.880Z"
   },
   {
    "duration": 7,
    "start_time": "2025-04-25T18:32:01.171Z"
   },
   {
    "duration": 16,
    "start_time": "2025-04-25T18:32:08.070Z"
   },
   {
    "duration": 7,
    "start_time": "2025-04-25T18:32:31.131Z"
   },
   {
    "duration": 28,
    "start_time": "2025-04-25T18:32:40.367Z"
   },
   {
    "duration": 21,
    "start_time": "2025-04-25T18:32:44.023Z"
   },
   {
    "duration": 23,
    "start_time": "2025-04-25T18:32:49.651Z"
   },
   {
    "duration": 23,
    "start_time": "2025-04-25T18:32:54.409Z"
   },
   {
    "duration": 25,
    "start_time": "2025-04-25T18:33:04.223Z"
   },
   {
    "duration": 15,
    "start_time": "2025-04-25T18:33:21.700Z"
   },
   {
    "duration": 30,
    "start_time": "2025-04-25T18:33:30.906Z"
   },
   {
    "duration": 3,
    "start_time": "2025-04-25T18:35:57.511Z"
   },
   {
    "duration": 174,
    "start_time": "2025-04-25T18:35:57.517Z"
   },
   {
    "duration": 11,
    "start_time": "2025-04-25T18:35:57.693Z"
   },
   {
    "duration": 7,
    "start_time": "2025-04-25T18:35:57.710Z"
   },
   {
    "duration": 8,
    "start_time": "2025-04-25T18:35:57.719Z"
   },
   {
    "duration": 12,
    "start_time": "2025-04-25T18:35:57.728Z"
   },
   {
    "duration": 9,
    "start_time": "2025-04-25T18:35:57.743Z"
   },
   {
    "duration": 8,
    "start_time": "2025-04-25T18:35:57.754Z"
   },
   {
    "duration": 46,
    "start_time": "2025-04-25T18:35:57.764Z"
   },
   {
    "duration": 63,
    "start_time": "2025-04-25T18:35:57.814Z"
   },
   {
    "duration": 7,
    "start_time": "2025-04-25T18:35:57.879Z"
   },
   {
    "duration": 42,
    "start_time": "2025-04-25T18:35:57.888Z"
   },
   {
    "duration": 29,
    "start_time": "2025-04-25T18:35:57.933Z"
   },
   {
    "duration": 7,
    "start_time": "2025-04-25T18:35:57.964Z"
   },
   {
    "duration": 42,
    "start_time": "2025-04-25T18:35:57.972Z"
   },
   {
    "duration": 57,
    "start_time": "2025-04-25T18:35:58.018Z"
   },
   {
    "duration": 8,
    "start_time": "2025-04-25T18:35:58.076Z"
   },
   {
    "duration": 36,
    "start_time": "2025-04-25T18:35:58.085Z"
   },
   {
    "duration": 8,
    "start_time": "2025-04-25T18:35:58.123Z"
   },
   {
    "duration": 32,
    "start_time": "2025-04-25T18:35:58.133Z"
   },
   {
    "duration": 49,
    "start_time": "2025-04-25T18:35:58.167Z"
   },
   {
    "duration": 23,
    "start_time": "2025-04-25T18:35:58.217Z"
   },
   {
    "duration": 22,
    "start_time": "2025-04-25T18:35:58.242Z"
   },
   {
    "duration": 53,
    "start_time": "2025-04-25T18:35:58.266Z"
   },
   {
    "duration": 8,
    "start_time": "2025-04-25T18:35:58.320Z"
   },
   {
    "duration": 16,
    "start_time": "2025-04-25T18:35:58.330Z"
   },
   {
    "duration": 5,
    "start_time": "2025-04-25T18:35:58.348Z"
   },
   {
    "duration": 58,
    "start_time": "2025-04-25T18:35:58.356Z"
   },
   {
    "duration": 183,
    "start_time": "2025-04-25T18:35:58.416Z"
   },
   {
    "duration": 193,
    "start_time": "2025-04-25T18:35:58.609Z"
   },
   {
    "duration": 12,
    "start_time": "2025-04-25T18:35:58.808Z"
   },
   {
    "duration": 107,
    "start_time": "2025-04-25T18:35:58.822Z"
   },
   {
    "duration": 11,
    "start_time": "2025-04-25T18:35:58.932Z"
   },
   {
    "duration": 195,
    "start_time": "2025-04-25T18:35:58.945Z"
   },
   {
    "duration": 109,
    "start_time": "2025-04-25T18:35:59.142Z"
   },
   {
    "duration": 10,
    "start_time": "2025-04-25T18:35:59.253Z"
   },
   {
    "duration": 194,
    "start_time": "2025-04-25T18:35:59.264Z"
   },
   {
    "duration": 130,
    "start_time": "2025-04-25T18:35:59.461Z"
   },
   {
    "duration": 19,
    "start_time": "2025-04-25T18:35:59.593Z"
   },
   {
    "duration": 192,
    "start_time": "2025-04-25T18:35:59.614Z"
   },
   {
    "duration": 195,
    "start_time": "2025-04-25T18:35:59.809Z"
   },
   {
    "duration": 8,
    "start_time": "2025-04-25T18:36:00.010Z"
   },
   {
    "duration": 10,
    "start_time": "2025-04-25T18:36:00.020Z"
   },
   {
    "duration": 109,
    "start_time": "2025-04-25T18:36:00.032Z"
   },
   {
    "duration": 99,
    "start_time": "2025-04-25T18:36:00.143Z"
   },
   {
    "duration": 4,
    "start_time": "2025-04-25T18:36:00.244Z"
   },
   {
    "duration": 7,
    "start_time": "2025-04-25T18:36:00.250Z"
   },
   {
    "duration": 3,
    "start_time": "2025-04-25T18:38:02.753Z"
   },
   {
    "duration": 157,
    "start_time": "2025-04-25T18:38:02.758Z"
   },
   {
    "duration": 11,
    "start_time": "2025-04-25T18:38:02.917Z"
   },
   {
    "duration": 8,
    "start_time": "2025-04-25T18:38:02.930Z"
   },
   {
    "duration": 8,
    "start_time": "2025-04-25T18:38:02.940Z"
   },
   {
    "duration": 12,
    "start_time": "2025-04-25T18:38:02.949Z"
   },
   {
    "duration": 7,
    "start_time": "2025-04-25T18:38:02.963Z"
   },
   {
    "duration": 6,
    "start_time": "2025-04-25T18:38:02.972Z"
   },
   {
    "duration": 6,
    "start_time": "2025-04-25T18:38:03.009Z"
   },
   {
    "duration": 52,
    "start_time": "2025-04-25T18:38:03.017Z"
   },
   {
    "duration": 8,
    "start_time": "2025-04-25T18:38:03.072Z"
   },
   {
    "duration": 47,
    "start_time": "2025-04-25T18:38:03.082Z"
   },
   {
    "duration": 30,
    "start_time": "2025-04-25T18:38:03.132Z"
   },
   {
    "duration": 6,
    "start_time": "2025-04-25T18:38:03.164Z"
   },
   {
    "duration": 12,
    "start_time": "2025-04-25T18:38:03.172Z"
   },
   {
    "duration": 48,
    "start_time": "2025-04-25T18:38:03.209Z"
   },
   {
    "duration": 6,
    "start_time": "2025-04-25T18:38:03.259Z"
   },
   {
    "duration": 18,
    "start_time": "2025-04-25T18:38:03.267Z"
   },
   {
    "duration": 28,
    "start_time": "2025-04-25T18:38:03.286Z"
   },
   {
    "duration": 31,
    "start_time": "2025-04-25T18:38:03.315Z"
   },
   {
    "duration": 16,
    "start_time": "2025-04-25T18:38:03.348Z"
   },
   {
    "duration": 54,
    "start_time": "2025-04-25T18:38:03.367Z"
   },
   {
    "duration": 25,
    "start_time": "2025-04-25T18:38:03.423Z"
   },
   {
    "duration": 29,
    "start_time": "2025-04-25T18:38:03.449Z"
   },
   {
    "duration": 29,
    "start_time": "2025-04-25T18:38:03.480Z"
   },
   {
    "duration": 19,
    "start_time": "2025-04-25T18:38:03.511Z"
   },
   {
    "duration": 6,
    "start_time": "2025-04-25T18:38:03.532Z"
   },
   {
    "duration": 27,
    "start_time": "2025-04-25T18:38:03.539Z"
   },
   {
    "duration": 192,
    "start_time": "2025-04-25T18:38:03.571Z"
   },
   {
    "duration": 192,
    "start_time": "2025-04-25T18:38:03.765Z"
   },
   {
    "duration": 5,
    "start_time": "2025-04-25T18:38:03.959Z"
   },
   {
    "duration": 113,
    "start_time": "2025-04-25T18:38:03.966Z"
   },
   {
    "duration": 10,
    "start_time": "2025-04-25T18:38:04.081Z"
   },
   {
    "duration": 186,
    "start_time": "2025-04-25T18:38:04.093Z"
   },
   {
    "duration": 110,
    "start_time": "2025-04-25T18:38:04.281Z"
   },
   {
    "duration": 16,
    "start_time": "2025-04-25T18:38:04.393Z"
   },
   {
    "duration": 168,
    "start_time": "2025-04-25T18:38:04.411Z"
   },
   {
    "duration": 115,
    "start_time": "2025-04-25T18:38:04.581Z"
   },
   {
    "duration": 13,
    "start_time": "2025-04-25T18:38:04.698Z"
   },
   {
    "duration": 180,
    "start_time": "2025-04-25T18:38:04.712Z"
   },
   {
    "duration": 183,
    "start_time": "2025-04-25T18:38:04.894Z"
   },
   {
    "duration": 8,
    "start_time": "2025-04-25T18:38:05.079Z"
   },
   {
    "duration": 20,
    "start_time": "2025-04-25T18:38:05.089Z"
   },
   {
    "duration": 101,
    "start_time": "2025-04-25T18:38:05.111Z"
   },
   {
    "duration": 99,
    "start_time": "2025-04-25T18:38:05.214Z"
   },
   {
    "duration": 4,
    "start_time": "2025-04-25T18:38:05.315Z"
   },
   {
    "duration": 8,
    "start_time": "2025-04-25T18:38:05.321Z"
   },
   {
    "duration": 9,
    "start_time": "2025-04-25T18:41:00.464Z"
   },
   {
    "duration": 25,
    "start_time": "2025-04-25T18:56:46.239Z"
   },
   {
    "duration": 3,
    "start_time": "2025-04-25T18:56:48.787Z"
   },
   {
    "duration": 178,
    "start_time": "2025-04-25T18:56:48.794Z"
   },
   {
    "duration": 11,
    "start_time": "2025-04-25T18:56:48.975Z"
   },
   {
    "duration": 8,
    "start_time": "2025-04-25T18:56:48.988Z"
   },
   {
    "duration": 19,
    "start_time": "2025-04-25T18:56:48.997Z"
   },
   {
    "duration": 11,
    "start_time": "2025-04-25T18:56:49.020Z"
   },
   {
    "duration": 8,
    "start_time": "2025-04-25T18:56:49.033Z"
   },
   {
    "duration": 6,
    "start_time": "2025-04-25T18:56:49.042Z"
   },
   {
    "duration": 7,
    "start_time": "2025-04-25T18:56:49.049Z"
   },
   {
    "duration": 90,
    "start_time": "2025-04-25T18:56:49.057Z"
   },
   {
    "duration": 8,
    "start_time": "2025-04-25T18:56:49.149Z"
   },
   {
    "duration": 22,
    "start_time": "2025-04-25T18:56:49.158Z"
   },
   {
    "duration": 46,
    "start_time": "2025-04-25T18:56:49.182Z"
   },
   {
    "duration": 6,
    "start_time": "2025-04-25T18:56:49.230Z"
   },
   {
    "duration": 11,
    "start_time": "2025-04-25T18:56:49.241Z"
   },
   {
    "duration": 78,
    "start_time": "2025-04-25T18:56:49.253Z"
   },
   {
    "duration": 7,
    "start_time": "2025-04-25T18:56:49.332Z"
   },
   {
    "duration": 18,
    "start_time": "2025-04-25T18:56:49.341Z"
   },
   {
    "duration": 8,
    "start_time": "2025-04-25T18:56:49.361Z"
   },
   {
    "duration": 54,
    "start_time": "2025-04-25T18:56:49.370Z"
   },
   {
    "duration": 22,
    "start_time": "2025-04-25T18:56:49.427Z"
   },
   {
    "duration": 25,
    "start_time": "2025-04-25T18:56:49.451Z"
   },
   {
    "duration": 50,
    "start_time": "2025-04-25T18:56:49.477Z"
   },
   {
    "duration": 26,
    "start_time": "2025-04-25T18:56:49.529Z"
   },
   {
    "duration": 6,
    "start_time": "2025-04-25T18:56:49.556Z"
   },
   {
    "duration": 16,
    "start_time": "2025-04-25T18:56:49.564Z"
   },
   {
    "duration": 7,
    "start_time": "2025-04-25T18:56:49.608Z"
   },
   {
    "duration": 29,
    "start_time": "2025-04-25T18:56:49.616Z"
   },
   {
    "duration": 192,
    "start_time": "2025-04-25T18:56:49.647Z"
   },
   {
    "duration": 203,
    "start_time": "2025-04-25T18:56:49.841Z"
   },
   {
    "duration": 5,
    "start_time": "2025-04-25T18:56:50.046Z"
   },
   {
    "duration": 113,
    "start_time": "2025-04-25T18:56:50.053Z"
   },
   {
    "duration": 12,
    "start_time": "2025-04-25T18:56:50.169Z"
   },
   {
    "duration": 186,
    "start_time": "2025-04-25T18:56:50.183Z"
   },
   {
    "duration": 104,
    "start_time": "2025-04-25T18:56:50.371Z"
   },
   {
    "duration": 9,
    "start_time": "2025-04-25T18:56:50.477Z"
   },
   {
    "duration": 167,
    "start_time": "2025-04-25T18:56:50.488Z"
   },
   {
    "duration": 116,
    "start_time": "2025-04-25T18:56:50.657Z"
   },
   {
    "duration": 8,
    "start_time": "2025-04-25T18:56:50.775Z"
   },
   {
    "duration": 196,
    "start_time": "2025-04-25T18:56:50.785Z"
   },
   {
    "duration": 190,
    "start_time": "2025-04-25T18:56:50.984Z"
   },
   {
    "duration": 9,
    "start_time": "2025-04-25T18:56:51.180Z"
   },
   {
    "duration": 27,
    "start_time": "2025-04-25T18:56:51.191Z"
   },
   {
    "duration": 108,
    "start_time": "2025-04-25T18:56:51.220Z"
   },
   {
    "duration": 103,
    "start_time": "2025-04-25T18:56:51.330Z"
   },
   {
    "duration": 5,
    "start_time": "2025-04-25T18:56:51.435Z"
   },
   {
    "duration": 9,
    "start_time": "2025-04-25T18:56:51.441Z"
   },
   {
    "duration": 765,
    "start_time": "2025-05-10T00:13:34.367Z"
   }
  ],
  "colab": {
   "provenance": []
  },
  "kernelspec": {
   "display_name": "Python 3 (ipykernel)",
   "language": "python",
   "name": "python3"
  },
  "language_info": {
   "codemirror_mode": {
    "name": "ipython",
    "version": 3
   },
   "file_extension": ".py",
   "mimetype": "text/x-python",
   "name": "python",
   "nbconvert_exporter": "python",
   "pygments_lexer": "ipython3",
   "version": "3.9.19"
  },
  "toc": {
   "base_numbering": 1,
   "nav_menu": {},
   "number_sections": true,
   "sideBar": true,
   "skip_h1_title": false,
   "title_cell": "Table of Contents",
   "title_sidebar": "Contents",
   "toc_cell": false,
   "toc_position": {
    "height": "calc(100% - 180px)",
    "left": "10px",
    "top": "150px",
    "width": "338.299px"
   },
   "toc_section_display": true,
   "toc_window_display": true
  }
 },
 "nbformat": 4,
 "nbformat_minor": 1
}
